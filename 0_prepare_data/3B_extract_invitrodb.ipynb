{
 "cells": [
  {
   "cell_type": "markdown",
   "metadata": {},
   "source": [
    "# Extract data from invitrodb "
   ]
  },
  {
   "cell_type": "code",
   "execution_count": 1,
   "metadata": {},
   "outputs": [],
   "source": [
    "from sqlalchemy import create_engine, inspect, text\n",
    "import polars as pl\n",
    "import gc"
   ]
  },
  {
   "cell_type": "code",
   "execution_count": null,
   "metadata": {},
   "outputs": [],
   "source": [
    "# 'intended target family' would be a cool way to subset the cell-free assay types\n",
    "# cell-free assays don't have paired viability assays (doesn't make sense for cellfree)\n",
    "# use \"cell_viability_assay\", not \"burst_assay\" because burst_assay misses some\n",
    "# Level 4 has the min / max concentration, plus number of concentrations tested\n",
    "\n",
    "# 1:1 relationship between components and endpoints (yay)\n",
    "# DECISION: treat bidirectional assays the same, with the motivation from MorphMap that knock-down/overexpression phenotypes are positively correlated\n"
   ]
  },
  {
   "cell_type": "markdown",
   "metadata": {},
   "source": [
    "## Get assay and endpoint information"
   ]
  },
  {
   "cell_type": "code",
   "execution_count": 327,
   "metadata": {},
   "outputs": [
    {
     "name": "stdout",
     "output_type": "stream",
     "text": [
      "(623, 18)\n"
     ]
    }
   ],
   "source": [
    "# Get assays of interest\n",
    "engine = create_engine(\"mysql+pymysql://root@localhost/prod_internal_invitrodb_v4_1\")\n",
    "\n",
    "with engine.connect() as connection:\n",
    "    result = connection.execute(text(\"SELECT * FROM assay\"))\n",
    "    column_names = result.keys()\n",
    "    rows = result.fetchall()\n",
    "    rows = [list(row) for row in rows]\n",
    "    assay = pl.DataFrame(rows, schema=column_names)\n",
    "\n",
    "print(assay.shape)\n",
    "\n",
    "assay = assay.filter(pl.col(\"cell_format\") != \"whole embryo\")\n",
    "assay = assay.filter(pl.col(\"organism\") == \"human\")\n",
    "cell_assay = assay.filter(pl.col(\"cell_format\").is_in([\"cell-based\", \"cell line\", \"primary cell\", \"secondary cell\", \"primary cell co-culture\"]))\n",
    "cellfree_assay = assay.filter(pl.col(\"cell_format\").is_in([\"tissue-based cell-free\", \"cell-free\"]))\n",
    "\n",
    "# remove follow-up experiments\n",
    "cellfree_assay = cellfree_assay.filter(~pl.col(\"assay_name\").str.contains(\"Followup\"))\n",
    "cell_assay = cell_assay.filter(~pl.col(\"assay_name\").str.contains(\"Followup\"))\n",
    "cell_assay = cell_assay.filter(~pl.col(\"assay_name\").str.contains(\"TRANS\"))\n",
    "cell_assay = cell_assay.filter(~pl.col(\"assay_name\").str.contains(\"EcoTox\"))\n",
    "\n",
    "cell_assay = cell_assay.filter(~pl.col(\"assay_name\").is_in([\n",
    "    \"CLD_6hr\", \"CLD_24hr\", \"APR_HepG2_1hr\", \"APR_HepG2_72hr\"]\n",
    "    ))\n",
    "\n",
    "# get aid lists\n",
    "cell_aid = cell_assay.select(\"aid\").to_series().unique().to_list()\n",
    "cellfree_aid = cellfree_assay.select(\"aid\").to_series().unique().to_list()\n",
    "\n",
    "assay_keep = [\"aid\", \"timepoint_hr\", \"cell_format\", \"tissue\", \"cell_short_name\"]\n",
    "cell_assay = cell_assay.select(assay_keep)\n",
    "cellfree_assay = cellfree_assay.select(assay_keep)"
   ]
  },
  {
   "cell_type": "code",
   "execution_count": 328,
   "metadata": {},
   "outputs": [],
   "source": [
    "# Get assay components of interest\n",
    "engine = create_engine(\"mysql+pymysql://root@localhost/prod_internal_invitrodb_v4_1\")\n",
    "\n",
    "with engine.connect() as connection:\n",
    "    result = connection.execute(text(\"SELECT * FROM assay_component\"))\n",
    "    column_names = result.keys()\n",
    "    rows = result.fetchall()\n",
    "    rows = [list(row) for row in rows]\n",
    "    component = pl.DataFrame(rows, schema=column_names).drop([\n",
    "        \"detection_technology_type\", \"detection_technology_type_sub\", \"detection_technology\", \n",
    "        \"key_assay_reagent_type\", \"key_assay_reagent\", \"technological_target_type\", \"technological_target_type_sub\",\n",
    "        \"parameter_readout_type\", \"assay_component_target_desc\", \"assay_design_type_sub\", \"biological_process_target\"\n",
    "    ])\n",
    "\n",
    "component = component.filter(~pl.col(\"assay_component_name\").str.contains(\"_ch1\"))\n",
    "component = component.filter(~pl.col(\"assay_component_name\").str.contains(\"_ch2\"))\n",
    "component = component.filter(~pl.col(\"assay_component_name\").is_in([\n",
    "    \"TOX21_RT_HEPG2_FLO_00hr_viability\",\n",
    "    \"TOX21_RT_HEPG2_FLO_08hr_viability\",\n",
    "    \"TOX21_RT_HEPG2_FLO_16hr_viability\",\n",
    "    \"TOX21_RT_HEPG2_FLO_24hr_viability\",\n",
    "    \"TOX21_RT_HEPG2_FLO_32hr_viability\",\n",
    "    \"TOX21_RT_HEPG2_GLO_00hr_viability\",\n",
    "    \"TOX21_RT_HEPG2_GLO_08hr_viability\",\n",
    "    \"TOX21_RT_HEPG2_GLO_16hr_viability\",\n",
    "    \"TOX21_RT_HEPG2_GLO_24hr_viability\",\n",
    "    \"TOX21_RT_HEPG2_GLO_32hr_viability\",\n",
    "    \"TOX21_RT_HEK293_FLO_00hr_viability\",\n",
    "    \"TOX21_RT_HEK293_FLO_08hr_viability\",\n",
    "    \"TOX21_RT_HEK293_FLO_16hr_viability\",\n",
    "    \"TOX21_RT_HEK293_FLO_24hr_viability\",\n",
    "    \"TOX21_RT_HEK293_FLO_32hr_viability\",\n",
    "    \"TOX21_RT_HEK293_GLO_00hr_viability\",\n",
    "    \"TOX21_RT_HEK293_GLO_08hr_viability\",\n",
    "    \"TOX21_RT_HEK293_GLO_16hr_viability\",\n",
    "    \"TOX21_RT_HEK293_GLO_24hr_viability\",\n",
    "    \"TOX21_RT_HEK293_GLO_32hr_viability\",\n",
    "]))\n",
    "component = component.drop(\"assay_component_name\")\n",
    "\n",
    "\n",
    "cell_component = component.filter(pl.col(\"aid\").is_in(cell_aid))\n",
    "cell_component = cell_component.filter(pl.col(\"assay_design_type\") != \"background reporter\")\n",
    "\n",
    "# there is only one component per assay for the cell-free assays\n",
    "cellfree_component = component.filter(pl.col(\"aid\").is_in(cellfree_aid))\n",
    "\n",
    "cell_acid = cell_component.select(\"acid\").to_series().unique().to_list()\n",
    "cellfree_acid = cellfree_component.select(\"acid\").to_series().unique().to_list()\n"
   ]
  },
  {
   "cell_type": "code",
   "execution_count": 329,
   "metadata": {},
   "outputs": [],
   "source": [
    "# Get assay endpoints of interest\n",
    "engine = create_engine(\"mysql+pymysql://root@localhost/prod_internal_invitrodb_v4_1\")\n",
    "\n",
    "with engine.connect() as connection:\n",
    "    result = connection.execute(text(\"SELECT * FROM assay_component_endpoint\"))\n",
    "    column_names = result.keys()\n",
    "    rows = result.fetchall()\n",
    "    rows = [list(row) for row in rows]\n",
    "    endpoints = pl.DataFrame(rows, schema=column_names).drop([\n",
    "        \"export_ready\", \"internal_ready\", \"fit_all\", \"data_usability\", \"burst_assay\", \"key_positive_control\",\n",
    "        \"assay_component_endpoint_desc\"\n",
    "    ])\n",
    "\n",
    "endpoints = endpoints.filter(pl.col(\"assay_function_type\") != \"background control\")\n",
    "cell_endpoints = endpoints.filter(pl.col(\"acid\").is_in(cell_acid))\n",
    "cellfree_endpoints = endpoints.filter(pl.col(\"acid\").is_in(cellfree_acid))"
   ]
  },
  {
   "cell_type": "code",
   "execution_count": 330,
   "metadata": {},
   "outputs": [],
   "source": [
    "# join and re-order columns\n",
    "col_order = [\n",
    "    \"assay_component_endpoint_name\", \"assay_component_desc\",\n",
    "    \"cell_format\", \"tissue\", \"cell_short_name\", \"timepoint_hr\",\n",
    "    \"assay_design_type\", \"assay_function_type\", \"intended_target_type\", \"intended_target_type_sub\",\n",
    "    \"intended_target_family\", \"intended_target_family_sub\", \"normalized_data_type\", \"signal_direction\",\n",
    "    \"cell_viability_assay\", \"aid\", \"acid\", \"aeid\",\n",
    "]\n",
    "\n",
    "cell = cell_component.join(cell_endpoints, on=\"acid\")\n",
    "cell = cell.join(cell_assay, on=\"aid\").select(col_order)\n",
    "\n",
    "# separate primary endpoint from viability assays\n",
    "cell_viability = cell.filter(pl.col(\"cell_viability_assay\") == 1)\n",
    "cell_other = cell.filter(pl.col(\"cell_viability_assay\") == 0).filter(pl.col(\"cell_short_name\") != \"NA\")\n",
    "\n",
    "cellfree = cellfree_component.join(cellfree_endpoints, on=\"acid\")\n",
    "cellfree = cellfree.join(cellfree_assay, on=\"aid\").select(col_order)"
   ]
  },
  {
   "cell_type": "markdown",
   "metadata": {},
   "source": [
    "## Get assay hitcall info"
   ]
  },
  {
   "cell_type": "code",
   "execution_count": 331,
   "metadata": {},
   "outputs": [
    {
     "data": {
      "text/plain": [
       "0"
      ]
     },
     "execution_count": 331,
     "metadata": {},
     "output_type": "execute_result"
    }
   ],
   "source": [
    "# Get level 4 data\n",
    "with engine.connect() as connection:\n",
    "    result = connection.execute(text(\"SELECT `m4id`, `spid`, `logc_max`, `logc_min`, `nconc` FROM mc4\"))\n",
    "    column_names = result.keys()\n",
    "    rows = result.fetchall()\n",
    "    rows = [list(row) for row in rows]\n",
    "    exp_info = pl.DataFrame(rows, schema=column_names)\n",
    "\n",
    "    result = connection.execute(text(\"SELECT * FROM sample\"))\n",
    "    column_names = result.keys()\n",
    "    rows = result.fetchall()\n",
    "    rows = [list(row) for row in rows]\n",
    "    dat = pl.DataFrame(rows, schema=column_names).select([\"spid\", \"chid\"])\n",
    "\n",
    "exp_info = exp_info.join(dat, on=\"spid\")\n",
    "del dat\n",
    "gc.collect()"
   ]
  },
  {
   "cell_type": "code",
   "execution_count": 332,
   "metadata": {},
   "outputs": [
    {
     "data": {
      "text/plain": [
       "0"
      ]
     },
     "execution_count": 332,
     "metadata": {},
     "output_type": "execute_result"
    }
   ],
   "source": [
    "# Link m5id to m4id\n",
    "with engine.connect() as connection:\n",
    "    result = connection.execute(text(\"SELECT `m5id`, `m4id` FROM mc5\"))\n",
    "    \n",
    "    column_names = result.keys()\n",
    "    rows = result.fetchall()\n",
    "    rows = [list(row) for row in rows]\n",
    "    m4_m5 = pl.DataFrame(rows, schema=column_names)\n",
    "\n",
    "exp_info = exp_info.join(m4_m5, on=\"m4id\")\n",
    "del m4_m5\n",
    "gc.collect()"
   ]
  },
  {
   "cell_type": "code",
   "execution_count": 333,
   "metadata": {},
   "outputs": [
    {
     "data": {
      "text/plain": [
       "0"
      ]
     },
     "execution_count": 333,
     "metadata": {},
     "output_type": "execute_result"
    }
   ],
   "source": [
    "# Get hitcall and AC50\n",
    "m5id_list = exp_info.select(\"m5id\").to_series().unique().to_list()\n",
    "\n",
    "query = \"\"\"\n",
    "SELECT `m5id`, `hit_val`, `hit_param`, `aeid`\n",
    "FROM mc5_param \n",
    "WHERE hit_param IN ('ac50', 'hitcall') \n",
    "AND m5id IN :m5ids\n",
    "\"\"\"\n",
    "\n",
    "with engine.connect() as connection:\n",
    "    result = connection.execute(text(query), {\"m5ids\": tuple(m5id_list)})\n",
    "    \n",
    "    column_names = result.keys()\n",
    "    rows = result.fetchall()\n",
    "    rows = [list(row) for row in rows]\n",
    "    params = pl.DataFrame(rows, schema=column_names)\n",
    "\n",
    "params = params.pivot(\n",
    "    values=\"hit_val\",\n",
    "    index=[\"m5id\", \"aeid\"],\n",
    "    columns=\"hit_param\"\n",
    ")\n",
    "\n",
    "exp_info = exp_info.join(params, on=\"m5id\")\n",
    "del params\n",
    "gc.collect()"
   ]
  },
  {
   "cell_type": "code",
   "execution_count": 334,
   "metadata": {},
   "outputs": [],
   "source": [
    "# Make table for compounds\n",
    "engine = create_engine(\"mysql+pymysql://root@localhost/prod_internal_invitrodb_v4_1\")\n",
    "\n",
    "with engine.connect() as connection:\n",
    "    result = connection.execute(text(\"SELECT * FROM chemical\"))\n",
    "    column_names = result.keys()\n",
    "    rows = result.fetchall()\n",
    "    rows = [list(row) for row in rows]\n",
    "    chemical = pl.DataFrame(rows, schema=column_names).select([\"chid\", \"dsstox_substance_id\"])\n",
    "\n",
    "exp_info = exp_info.join(chemical, on=\"chid\")\n"
   ]
  },
  {
   "cell_type": "markdown",
   "metadata": {},
   "source": [
    "## Get a cytotox estimate for each chemical + relevant assay "
   ]
  },
  {
   "cell_type": "markdown",
   "metadata": {},
   "source": [
    "We only want to keep assays with matching cytotoxicity estimates. We consider a matching cytotox estimate as a viability assay run with the same chemical in either the same cell line or the same tissue. We count any cytotox hit as a hit - it's possible that viability assays that did not result in a hit tested lower concentration ranges, or a less sensitive viability assay."
   ]
  },
  {
   "cell_type": "code",
   "execution_count": 335,
   "metadata": {},
   "outputs": [],
   "source": [
    "df = cell_viability.select([\"aeid\", \"aid\", \"cell_viability_assay\", \"cell_short_name\", \"tissue\"])\n",
    "df = df.join(exp_info, on=\"aeid\")\n",
    "\n",
    "df = df.with_columns(\n",
    "    (pl.col(\"hitcall\") > 0.9).cast(pl.Int64).alias(\"hitcall\")\n",
    ")\n",
    "\n",
    "result_cell = (\n",
    "    df.group_by([\"chid\", \"cell_short_name\"])\n",
    "    .agg([\n",
    "        pl.count().alias(\"ntested\"),\n",
    "        pl.col(\"hitcall\").sum().alias(\"nhit\"),\n",
    "        pl.col(\"ac50\").filter(pl.col(\"hitcall\") == 1).median().alias(\"cytotox_median_ac50\")\n",
    "    ])\n",
    ")\n",
    "\n",
    "result_tissue = (\n",
    "    df.group_by([\"tissue\", \"chid\"])\n",
    "    .agg([\n",
    "        pl.count().alias(\"ntested\"),\n",
    "        pl.col(\"hitcall\").sum().alias(\"nhit\"),\n",
    "        pl.col(\"ac50\").filter(pl.col(\"hitcall\") == 1).median().alias(\"cytotox_median_ac50\")\n",
    "    ])\n",
    ")\n"
   ]
  },
  {
   "cell_type": "code",
   "execution_count": 336,
   "metadata": {},
   "outputs": [],
   "source": [
    "cell_chid_cytotox = cell_results.select([\"chid\", \"cell_short_name\", \"tissue\"]).unique()\n",
    "\n",
    "cell_cytotox = cell_chid_cytotox.join(\n",
    "    result_cell,\n",
    "    on=[\"chid\", \"cell_short_name\"],\n",
    "    how=\"inner\"\n",
    ").with_columns(\n",
    "    pl.lit(\"cell_short_name\").alias(\"cytotox_source\")\n",
    ")\n",
    "\n",
    "unmatched_df = cell_chid_cytotox.join(\n",
    "    result_cell,\n",
    "    on=[\"chid\", \"cell_short_name\"],\n",
    "    how=\"anti\"\n",
    ")\n",
    "\n",
    "tissue_cytotox = unmatched_df.join(\n",
    "    result_tissue,\n",
    "    on=[\"chid\", \"tissue\"],\n",
    "    how=\"inner\"\n",
    ").with_columns(\n",
    "    pl.lit(\"tissue\").alias(\"cytotox_source\")\n",
    ")\n",
    "\n",
    "cytotox = pl.concat([cell_cytotox, tissue_cytotox], how=\"vertical\").rename({\"ntested\": \"cytotox_ntested\", \"nhit\": \"cytotox_nhit\"})"
   ]
  },
  {
   "cell_type": "markdown",
   "metadata": {},
   "source": [
    "## Create final results info files"
   ]
  },
  {
   "cell_type": "code",
   "execution_count": 337,
   "metadata": {},
   "outputs": [],
   "source": [
    "# Get OASIS IDs\n",
    "oasis = pl.read_csv(\"../1_snakemake/inputs/annotations/seal_input/v5_oasis_03Sept2024_simple.csv\")\n",
    "oasis = oasis.select([\"OASIS_ID\", \"DTXSID\"]).rename({\"DTXSID\": \"dsstox_substance_id\"})"
   ]
  },
  {
   "cell_type": "code",
   "execution_count": 338,
   "metadata": {},
   "outputs": [],
   "source": [
    "# cell-free assays\n",
    "cellfree_results = exp_info.join(cellfree, on=\"aeid\")\n",
    "\n",
    "# add oasis id\n",
    "cellfree_results = cellfree_results.join(oasis, on=\"dsstox_substance_id\")\n",
    "\n",
    "# re-order columns\n",
    "cellfree_results = cellfree_results.select([\n",
    "    \"OASIS_ID\",\n",
    "    \"assay_component_endpoint_name\", \"assay_component_desc\",\n",
    "    \"cell_format\", \"tissue\", \"cell_short_name\", \"timepoint_hr\",\n",
    "    \"assay_design_type\", \"assay_function_type\", \"intended_target_type\", \"intended_target_type_sub\",\n",
    "    \"intended_target_family\", \"intended_target_family_sub\", \"normalized_data_type\", \"signal_direction\",\n",
    "    \"hitcall\", \"ac50\",\n",
    "    \"logc_max\", \"logc_min\", \"nconc\",\n",
    "    \"aid\", \"acid\", \"aeid\", \"chid\", \"m4id\", \"m5id\", \"dsstox_substance_id\"\n",
    "])"
   ]
  },
  {
   "cell_type": "code",
   "execution_count": 339,
   "metadata": {},
   "outputs": [],
   "source": [
    "# cell-based assays\n",
    "cell_results = exp_info.join(cell_other, on=\"aeid\")\n",
    "\n",
    "# add oasis id\n",
    "cell_results = cell_results.join(oasis, on=\"dsstox_substance_id\")\n",
    "\n",
    "# Merge assay info with cytotox estimates\n",
    "cell_results = cell_results.join(cytotox, on=[\"chid\", \"cell_short_name\", \"tissue\"])\n",
    "\n",
    "# Re-order columns\n",
    "cell_results = cell_results.select([\n",
    "    \"OASIS_ID\",\n",
    "    \"assay_component_endpoint_name\", \"assay_component_desc\",\n",
    "    \"cell_format\", \"tissue\", \"cell_short_name\", \"timepoint_hr\",\n",
    "    \"assay_design_type\", \"assay_function_type\", \"intended_target_type\", \"intended_target_type_sub\",\n",
    "    \"intended_target_family\", \"intended_target_family_sub\", \"normalized_data_type\", \"signal_direction\",\n",
    "    \"hitcall\", \"ac50\",\n",
    "    \"cytotox_ntested\", \"cytotox_nhit\", \"cytotox_median_ac50\", \"cytotox_source\",\n",
    "    \"logc_max\", \"logc_min\", \"nconc\",\n",
    "    \"aid\", \"acid\", \"aeid\", \"chid\", \"m4id\", \"m5id\", \"dsstox_substance_id\"\n",
    "])"
   ]
  },
  {
   "cell_type": "markdown",
   "metadata": {},
   "source": [
    "## Create binary cell-based hit file"
   ]
  },
  {
   "cell_type": "code",
   "execution_count": 340,
   "metadata": {},
   "outputs": [],
   "source": [
    "# Hit: must be 2-fold lower than the cytotox ac50\n",
    "cell_binary = cell_results.select([\n",
    "    \"OASIS_ID\", \"assay_component_endpoint_name\", \"hitcall\", \"ac50\", \"cytotox_median_ac50\"\n",
    "]).with_columns(\n",
    "    (pl.col(\"hitcall\") > 0.9).cast(pl.Int64).alias(\"hitcall\"),\n",
    "    (pl.col(\"cytotox_median_ac50\")).fill_null(999999).alias(\"cytotox_median_ac50\")\n",
    ")\n",
    "\n",
    "cell_binary = cell_binary.with_columns(\n",
    "    pl.when((pl.col(\"cytotox_median_ac50\")/2) < pl.col(\"ac50\"))\n",
    "    .then(pl.lit(0))\n",
    "    .otherwise(pl.col(\"hitcall\"))\n",
    "    .alias(\"corr_hitcall\")\n",
    ")\n",
    "\n",
    "# Sometimes there are multiple results for the same chemical-assay combo. Use majority hitcall as the hitcall. Ties go to no hit.\n",
    "aggregated_df = (\n",
    "    cell_binary.group_by([\"OASIS_ID\", \"assay_component_endpoint_name\"])\n",
    "    .agg([\n",
    "        (\n",
    "            (pl.col(\"corr_hitcall\").sum() > (pl.count() // 2))\n",
    "            .cast(pl.Int64)\n",
    "            .alias(\"corr_hitcall\")\n",
    "        )\n",
    "    ])\n",
    ")\n",
    "cell_binary = cell_binary.select([\"OASIS_ID\", \"assay_component_endpoint_name\"]).unique()\n",
    "cell_binary = cell_binary.join(aggregated_df, on=[\"OASIS_ID\", \"assay_component_endpoint_name\"])\n",
    "\n",
    "# pivot to one column per assay\n",
    "cell_binary = cell_binary.pivot(\n",
    "    values=\"corr_hitcall\",\n",
    "    index=\"OASIS_ID\",\n",
    "    columns=\"assay_component_endpoint_name\",\n",
    ")\n",
    "\n",
    "# only keep assays with at least 5 positive and 5 negative classes\n",
    "def has_min_zeros_and_ones(col):\n",
    "    return (col == 0).sum() >= 5 and (col == 1).sum() >= 5\n",
    "\n",
    "cell_binary = cell_binary.select(\n",
    "    [\"OASIS_ID\"] + [\n",
    "        col for col in cell_binary.columns if col != \"OASIS_ID\" and has_min_zeros_and_ones(cell_binary[col])\n",
    "    ]\n",
    ")\n",
    "\n",
    "cell_assays = [i for i in cell_binary.columns if \"OASIS_ID\" not in i]"
   ]
  },
  {
   "cell_type": "markdown",
   "metadata": {},
   "source": [
    "## Create binary cell-free hit file"
   ]
  },
  {
   "cell_type": "code",
   "execution_count": 341,
   "metadata": {},
   "outputs": [],
   "source": [
    "cellfree_binary = cellfree_results.with_columns(\n",
    "    (pl.col(\"hitcall\") > 0.9).cast(pl.Int64).alias(\"hitcall\")\n",
    ").select([\"OASIS_ID\", \"assay_component_endpoint_name\", \"hitcall\"])\n",
    "\n",
    "# Sometimes there are multiple results for the same chemical-assay combo. Use majority hitcall as the hitcall. Ties go to no hit.\n",
    "aggregated_df = (\n",
    "    cellfree_binary.group_by([\"OASIS_ID\", \"assay_component_endpoint_name\"])\n",
    "    .agg([\n",
    "        (\n",
    "            (pl.col(\"hitcall\").sum() > (pl.count() // 2))\n",
    "            .cast(pl.Int64)\n",
    "            .alias(\"hitcall\")\n",
    "        )\n",
    "    ])\n",
    ")\n",
    "cellfree_binary = cellfree_binary.drop([\"hitcall\"]).unique()\n",
    "cellfree_binary = cellfree_binary.join(aggregated_df, on=[\"OASIS_ID\", \"assay_component_endpoint_name\"])\n",
    "\n",
    "# pivot to one column per assay\n",
    "cellfree_binary = cellfree_binary.pivot(\n",
    "    values=\"hitcall\",\n",
    "    index=\"OASIS_ID\",\n",
    "    columns=\"assay_component_endpoint_name\",\n",
    ")\n",
    "\n",
    "# only keep assays with at least 5 positive and 5 negative classes\n",
    "def has_min_zeros_and_ones(col):\n",
    "    return (col == 0).sum() >= 5 and (col == 1).sum() >= 5\n",
    "\n",
    "cellfree_binary = cellfree_binary.select(\n",
    "    [\"OASIS_ID\"] + [\n",
    "        col for col in cellfree_binary.columns if col != \"OASIS_ID\" and has_min_zeros_and_ones(cellfree_binary[col])\n",
    "    ]\n",
    ")\n",
    "\n",
    "cellfree_assays = [i for i in cellfree_binary.columns if \"OASIS_ID\" not in i]"
   ]
  },
  {
   "cell_type": "markdown",
   "metadata": {},
   "source": [
    "## Write out all files"
   ]
  },
  {
   "cell_type": "code",
   "execution_count": 342,
   "metadata": {},
   "outputs": [],
   "source": [
    "cell_binary.write_parquet(\"../1_snakemake/inputs/annotations/toxcast_cellbased_binary.parquet\")\n",
    "cellfree_binary.write_parquet(\"../1_snakemake/inputs/annotations/toxcast_cellfree_binary.parquet\")\n",
    "\n",
    "cell_results.filter(pl.col(\"assay_component_endpoint_name\").is_in(cell_assays)).write_parquet(\"../1_snakemake/inputs/annotations/toxcast_cellbased_info.parquet\")\n",
    "cellfree_results.filter(pl.col(\"assay_component_endpoint_name\").is_in(cellfree_assays)).write_parquet(\"../1_snakemake/inputs/annotations/toxcast_cellfree_info.parquet\")"
   ]
  },
  {
   "cell_type": "markdown",
   "metadata": {},
   "source": [
    "## Summarize extracted assays"
   ]
  },
  {
   "cell_type": "code",
   "execution_count": 3,
   "metadata": {},
   "outputs": [],
   "source": [
    "cell_info = pl.read_parquet(\"../1_snakemake/inputs/annotations/toxcast_cellbased_info.parquet\")\n",
    "cellfree_info = pl.read_parquet(\"../1_snakemake/inputs/annotations/toxcast_cellfree_info.parquet\")\n",
    "\n",
    "cell_binary = pl.read_parquet(\"../1_snakemake/inputs/annotations/toxcast_cellbased_binary.parquet\")\n",
    "cellfree_binary = pl.read_parquet(\"../1_snakemake/inputs/annotations/toxcast_cellfree_binary.parquet\")"
   ]
  },
  {
   "cell_type": "code",
   "execution_count": 12,
   "metadata": {},
   "outputs": [],
   "source": [
    "# Compute stats for cell-based assays\n",
    "cols = [i for i in cell_binary.columns if \"OASIS_ID\" not in i]\n",
    "cell_stats = []\n",
    "for col in cols:\n",
    "    pos = cell_binary.filter(pl.col(col) == 1).shape[0]\n",
    "    neg = cell_binary.filter(pl.col(col) == 0).shape[0]\n",
    "    total = pos + neg\n",
    "\n",
    "    cell_stats.append(pl.DataFrame({\n",
    "        \"assay_component_endpoint_name\": col,\n",
    "        \"Num_pos\": pos,\n",
    "        \"Num_neg\": neg,\n",
    "        \"Total\": total,\n",
    "        \"Percent_positive\": pos/total\n",
    "    }))\n",
    "\n",
    "cell_stats = pl.concat(cell_stats)"
   ]
  },
  {
   "cell_type": "code",
   "execution_count": 13,
   "metadata": {},
   "outputs": [],
   "source": [
    "# Compute stats for cell-free assays\n",
    "cols = [i for i in cellfree_binary.columns if \"OASIS_ID\" not in i]\n",
    "cellfree_stats = []\n",
    "for col in cols:\n",
    "    pos = cellfree_binary.filter(pl.col(col) == 1).shape[0]\n",
    "    neg = cellfree_binary.filter(pl.col(col) == 0).shape[0]\n",
    "    total = pos + neg\n",
    "\n",
    "    cellfree_stats.append(pl.DataFrame({\n",
    "        \"assay_component_endpoint_name\": col,\n",
    "        \"Num_pos\": pos,\n",
    "        \"Num_neg\": neg,\n",
    "        \"Total\": total,\n",
    "        \"Percent_positive\": pos/total\n",
    "    }))\n",
    "\n",
    "cellfree_stats = pl.concat(cellfree_stats)"
   ]
  },
  {
   "cell_type": "code",
   "execution_count": null,
   "metadata": {},
   "outputs": [
    {
     "name": "stdout",
     "output_type": "stream",
     "text": [
      "shape: (5, 6)\n",
      "┌────────────────────────────────┬─────────┬─────────┬───────┬──────────────────┬────────────┐\n",
      "│ assay_component_endpoint_name  ┆ Num_pos ┆ Num_neg ┆ Total ┆ Percent_positive ┆ assay_type │\n",
      "│ ---                            ┆ ---     ┆ ---     ┆ ---   ┆ ---              ┆ ---        │\n",
      "│ str                            ┆ i64     ┆ i64     ┆ i64   ┆ f64              ┆ str        │\n",
      "╞════════════════════════════════╪═════════╪═════════╪═══════╪══════════════════╪════════════╡\n",
      "│ ACEA_ER_80hr                   ┆ 38      ┆ 346     ┆ 384   ┆ 0.098958         ┆ cell_based │\n",
      "│ APR_HepG2_CellCycleArrest_24hr ┆ 10      ┆ 240     ┆ 250   ┆ 0.04             ┆ cell_based │\n",
      "│ APR_HepG2_CellLoss_24hr        ┆ 20      ┆ 230     ┆ 250   ┆ 0.08             ┆ cell_based │\n",
      "│ APR_HepG2_MicrotubuleCSK_24hr  ┆ 9       ┆ 241     ┆ 250   ┆ 0.036            ┆ cell_based │\n",
      "│ APR_HepG2_MitoMass_24hr        ┆ 8       ┆ 242     ┆ 250   ┆ 0.032            ┆ cell_based │\n",
      "└────────────────────────────────┴─────────┴─────────┴───────┴──────────────────┴────────────┘\n"
     ]
    }
   ],
   "source": [
    "# plot stats\n",
    "cell_stats = cell_stats.with_columns(pl.lit(\"cell_based\").alias(\"assay_type\"))\n",
    "cellfree_stats = cellfree_stats.with_columns(pl.lit(\"cell_free\").alias(\"assay_type\"))"
   ]
  },
  {
   "cell_type": "code",
   "execution_count": 48,
   "metadata": {},
   "outputs": [
    {
     "data": {
      "image/png": "[encoded data removed]",
      "text/plain": [
       "<Figure size 1200x1200 with 4 Axes>"
      ]
     },
     "metadata": {},
     "output_type": "display_data"
    }
   ],
   "source": [
    "import matplotlib.pyplot as plt\n",
    "\n",
    "fig, axes = plt.subplots(2, 2, figsize=(12, 12), constrained_layout=True)\n",
    "\n",
    "axes[0, 0].hist(cell_stats[\"Total\"], bins=10, color=\"steelblue\", edgecolor=\"black\")\n",
    "axes[0, 0].set_title(\"Number of compounds (cell-based)\")\n",
    "axes[0, 0].set_xlabel(\"Number of compounds\")\n",
    "axes[0, 0].set_ylabel(\"Frequency\")\n",
    "\n",
    "axes[0, 1].hist(cellfree_stats[\"Total\"], bins=10, color=\"steelblue\", edgecolor=\"black\")\n",
    "axes[0, 1].set_title(\"Number of compounds (cell-free)\")\n",
    "axes[0, 1].set_xlabel(\"Number of compounds\")\n",
    "axes[0, 1].set_ylabel(\"Frequency\")\n",
    "\n",
    "axes[1, 0].hist(cell_stats[\"Percent_positive\"], bins=10, color=\"steelblue\", edgecolor=\"black\")\n",
    "axes[1, 0].set_title(\"Percent positive (cell-based)\")\n",
    "axes[1, 0].set_xlabel(\"Percent positive\")\n",
    "axes[1, 0].set_ylabel(\"Frequency\")\n",
    "axes[1, 0].set_xlim(0, 1)\n",
    "\n",
    "axes[1, 1].hist(cellfree_stats[\"Percent_positive\"], bins=10, color=\"steelblue\", edgecolor=\"black\")\n",
    "axes[1, 1].set_title(\"Percent positive (cell-free)\")\n",
    "axes[1, 1].set_xlabel(\"Percent positive\")\n",
    "axes[1, 1].set_ylabel(\"Frequency\")\n",
    "axes[1, 1].set_xlim(0, 1)\n",
    "\n",
    "plt.show()"
   ]
  },
  {
   "cell_type": "code",
   "execution_count": 53,
   "metadata": {},
   "outputs": [
    {
     "name": "stdout",
     "output_type": "stream",
     "text": [
      "Median % positive in cell-based: 0.071161355334425\n",
      "Median % positive in cell-free: 0.4134295227524972\n",
      "Median cmpd # in cell-based: 306.0\n",
      "Median cmpd # in cell-free: 33.0\n"
     ]
    }
   ],
   "source": [
    "print(f\"Median % positive in cell-based: {str(cell_stats.select(pl.col('Percent_positive').median()).item())}\")\n",
    "print(f\"Median % positive in cell-free: {str(cellfree_stats.select(pl.col('Percent_positive').median()).item())}\")\n",
    "\n",
    "print(f\"Median cmpd # in cell-based: {str(cell_stats.select(pl.col('Total').median()).item())}\")\n",
    "print(f\"Median cmpd # in cell-free: {str(cellfree_stats.select(pl.col('Total').median()).item())}\")"
   ]
  },
  {
   "cell_type": "code",
   "execution_count": 15,
   "metadata": {},
   "outputs": [],
   "source": [
    "cellfree_info = cellfree_info.select([\n",
    "    \"assay_component_endpoint_name\",\n",
    "    \"assay_function_type\",\n",
    "    \"intended_target_family\",\n",
    "    \"intended_target_family_sub\"\n",
    "]).unique().filter(\n",
    "    pl.col(\"assay_component_endpoint_name\").is_in(cellfree_stats.select(\"assay_component_endpoint_name\").to_series().to_list())\n",
    ")"
   ]
  },
  {
   "cell_type": "code",
   "execution_count": 16,
   "metadata": {},
   "outputs": [],
   "source": [
    "cell_info = cell_info.select([\n",
    "    \"assay_component_endpoint_name\",\n",
    "    \"tissue\",\n",
    "    \"cell_short_name\",\n",
    "    \"intended_target_type\",\n",
    "    \"intended_target_family\",\n",
    "    \"intended_target_family_sub\"\n",
    "]).unique().filter(\n",
    "    pl.col(\"assay_component_endpoint_name\").is_in(cell_stats.select(\"assay_component_endpoint_name\").to_series().to_list())\n",
    ")"
   ]
  },
  {
   "cell_type": "markdown",
   "metadata": {},
   "source": [
    "### Print out summaries of cell-based assays"
   ]
  },
  {
   "cell_type": "code",
   "execution_count": 18,
   "metadata": {},
   "outputs": [
    {
     "name": "stdout",
     "output_type": "stream",
     "text": [
      "Cell-free assays: 72\n",
      "Cell-based assays: 292\n"
     ]
    }
   ],
   "source": [
    "print(f\"Cell-free assays: {str(cellfree_info.shape[0])}\")\n",
    "print(f\"Cell-based assays: {str(cell_info.shape[0])}\")"
   ]
  },
  {
   "cell_type": "code",
   "execution_count": null,
   "metadata": {},
   "outputs": [
    {
     "name": "stdout",
     "output_type": "stream",
     "text": [
      "Unique tissues in cell-based assays: 14\n"
     ]
    },
    {
     "data": {
      "text/html": [
       "<div><style>\n",
       ".dataframe > thead > tr,\n",
       ".dataframe > tbody > tr {\n",
       "  text-align: right;\n",
       "  white-space: pre-wrap;\n",
       "}\n",
       "</style>\n",
       "<small>shape: (14, 3)</small><table border=\"1\" class=\"dataframe\"><thead><tr><th>tissue</th><th>count</th><th>percent</th></tr><tr><td>str</td><td>u32</td><td>f64</td></tr></thead><tbody><tr><td>&quot;liver&quot;</td><td>151</td><td>0.517123</td></tr><tr><td>&quot;vascular&quot;</td><td>63</td><td>0.215753</td></tr><tr><td>&quot;kidney&quot;</td><td>35</td><td>0.119863</td></tr><tr><td>&quot;adrenal gland&quot;</td><td>12</td><td>0.041096</td></tr><tr><td>&quot;breast&quot;</td><td>9</td><td>0.030822</td></tr><tr><td>&quot;cervix&quot;</td><td>7</td><td>0.023973</td></tr><tr><td>&quot;intestinal&quot;</td><td>5</td><td>0.017123</td></tr><tr><td>&quot;brain&quot;</td><td>2</td><td>0.006849</td></tr><tr><td>&quot;mammary gland/…</td><td>2</td><td>0.006849</td></tr><tr><td>&quot;prostate&quot;</td><td>2</td><td>0.006849</td></tr><tr><td>&quot;central nervou…</td><td>1</td><td>0.003425</td></tr><tr><td>&quot;colon&quot;</td><td>1</td><td>0.003425</td></tr><tr><td>&quot;pluripotent ce…</td><td>1</td><td>0.003425</td></tr><tr><td>&quot;umbilical vein…</td><td>1</td><td>0.003425</td></tr></tbody></table></div>"
      ],
      "text/plain": [
       "shape: (14, 3)\n",
       "┌───────────────────────────────────┬───────┬──────────┐\n",
       "│ tissue                            ┆ count ┆ percent  │\n",
       "│ ---                               ┆ ---   ┆ ---      │\n",
       "│ str                               ┆ u32   ┆ f64      │\n",
       "╞═══════════════════════════════════╪═══════╪══════════╡\n",
       "│ liver                             ┆ 151   ┆ 0.517123 │\n",
       "│ vascular                          ┆ 63    ┆ 0.215753 │\n",
       "│ kidney                            ┆ 35    ┆ 0.119863 │\n",
       "│ adrenal gland                     ┆ 12    ┆ 0.041096 │\n",
       "│ …                                 ┆ …     ┆ …        │\n",
       "│ central nervous system            ┆ 1     ┆ 0.003425 │\n",
       "│ colon                             ┆ 1     ┆ 0.003425 │\n",
       "│ pluripotent cell line             ┆ 1     ┆ 0.003425 │\n",
       "│ umbilical vein-derived endotheli… ┆ 1     ┆ 0.003425 │\n",
       "└───────────────────────────────────┴───────┴──────────┘"
      ]
     },
     "execution_count": 29,
     "metadata": {},
     "output_type": "execute_result"
    }
   ],
   "source": [
    "tissue = cell_info.select(pl.col(\"tissue\").value_counts()).unnest(\"tissue\").sort(\"count\", descending=True)\n",
    "print(f\"Unique tissues in cell-based assays: {str(tissue.shape[0])}\")\n",
    "tissue = tissue.with_columns(\n",
    "    (pl.col(\"count\")/cell_info.shape[0]).alias(\"percent\")\n",
    ")\n",
    "tissue"
   ]
  },
  {
   "cell_type": "code",
   "execution_count": 30,
   "metadata": {},
   "outputs": [
    {
     "name": "stdout",
     "output_type": "stream",
     "text": [
      "Unique cell types in cell-based assays: 27\n"
     ]
    },
    {
     "data": {
      "text/html": [
       "<div><style>\n",
       ".dataframe > thead > tr,\n",
       ".dataframe > tbody > tr {\n",
       "  text-align: right;\n",
       "  white-space: pre-wrap;\n",
       "}\n",
       "</style>\n",
       "<small>shape: (27, 3)</small><table border=\"1\" class=\"dataframe\"><thead><tr><th>cell_short_name</th><th>count</th><th>percent</th></tr><tr><td>str</td><td>u32</td><td>f64</td></tr></thead><tbody><tr><td>&quot;HepaRG&quot;</td><td>90</td><td>0.308219</td></tr><tr><td>&quot;HepG2&quot;</td><td>54</td><td>0.184932</td></tr><tr><td>&quot;HEK293T&quot;</td><td>28</td><td>0.09589</td></tr><tr><td>&quot;umbilical vein…</td><td>20</td><td>0.068493</td></tr><tr><td>&quot;umbilical vein…</td><td>17</td><td>0.058219</td></tr><tr><td>&quot;coronary arter…</td><td>12</td><td>0.041096</td></tr><tr><td>&quot;H295R&quot;</td><td>12</td><td>0.041096</td></tr><tr><td>&quot;B and peripher…</td><td>7</td><td>0.023973</td></tr><tr><td>&quot;lung fibroblas…</td><td>7</td><td>0.023973</td></tr><tr><td>&quot;hepatocyte&quot;</td><td>7</td><td>0.023973</td></tr><tr><td>&quot;HCT116&quot;</td><td>6</td><td>0.020548</td></tr><tr><td>&quot;HeLa&quot;</td><td>6</td><td>0.020548</td></tr><tr><td>&hellip;</td><td>&hellip;</td><td>&hellip;</td></tr><tr><td>&quot;22Rv1&quot;</td><td>2</td><td>0.006849</td></tr><tr><td>&quot;PR-UAS-bla-HEK…</td><td>2</td><td>0.006849</td></tr><tr><td>&quot;PGC/ERR HEK293…</td><td>2</td><td>0.006849</td></tr><tr><td>&quot;hNPC&quot;</td><td>2</td><td>0.006849</td></tr><tr><td>&quot;VM7Luc4E2&quot;</td><td>2</td><td>0.006849</td></tr><tr><td>&quot;ME-180&quot;</td><td>1</td><td>0.003425</td></tr><tr><td>&quot;HEK293&quot;</td><td>1</td><td>0.003425</td></tr><tr><td>&quot;RUES2-GLR&quot;</td><td>1</td><td>0.003425</td></tr><tr><td>&quot;LUHMES&quot;</td><td>1</td><td>0.003425</td></tr><tr><td>&quot;MCF7&quot;</td><td>1</td><td>0.003425</td></tr><tr><td>&quot;HUVEC&quot;</td><td>1</td><td>0.003425</td></tr><tr><td>&quot;T47D&quot;</td><td>1</td><td>0.003425</td></tr></tbody></table></div>"
      ],
      "text/plain": [
       "shape: (27, 3)\n",
       "┌───────────────────────────────────┬───────┬──────────┐\n",
       "│ cell_short_name                   ┆ count ┆ percent  │\n",
       "│ ---                               ┆ ---   ┆ ---      │\n",
       "│ str                               ┆ u32   ┆ f64      │\n",
       "╞═══════════════════════════════════╪═══════╪══════════╡\n",
       "│ HepaRG                            ┆ 90    ┆ 0.308219 │\n",
       "│ HepG2                             ┆ 54    ┆ 0.184932 │\n",
       "│ HEK293T                           ┆ 28    ┆ 0.09589  │\n",
       "│ umbilical vein endothelium and p… ┆ 20    ┆ 0.068493 │\n",
       "│ …                                 ┆ …     ┆ …        │\n",
       "│ LUHMES                            ┆ 1     ┆ 0.003425 │\n",
       "│ MCF7                              ┆ 1     ┆ 0.003425 │\n",
       "│ HUVEC                             ┆ 1     ┆ 0.003425 │\n",
       "│ T47D                              ┆ 1     ┆ 0.003425 │\n",
       "└───────────────────────────────────┴───────┴──────────┘"
      ]
     },
     "execution_count": 30,
     "metadata": {},
     "output_type": "execute_result"
    }
   ],
   "source": [
    "celltypes = cell_info.select(pl.col(\"cell_short_name\").value_counts()).unnest(\"cell_short_name\").sort(\"count\", descending=True)\n",
    "print(f\"Unique cell types in cell-based assays: {str(celltypes.shape[0])}\")\n",
    "celltypes = celltypes.with_columns(\n",
    "    (pl.col(\"count\")/cell_info.shape[0]).alias(\"percent\")\n",
    ")\n",
    "celltypes"
   ]
  },
  {
   "cell_type": "code",
   "execution_count": null,
   "metadata": {},
   "outputs": [
    {
     "name": "stdout",
     "output_type": "stream",
     "text": [
      "Unique target types in cell-based assays: 6\n",
      "shape: (6, 3)\n",
      "┌──────────────────────┬───────┬──────────┐\n",
      "│ intended_target_type ┆ count ┆ percent  │\n",
      "│ ---                  ┆ ---   ┆ ---      │\n",
      "│ str                  ┆ u32   ┆ f64      │\n",
      "╞══════════════════════╪═══════╪══════════╡\n",
      "│ protein              ┆ 135   ┆ 0.462329 │\n",
      "│ rna                  ┆ 96    ┆ 0.328767 │\n",
      "│ pathway              ┆ 33    ┆ 0.113014 │\n",
      "│ cellular             ┆ 15    ┆ 0.05137  │\n",
      "│ molecular messenger  ┆ 12    ┆ 0.041096 │\n",
      "│ dna                  ┆ 1     ┆ 0.003425 │\n",
      "└──────────────────────┴───────┴──────────┘\n"
     ]
    }
   ],
   "source": [
    "target_type = cell_info.select(pl.col(\"intended_target_type\").value_counts()).unnest(\"intended_target_type\").sort(\"count\", descending=True)\n",
    "print(f\"Unique target types in cell-based assays: {str(target_type.shape[0])}\")\n",
    "target_type = target_type.with_columns(\n",
    "    (pl.col(\"count\")/cell_info.shape[0]).alias(\"percent\")\n",
    ")\n",
    "print(target_type)"
   ]
  },
  {
   "cell_type": "code",
   "execution_count": 34,
   "metadata": {},
   "outputs": [
    {
     "name": "stdout",
     "output_type": "stream",
     "text": [
      "Unique target families in cell-based assays: 36\n",
      "shape: (36, 3)\n",
      "┌────────────────────────┬───────┬──────────┐\n",
      "│ intended_target_family ┆ count ┆ percent  │\n",
      "│ ---                    ┆ ---   ┆ ---      │\n",
      "│ str                    ┆ u32   ┆ f64      │\n",
      "╞════════════════════════╪═══════╪══════════╡\n",
      "│ nuclear receptor       ┆ 56    ┆ 0.191781 │\n",
      "│ dna binding            ┆ 54    ┆ 0.184932 │\n",
      "│ cytokine               ┆ 32    ┆ 0.109589 │\n",
      "│ cyp                    ┆ 18    ┆ 0.061644 │\n",
      "│ …                      ┆ …     ┆ …        │\n",
      "│ immunoglobulin         ┆ 1     ┆ 0.003425 │\n",
      "│ catalase               ┆ 1     ┆ 0.003425 │\n",
      "│ transcription factor   ┆ 1     ┆ 0.003425 │\n",
      "│ microrna               ┆ 1     ┆ 0.003425 │\n",
      "└────────────────────────┴───────┴──────────┘\n"
     ]
    }
   ],
   "source": [
    "target_family = cell_info.select(pl.col(\"intended_target_family\").value_counts()).unnest(\"intended_target_family\").sort(\"count\", descending=True)\n",
    "print(f\"Unique target families in cell-based assays: {str(target_family.shape[0])}\")\n",
    "target_family = target_family.with_columns(\n",
    "    (pl.col(\"count\")/cell_info.shape[0]).alias(\"percent\")\n",
    ")\n",
    "print(target_family)"
   ]
  },
  {
   "cell_type": "markdown",
   "metadata": {},
   "source": [
    "### Print out summaries of cell-free assays"
   ]
  },
  {
   "cell_type": "code",
   "execution_count": 37,
   "metadata": {},
   "outputs": [
    {
     "name": "stdout",
     "output_type": "stream",
     "text": [
      "Unique target families in cell-free assays: 11\n",
      "shape: (11, 3)\n",
      "┌────────────────────────┬───────┬──────────┐\n",
      "│ intended_target_family ┆ count ┆ percent  │\n",
      "│ ---                    ┆ ---   ┆ ---      │\n",
      "│ str                    ┆ u32   ┆ f64      │\n",
      "╞════════════════════════╪═══════╪══════════╡\n",
      "│ gpcr                   ┆ 21    ┆ 0.291667 │\n",
      "│ cyp                    ┆ 11    ┆ 0.152778 │\n",
      "│ nuclear receptor       ┆ 10    ┆ 0.138889 │\n",
      "│ protease               ┆ 7     ┆ 0.097222 │\n",
      "│ …                      ┆ …     ┆ …        │\n",
      "│ phosphatase            ┆ 3     ┆ 0.041667 │\n",
      "│ hydrolase              ┆ 2     ┆ 0.027778 │\n",
      "│ dehalogenase           ┆ 1     ┆ 0.013889 │\n",
      "│ ion channel            ┆ 1     ┆ 0.013889 │\n",
      "└────────────────────────┴───────┴──────────┘\n"
     ]
    }
   ],
   "source": [
    "target_family = cellfree_info.select(pl.col(\"intended_target_family\").value_counts()).unnest(\"intended_target_family\").sort(\"count\", descending=True)\n",
    "print(f\"Unique target families in cell-free assays: {str(target_family.shape[0])}\")\n",
    "target_family = target_family.with_columns(\n",
    "    (pl.col(\"count\")/cellfree_info.shape[0]).alias(\"percent\")\n",
    ")\n",
    "print(target_family)"
   ]
  },
  {
   "cell_type": "code",
   "execution_count": 38,
   "metadata": {},
   "outputs": [
    {
     "name": "stdout",
     "output_type": "stream",
     "text": [
      "Unique assay_function_type in cell-free assays: 2\n",
      "shape: (2, 3)\n",
      "┌─────────────────────┬───────┬──────────┐\n",
      "│ assay_function_type ┆ count ┆ percent  │\n",
      "│ ---                 ┆ ---   ┆ ---      │\n",
      "│ str                 ┆ u32   ┆ f64      │\n",
      "╞═════════════════════╪═══════╪══════════╡\n",
      "│ binding             ┆ 37    ┆ 0.513889 │\n",
      "│ enzymatic activity  ┆ 35    ┆ 0.486111 │\n",
      "└─────────────────────┴───────┴──────────┘\n"
     ]
    }
   ],
   "source": [
    "assay_function_type = cellfree_info.select(pl.col(\"assay_function_type\").value_counts()).unnest(\"assay_function_type\").sort(\"count\", descending=True)\n",
    "print(f\"Unique assay_function_type in cell-free assays: {str(assay_function_type.shape[0])}\")\n",
    "assay_function_type = assay_function_type.with_columns(\n",
    "    (pl.col(\"count\")/cellfree_info.shape[0]).alias(\"percent\")\n",
    ")\n",
    "print(assay_function_type)"
   ]
  },
  {
   "cell_type": "code",
   "execution_count": 39,
   "metadata": {},
   "outputs": [
    {
     "name": "stdout",
     "output_type": "stream",
     "text": [
      "Unique intended_target_family_sub in cell-free assays: 23\n",
      "shape: (23, 3)\n",
      "┌───────────────────────────────────┬───────┬──────────┐\n",
      "│ intended_target_family_sub        ┆ count ┆ percent  │\n",
      "│ ---                               ┆ ---   ┆ ---      │\n",
      "│ str                               ┆ u32   ┆ f64      │\n",
      "╞═══════════════════════════════════╪═══════╪══════════╡\n",
      "│ rhodopsin-like receptor           ┆ 21    ┆ 0.291667 │\n",
      "│ xenobiotic metabolism             ┆ 10    ┆ 0.138889 │\n",
      "│ non-steroidal                     ┆ 6     ┆ 0.083333 │\n",
      "│ steroidal                         ┆ 4     ┆ 0.055556 │\n",
      "│ …                                 ┆ …     ┆ …        │\n",
      "│ cysteine protease                 ┆ 1     ┆ 0.013889 │\n",
      "│ nucleoside transporter            ┆ 1     ┆ 0.013889 │\n",
      "│ non-receptor tyrosine phosphatas… ┆ 1     ┆ 0.013889 │\n",
      "│ phosphoinositol kinase            ┆ 1     ┆ 0.013889 │\n",
      "└───────────────────────────────────┴───────┴──────────┘\n"
     ]
    }
   ],
   "source": [
    "intended_target_family_sub = cellfree_info.select(pl.col(\"intended_target_family_sub\").value_counts()).unnest(\"intended_target_family_sub\").sort(\"count\", descending=True)\n",
    "print(f\"Unique intended_target_family_sub in cell-free assays: {str(intended_target_family_sub.shape[0])}\")\n",
    "intended_target_family_sub = intended_target_family_sub.with_columns(\n",
    "    (pl.col(\"count\")/cellfree_info.shape[0]).alias(\"percent\")\n",
    ")\n",
    "print(intended_target_family_sub)"
   ]
  },
  {
   "cell_type": "markdown",
   "metadata": {},
   "source": [
    "## Compute how many positive hits were filtered out by cytotoxicity"
   ]
  },
  {
   "cell_type": "code",
   "execution_count": 59,
   "metadata": {},
   "outputs": [],
   "source": [
    "cell_binary_filter = pl.read_parquet(\"../1_snakemake/inputs/annotations/toxcast_cellbased_binary.parquet\")\n",
    "cell_binary_filter = cell_binary_filter.melt(\n",
    "    id_vars = \"OASIS_ID\"\n",
    ")\n",
    "\n",
    "# recompute binary hit calls without cytotox filter\n",
    "cell_results = pl.read_parquet(\"../1_snakemake/inputs/annotations/toxcast_cellbased_info.parquet\")\n",
    "cell_binary = cell_results.select([\n",
    "    \"OASIS_ID\", \"assay_component_endpoint_name\", \"hitcall\", \"ac50\", \"cytotox_median_ac50\"\n",
    "]).with_columns(\n",
    "    (pl.col(\"hitcall\") > 0.9).cast(pl.Int64).alias(\"hitcall\"),\n",
    "    (pl.col(\"cytotox_median_ac50\")).fill_null(999999).alias(\"cytotox_median_ac50\")\n",
    ")\n",
    "\n",
    "# Sometimes there are multiple results for the same chemical-assay combo. Use majority hitcall as the hitcall. Ties go to no hit.\n",
    "aggregated_df = (\n",
    "    cell_binary.group_by([\"OASIS_ID\", \"assay_component_endpoint_name\"])\n",
    "    .agg([\n",
    "        (\n",
    "            (pl.col(\"hitcall\").sum() > (pl.count() // 2))\n",
    "            .cast(pl.Int64)\n",
    "            .alias(\"hitcall\")\n",
    "        )\n",
    "    ])\n",
    ")\n",
    "cell_binary = cell_binary.select([\"OASIS_ID\", \"assay_component_endpoint_name\"]).unique()\n",
    "cell_binary = cell_binary.join(aggregated_df, on=[\"OASIS_ID\", \"assay_component_endpoint_name\"])\n",
    "\n",
    "# pivot to one column per assay\n",
    "cell_binary = cell_binary.pivot(\n",
    "    values=\"hitcall\",\n",
    "    index=\"OASIS_ID\",\n",
    "    columns=\"assay_component_endpoint_name\",\n",
    ")\n",
    "\n",
    "# only keep assays with at least 5 positive and 5 negative classes\n",
    "def has_min_zeros_and_ones(col):\n",
    "    return (col == 0).sum() >= 5 and (col == 1).sum() >= 5\n",
    "\n",
    "cell_binary = cell_binary.select(\n",
    "    [\"OASIS_ID\"] + [\n",
    "        col for col in cell_binary.columns if col != \"OASIS_ID\" and has_min_zeros_and_ones(cell_binary[col])\n",
    "    ]\n",
    ")\n",
    "\n",
    "cell_binary = cell_binary.melt(\n",
    "    id_vars = \"OASIS_ID\"\n",
    ")\n"
   ]
  },
  {
   "cell_type": "code",
   "execution_count": 60,
   "metadata": {},
   "outputs": [
    {
     "name": "stdout",
     "output_type": "stream",
     "text": [
      "(281196, 3)\n",
      "(281196, 3)\n"
     ]
    }
   ],
   "source": [
    "print(cell_binary.shape)\n",
    "print(cell_binary_filter.shape)"
   ]
  },
  {
   "cell_type": "code",
   "execution_count": 62,
   "metadata": {},
   "outputs": [
    {
     "name": "stdout",
     "output_type": "stream",
     "text": [
      "0.060847238225294815\n",
      "0.0298724021678829\n"
     ]
    }
   ],
   "source": [
    "print(cell_binary.filter(pl.col(\"value\") == 1).shape[0] / cell_binary.shape[0])\n",
    "print(cell_binary_filter.filter(pl.col(\"value\") == 1).shape[0] / cell_binary_filter.shape[0])"
   ]
  },
  {
   "cell_type": "code",
   "execution_count": 63,
   "metadata": {},
   "outputs": [
    {
     "name": "stdout",
     "output_type": "stream",
     "text": [
      "17110\n",
      "8400\n"
     ]
    }
   ],
   "source": [
    "print(cell_binary.filter(pl.col(\"value\") == 1).shape[0])\n",
    "print(cell_binary_filter.filter(pl.col(\"value\") == 1).shape[0])"
   ]
  }
 ],
 "metadata": {
  "kernelspec": {
   "display_name": "axiom",
   "language": "python",
   "name": "python3"
  },
  "language_info": {
   "codemirror_mode": {
    "name": "ipython",
    "version": 3
   },
   "file_extension": ".py",
   "mimetype": "text/x-python",
   "name": "python",
   "nbconvert_exporter": "python",
   "pygments_lexer": "ipython3",
   "version": "3.9.19"
  }
 },
 "nbformat": 4,
 "nbformat_minor": 2
}
