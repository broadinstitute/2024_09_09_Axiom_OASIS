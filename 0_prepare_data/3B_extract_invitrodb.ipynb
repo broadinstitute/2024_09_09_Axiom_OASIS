{
 "cells": [
  {
   "cell_type": "markdown",
   "metadata": {},
   "source": [
    "# Extract data from invitrodb "
   ]
  },
  {
   "cell_type": "code",
   "execution_count": 51,
   "metadata": {},
   "outputs": [],
   "source": [
    "from sqlalchemy import create_engine, inspect, text"
   ]
  },
  {
   "cell_type": "code",
   "execution_count": 52,
   "metadata": {},
   "outputs": [],
   "source": [
    "engine = create_engine(\"mysql+pymysql://root@localhost/prod_internal_invitrodb_v4_1\")\n",
    "\n",
    "inspector = inspect(engine)\n",
    "table_names = inspector.get_table_names()"
   ]
  },
  {
   "cell_type": "code",
   "execution_count": null,
   "metadata": {},
   "outputs": [],
   "source": [
    "# mc5_param has hitcalls and AC50\n",
    "# cytotox has median and lower bound cytotoxicity estimates\n",
    "# chemical links chid to dtxsid, which I can use to map to OASIS compounds"
   ]
  },
  {
   "cell_type": "code",
   "execution_count": 14,
   "metadata": {},
   "outputs": [
    {
     "name": "stdout",
     "output_type": "stream",
     "text": [
      "RMKeyView(['m5id', 'm4id', 'aeid', 'modl', 'hitc', 'fitc', 'coff', 'actp', 'model_type', 'created_date', 'modified_date', 'modified_by'])\n",
      "(1097403, 1205858, 2658, 'exp2', 0.8003413127151334, 1, 24.90768, None, 2, datetime.datetime(2022, 9, 29, 10, 15, 19), datetime.datetime(2022, 9, 29, 10, 15, 19), 'MFeshuk.MFeshuk.MFeshuk')\n",
      "(1097404, 1205859, 2658, 'poly1', 0.0013580605917213062, 1, 24.90768, None, 2, datetime.datetime(2022, 9, 29, 10, 15, 19), datetime.datetime(2022, 9, 29, 10, 15, 19), 'MFeshuk.MFeshuk.MFeshuk')\n",
      "(1097405, 1205860, 2658, 'poly1', 0.025622175506414175, 1, 24.90768, None, 2, datetime.datetime(2022, 9, 29, 10, 15, 19), datetime.datetime(2022, 9, 29, 10, 15, 19), 'MFeshuk.MFeshuk.MFeshuk')\n",
      "(1097406, 1205861, 2659, 'poly1', 0.05612543762487714, 1, 20.0, None, 2, datetime.datetime(2022, 9, 29, 10, 15, 19), datetime.datetime(2022, 9, 29, 10, 15, 19), 'MFeshuk.MFeshuk.MFeshuk')\n",
      "(1097407, 1205862, 2659, 'poly1', 5.0455715889335306e-06, 1, 20.0, None, 2, datetime.datetime(2022, 9, 29, 10, 15, 20), datetime.datetime(2022, 9, 29, 10, 15, 20), 'MFeshuk.MFeshuk.MFeshuk')\n",
      "(1097408, 1205863, 2659, 'poly1', 0.002533326634452305, 1, 20.0, None, 2, datetime.datetime(2022, 9, 29, 10, 15, 20), datetime.datetime(2022, 9, 29, 10, 15, 20), 'MFeshuk.MFeshuk.MFeshuk')\n",
      "(1097409, 1205864, 2660, 'poly1', 0.0003549883776511562, 1, 20.0, None, 2, datetime.datetime(2022, 9, 29, 10, 15, 20), datetime.datetime(2022, 9, 29, 10, 15, 20), 'MFeshuk.MFeshuk.MFeshuk')\n",
      "(1097410, 1205865, 2660, 'poly1', 2.8383452618021597e-05, 1, 20.0, None, 2, datetime.datetime(2022, 9, 29, 10, 15, 20), datetime.datetime(2022, 9, 29, 10, 15, 20), 'MFeshuk.MFeshuk.MFeshuk')\n",
      "(1097411, 1205866, 2660, 'exp3', 0.9998634831000713, 1, 20.0, None, 2, datetime.datetime(2022, 9, 29, 10, 15, 20), datetime.datetime(2022, 9, 29, 10, 15, 20), 'MFeshuk.MFeshuk.MFeshuk')\n",
      "(1097412, 1205867, 2660, 'poly1', 0.0005186889037376165, 1, 20.0, None, 2, datetime.datetime(2022, 9, 29, 10, 15, 20), datetime.datetime(2022, 9, 29, 10, 15, 20), 'MFeshuk.MFeshuk.MFeshuk')\n"
     ]
    }
   ],
   "source": [
    "engine = create_engine(\"mysql+pymysql://root@localhost/prod_internal_invitrodb_v4_1\")\n",
    "\n",
    "with engine.connect() as connection:\n",
    "    result = connection.execute(text(\"SELECT * FROM mc5 LIMIT 10\"))\n",
    "    \n",
    "    column_names = result.keys()\n",
    "    print(column_names)\n",
    "    \n",
    "    rows = result.fetchall()\n",
    "    for row in rows:\n",
    "        print(row)"
   ]
  },
  {
   "cell_type": "code",
   "execution_count": 55,
   "metadata": {},
   "outputs": [
    {
     "name": "stdout",
     "output_type": "stream",
     "text": [
      "RMKeyView(['m5id', 'aeid', 'hit_param', 'hit_val'])\n",
      "(4382439, 2, 'hitcall', 2.4704463935303977e-08)\n",
      "(4382439, 2, 'ac50', 100.00000000000001)\n",
      "(4382440, 2, 'hitcall', 3.1319497092249218e-12)\n",
      "(4382440, 2, 'ac50', 100.00000000000001)\n",
      "(4382441, 2, 'hitcall', 6.803483156160703e-13)\n",
      "(4382441, 2, 'ac50', 100.00000000000001)\n",
      "(4382442, 2, 'hitcall', 0.9478650415589537)\n",
      "(4382442, 2, 'ac50', 0.29460089536501555)\n",
      "(4382443, 2, 'hitcall', 0.0)\n",
      "(4382444, 2, 'hitcall', 0.0)\n"
     ]
    }
   ],
   "source": [
    "# This is where I can get AC50 values and hitcalls\n",
    "with engine.connect() as connection:\n",
    "    result = connection.execute(text(\"SELECT * FROM mc5_param WHERE hit_param IN ('ac50', 'hitcall') LIMIT 10;\"))\n",
    "    \n",
    "    column_names = result.keys()\n",
    "    print(column_names)\n",
    "    \n",
    "    rows = result.fetchall()\n",
    "    for row in rows:\n",
    "        print(row)"
   ]
  },
  {
   "cell_type": "code",
   "execution_count": 27,
   "metadata": {},
   "outputs": [
    {
     "name": "stdout",
     "output_type": "stream",
     "text": [
      "RMKeyView(['chid', 'cytotox_median_raw', 'cytotox_mad', 'global_mad', 'cytotox_median_log', 'cytotox_median_um', 'cytotox_lower_bound_um', 'ntested', 'nhit', 'cytotox_lower_bound_log', 'created_date'])\n",
      "(20005, None, None, 0.15970696427871311, 3.0, 1000.0, 1000.0, 71.0, 0.0, 3.0, datetime.datetime(2023, 5, 2, 15, 3, 9))\n",
      "(20007, None, None, 0.15970696427871311, 3.0, 1000.0, 1000.0, 67.0, 0.0, 3.0, datetime.datetime(2023, 5, 2, 15, 3, 9))\n",
      "(20009, None, None, 0.15970696427871311, 3.0, 1000.0, 1000.0, 67.0, 0.0, 3.0, datetime.datetime(2023, 5, 2, 15, 3, 9))\n",
      "(20014, None, None, 0.15970696427871311, 3.0, 1000.0, 1000.0, 70.0, 0.0, 3.0, datetime.datetime(2023, 5, 2, 15, 3, 9))\n",
      "(20015, 0.7166615083847401, 0.20407883207397942, 0.15970696427871311, 0.7166615083847401, 5.207886472165505, 1.7279875756572285, 67.0, 5.0, 0.23754061554860073, datetime.datetime(2023, 5, 2, 15, 3, 9))\n"
     ]
    }
   ],
   "source": [
    "with engine.connect() as connection:\n",
    "    result = connection.execute(text(\"SELECT * FROM cytotox LIMIT 5\"))\n",
    "    \n",
    "    column_names = result.keys()\n",
    "    print(column_names)\n",
    "    \n",
    "    rows = result.fetchall()\n",
    "    for row in rows:\n",
    "        print(row)\n",
    "\n",
    "# cytotox_median = median AC50 for cytotoxicty burst endpoints\n",
    "# cytotox_lower_bnd = cytotox_median - 3*MAD\n",
    "\n",
    "# chid = chemical id? \n",
    "# so, cytotoxicity is computed once for each chemical, which means that it doesn't consider sensitivity of specific cell types\n",
    "# has anyone analyzed the cytotoxicity across different cell types? \n"
   ]
  },
  {
   "cell_type": "code",
   "execution_count": 28,
   "metadata": {},
   "outputs": [
    {
     "name": "stdout",
     "output_type": "stream",
     "text": [
      "RMKeyView(['chid', 'casn', 'chnm', 'dsstox_substance_id'])\n",
      "(20005, '60-35-5', 'Acetamide', 'DTXSID7020005')\n",
      "(20006, '103-90-2', 'Acetaminophen', 'DTXSID2020006')\n",
      "(20007, '968-81-0', 'Acetohexamide', 'DTXSID7020007')\n",
      "(20009, '75-05-8', 'Acetonitrile', 'DTXSID7020009')\n",
      "(20014, '520-45-6', 'Dehydroacetic acid', 'DTXSID6020014')\n"
     ]
    }
   ],
   "source": [
    "with engine.connect() as connection:\n",
    "    result = connection.execute(text(\"SELECT * FROM chemical LIMIT 5\"))\n",
    "    \n",
    "    column_names = result.keys()\n",
    "    print(column_names)\n",
    "    \n",
    "    rows = result.fetchall()\n",
    "    for row in rows:\n",
    "        print(row)\n",
    "\n",
    "# compounds have DTXSID, so I can merge with OASIS based on this"
   ]
  },
  {
   "cell_type": "code",
   "execution_count": null,
   "metadata": {},
   "outputs": [],
   "source": [
    "# assay (aid) has timepoint, organism, tissue, cell, cell-free characteristics, etc\n",
    "# assay component (acid) lists all of the different types of measurements (components) from the same assay (ie. cell growth kinetics and viability)\n",
    "# example query: \"SELECT * FROM assay_component WHERE aid = '1' LIMIT 5\"\n",
    "# assay component endpoint (aeid) has intended target info, signal_direction, whether it's a positive control or a burst_assay or a cell_viability_assay\n",
    "# gene has gene ids and names\n",
    "# intended_target has the intended target of each aeid, and maps to target ids\n",
    "\n",
    "# Q: what do 'burst assays' all include? Does it still make sense to analyze those on their own? What about cell viability assays? Can we assume that anything not a burst or viability assay is a more specific target?\n"
   ]
  },
  {
   "cell_type": "markdown",
   "metadata": {},
   "source": [
    "Path forward:\n",
    "- Get list of DTXSID from OASIS list\n",
    "- Query all toxcast chemicals from this list (get list of chid)\n",
    "- Get all assays endpoints (aeid) for these chid\n",
    "- Get assay endpoint description, plus key assay info, for all endpoints (cell, tissue, etc)\n",
    "- Get cytotoxicity info for OASIS chid\n",
    "- Get mc5_param of interest: AC50, bmd, bmdu, bmdl, and hit call\n",
    "\n",
    "Still to do:\n",
    "- Decide what assays to treat as \"specific\" endpoints and which to lump into cell viability\n",
    "- Figure out if there are many of the same viability assays run for the same compound in same cell types: what to do here?"
   ]
  }
 ],
 "metadata": {
  "kernelspec": {
   "display_name": "axiom",
   "language": "python",
   "name": "python3"
  },
  "language_info": {
   "codemirror_mode": {
    "name": "ipython",
    "version": 3
   },
   "file_extension": ".py",
   "mimetype": "text/x-python",
   "name": "python",
   "nbconvert_exporter": "python",
   "pygments_lexer": "ipython3",
   "version": "3.9.19"
  }
 },
 "nbformat": 4,
 "nbformat_minor": 2
}
