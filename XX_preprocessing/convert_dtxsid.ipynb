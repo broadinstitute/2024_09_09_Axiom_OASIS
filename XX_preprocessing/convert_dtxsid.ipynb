{
 "cells": [
  {
   "cell_type": "markdown",
   "metadata": {},
   "source": [
    "# Map RefChemDB to standardized INCHIkey"
   ]
  },
  {
   "cell_type": "code",
   "execution_count": 1,
   "metadata": {},
   "outputs": [],
   "source": [
    "# use environment smiles with python 3.11\n",
    "\n",
    "import polars as pl\n",
    "import pandas as pd\n",
    "from smiles.standardize_smiles import StandardizeMolecule"
   ]
  },
  {
   "cell_type": "code",
   "execution_count": 2,
   "metadata": {},
   "outputs": [],
   "source": [
    "dat = pl.read_csv(\"./data/RefChemDB_DTXSID.csv\")\n",
    "\n",
    "nrow = dat.shape[0]\n",
    "rows_per_file = 10000\n",
    "\n",
    "for i in range(0, nrow, rows_per_file):\n",
    "    chunk = dat[i:i + rows_per_file]\n",
    "    chunk.write_csv(f\"./output/output_chunk_{i // rows_per_file + 1}.csv\")"
   ]
  },
  {
   "cell_type": "code",
   "execution_count": 12,
   "metadata": {},
   "outputs": [],
   "source": [
    "# read in smiles\n",
    "smiles = []\n",
    "for i in range(1, 5):\n",
    "    chunk = pl.read_csv(f\"./output/smiles_chunk_{i}.csv\")\n",
    "    smiles.append(chunk)\n",
    "\n",
    "smiles = pl.concat(smiles, how=\"vertical\").rename({\"SMILES\": \"smiles\"})\n",
    "smiles = smiles.filter(pl.col(\"smiles\") != \"N/A\")\n",
    "smiles.write_csv(\"./output/compiled_smiles.csv\")\n",
    "smiles = pd.read_csv(\"./output/compiled_smiles.csv\")"
   ]
  },
  {
   "cell_type": "code",
   "execution_count": null,
   "metadata": {},
   "outputs": [],
   "source": [
    "for i in range(0, smiles.shape[0], 250):\n",
    "    chunk = smiles.iloc[i:i + 250]\n",
    "\n",
    "    try:\n",
    "        standardizer = StandardizeMolecule(\n",
    "            input=chunk,\n",
    "            num_cpu=70,\n",
    "            augment=True\n",
    "        )\n",
    "\n",
    "        batch = standardizer.run()\n",
    "        batch.to_csv(f\"./output/standardized_smiles_{i // 250 + 1}.csv\")\n",
    "    except Exception as e:\n",
    "        print(f\"An error occurred: {e}\")\n",
    "        chunk.to_csv(f\"./output/failed_smiles_{i // 250 + 1}.csv\")"
   ]
  }
 ],
 "metadata": {
  "kernelspec": {
   "display_name": "smiles",
   "language": "python",
   "name": "python3"
  },
  "language_info": {
   "codemirror_mode": {
    "name": "ipython",
    "version": 3
   },
   "file_extension": ".py",
   "mimetype": "text/x-python",
   "name": "python",
   "nbconvert_exporter": "python",
   "pygments_lexer": "ipython3",
   "version": "3.11.10"
  }
 },
 "nbformat": 4,
 "nbformat_minor": 2
}
