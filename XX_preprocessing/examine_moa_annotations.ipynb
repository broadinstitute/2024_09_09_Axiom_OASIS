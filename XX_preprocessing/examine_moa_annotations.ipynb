{
 "cells": [
  {
   "cell_type": "code",
   "execution_count": 55,
   "metadata": {},
   "outputs": [],
   "source": [
    "# Imports\n",
    "import polars as pl"
   ]
  },
  {
   "cell_type": "markdown",
   "metadata": {},
   "source": [
    "## Create sets from John's annotations"
   ]
  },
  {
   "cell_type": "code",
   "execution_count": 66,
   "metadata": {},
   "outputs": [],
   "source": [
    "cg_ann = pl.read_parquet(\"../1_snakemake/inputs/annotations/compound_gene.parquet\")\n",
    "meta = pl.read_parquet(\"../1_snakemake/inputs/metadata/metadata.parquet\")\n",
    "oasis = pl.read_csv(\"/Users/jewald/repos/2024_03_18_OASIS/2024_03_18_OASIS-data/data/2_reannotated_compiled_list/v5_oasis_03Sept2024_simple.csv\")\n",
    "\n",
    "oasis = oasis.with_columns(\n",
    "    pl.col(\"INCHIKEY\").str.slice(0,14).alias(\"INCHI_14\")\n",
    ").select([\"OASIS_ID\", \"INCHI_14\"])\n",
    "cg_ann = cg_ann.with_columns(\n",
    "    pl.col(\"inchikey\").str.slice(0,14).alias(\"INCHI_14\")\n",
    ")"
   ]
  },
  {
   "cell_type": "code",
   "execution_count": 67,
   "metadata": {},
   "outputs": [],
   "source": [
    "cg_summary = cg_ann.select([\"rel_type\", \"source_id\"]).unique()"
   ]
  },
  {
   "cell_type": "code",
   "execution_count": 68,
   "metadata": {},
   "outputs": [],
   "source": [
    "remove = [\"unknown\", \"vaccine\", \"DRUG_CATALYSIS_GENE\", \"DRUG_ENZYME\", \"enzyme\"]\n",
    "\n",
    "no_dir = [\"DRUG_TARGET\", \"DRUG_REACTION_GENE\", \"modulator\", \n",
    "          \"BINDS_CHbG\", \"DPI\", \"target\", \"IS_ACTIVE_IN_METABOLISM_CHiaimG\",\n",
    "          \"IS_ACTIVE_ON_DNA_OR_RNA_LEVEL_CHiaodorlG\", \"DRUG_CARRIER\", \"carrier\",\n",
    "          \"transporter\", \"ASSOCIATES_CHaG\", \"IS_ACTIVE_ON_CELLULAR_LEVEL_CHiaoclG\",\n",
    "          \"agonist,antagonist\", \"target\", \"DRUG_TRANSPORTER\", \"DRUG_BINDING_GENE\",\n",
    "          \"CbG\", \"allosteric modulator\", \"antibody\", \"blocker,activator\"]\n",
    "\n",
    "down = [\"DOWNREGULATES_CHdG\", \"CdG\", \"inverse agonist\", \"inhibitor\", \"INCREASES_DEGENERATION_CHidG\", \n",
    "        \"DRUG_INHIBITION_GENE\", \"DRUG_BINDINH_GENE\", \"antagonist\", \"blocker\", \"suppressor\", 'blocker,inhibitor',\n",
    "        \"antisense oligonucleotide\", \"inhibitory allosteric modulator\", \"negative modulator\", \"antagonist,allosteric modulator\"]\n",
    "\n",
    "up = [\"DRUG_BINDACT_GENE\", \"CuG\", \"positive modulator\", \"agonist\", \"UPREGULATES_CHuG\",\n",
    "      \"DRUG_ACTIVATION_GENE\", \"DECREASES_DEGENERATION_CHddG\", \"activator\", \"partial agonist\",\n",
    "      'inducer', 'agonist,allosteric modulator']\n",
    "\n",
    "all_cols = remove + no_dir + who_knows + down + up"
   ]
  },
  {
   "cell_type": "code",
   "execution_count": 69,
   "metadata": {},
   "outputs": [],
   "source": [
    "cg_ann = cg_ann.filter(~pl.col(\"rel_type\").is_in(remove)).with_columns(\n",
    "    pl.when(pl.col(\"rel_type\").is_in(no_dir)).then(pl.lit(\"unknown_direction\"))\n",
    "    .when(pl.col(\"rel_type\").is_in(up)).then(pl.lit(\"increases_activity\"))\n",
    "    .when(pl.col(\"rel_type\").is_in(down)).then(pl.lit(\"decreases_activity\")).alias(\"interaction_type\")\n",
    ")\n",
    "cg_oasis = cg_ann.join(oasis, on=\"INCHI_14\", how=\"inner\")"
   ]
  },
  {
   "cell_type": "code",
   "execution_count": 62,
   "metadata": {},
   "outputs": [],
   "source": [
    "cg = cg_ann.select([\"target\", \"inchikey\", \"interaction_type\"]).unique().filter(pl.col(\"inchikey\").is_not_null())\n",
    "cg.select(\"target\").unique().write_csv(\"./results/gene_symbols.csv\")"
   ]
  },
  {
   "cell_type": "markdown",
   "metadata": {},
   "source": [
    "### Run mapping script in R"
   ]
  },
  {
   "cell_type": "code",
   "execution_count": 72,
   "metadata": {},
   "outputs": [],
   "source": [
    "symbol_id = pl.read_csv(\"./results/symbol_ensembl.csv\").rename({\"hgnc_symbol\": \"target\"})\n",
    "cg = cg.join(symbol_id, on=\"target\")"
   ]
  },
  {
   "cell_type": "code",
   "execution_count": 77,
   "metadata": {},
   "outputs": [],
   "source": [
    "cg = cg.group_by([\"inchikey\", \"interaction_type\", \"ensembl_gene_id\"]).agg([\n",
    "    pl.col(\"target\").alias(\"target\").str.concat(delimiter=\",\")\n",
    "])\n",
    "cg = cg.rename({\"target\": \"hgnc_symbol\"})"
   ]
  },
  {
   "cell_type": "code",
   "execution_count": 78,
   "metadata": {},
   "outputs": [],
   "source": [
    "cg_hits_summary = cg.group_by([\"target\", \"interaction_type\"]).agg(pl.count())\n",
    "gene_hits_summary = cg.group_by([\"inchikey\", \"interaction_type\"]).agg(pl.count())"
   ]
  },
  {
   "cell_type": "markdown",
   "metadata": {},
   "source": [
    "## Create sets from MedChemXpress annotations"
   ]
  },
  {
   "cell_type": "code",
   "execution_count": 17,
   "metadata": {},
   "outputs": [],
   "source": [
    "# Create annotation files from Axiom data\n",
    "targets = meta.select([\"Metadata_Compound\", \"Metadata_compound_target\"]).filter(pl.col(\"Metadata_compound_target\").is_not_null())\n",
    "pathways = meta.select([\"Metadata_Compound\", \"Metadata_compound_pathway\"]).filter(pl.col(\"Metadata_compound_pathway\").is_not_null())\n"
   ]
  },
  {
   "cell_type": "code",
   "execution_count": 18,
   "metadata": {},
   "outputs": [],
   "source": [
    "targets = targets.with_columns(\n",
    "    pl.col(\"Metadata_compound_target\").str.split(\"; \").alias(\"Metadata_compound_target\")\n",
    ").explode(\"Metadata_compound_target\").unique()\n",
    "\n",
    "pathways = pathways.with_columns(\n",
    "    pl.col(\"Metadata_compound_pathway\").str.split(\"; \").alias(\"Metadata_compound_pathway\")\n",
    ").explode(\"Metadata_compound_pathway\").unique()"
   ]
  },
  {
   "cell_type": "code",
   "execution_count": 19,
   "metadata": {},
   "outputs": [],
   "source": [
    "target_counts = targets.group_by(\"Metadata_compound_target\").count()\n",
    "pathway_counts = pathways.group_by(\"Metadata_compound_pathway\").count()"
   ]
  },
  {
   "cell_type": "markdown",
   "metadata": {},
   "source": [
    "## Create sets from Srijit's annotations"
   ]
  },
  {
   "cell_type": "markdown",
   "metadata": {},
   "source": [
    "## Get activation concentrations from ToxCast data"
   ]
  },
  {
   "cell_type": "markdown",
   "metadata": {},
   "source": [
    "Get annotations from ToxCast.\n",
    "Download latest version of invitrodb from here: https://clowder.edap-cluster.com/datasets/647f712de4b08a6b394e4281?space=647f710ee4b08a6b394e426b\n",
    "\n",
    "Install mysql on Mac:\n",
    "brew install mysql@8.0\n",
    "brew link mysql@8.0 --force\n",
    "brew services start mysql@8.0\n",
    "brew services list\n",
    "\n",
    "Create empty database to extract SQL dump to:\n",
    "mysql -u root\n",
    "CREATE DATABASE invitrodb_v4_1;\n",
    "EXIT;\n",
    "\n",
    "Unzip the compressed sql dump (expanded size is ~100GB):\n",
    "gunzip invitrodb_v4_1_mysql.gz\n",
    "\n",
    "Import into database we created earlier:\n",
    "mysql -u root invitrodb_v4_1 < invitrodb_v4_1_mysql.sql\n",
    "\n",
    "Log back in and verify data is there:\n",
    "mysql -u root\n",
    "USE prod_internal_invitrodb_v4_1;\n",
    "SHOW TABLES;\n",
    "\n",
    "\n"
   ]
  }
 ],
 "metadata": {
  "kernelspec": {
   "display_name": "axiom",
   "language": "python",
   "name": "python3"
  },
  "language_info": {
   "codemirror_mode": {
    "name": "ipython",
    "version": 3
   },
   "file_extension": ".py",
   "mimetype": "text/x-python",
   "name": "python",
   "nbconvert_exporter": "python",
   "pygments_lexer": "ipython3",
   "version": "3.9.19"
  }
 },
 "nbformat": 4,
 "nbformat_minor": 2
}
