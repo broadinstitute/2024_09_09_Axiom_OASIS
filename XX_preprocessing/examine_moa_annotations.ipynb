{
 "cells": [
  {
   "cell_type": "code",
   "execution_count": 1,
   "metadata": {},
   "outputs": [],
   "source": [
    "# Imports\n",
    "import polars as pl"
   ]
  },
  {
   "cell_type": "markdown",
   "metadata": {},
   "source": [
    "## Create sets from John's annotations"
   ]
  },
  {
   "cell_type": "code",
   "execution_count": 2,
   "metadata": {},
   "outputs": [],
   "source": [
    "cg_ann = pl.read_parquet(\"../1_snakemake/inputs/annotations/compound_gene.parquet\")\n",
    "meta = pl.read_parquet(\"../1_snakemake/inputs/metadata/metadata.parquet\")\n",
    "oasis = pl.read_csv(\"/Users/jewald/repos/2024_03_18_OASIS/2024_03_18_OASIS-data/data/2_reannotated_compiled_list/v5_oasis_03Sept2024_simple.csv\")\n",
    "\n",
    "oasis = oasis.with_columns(\n",
    "    pl.col(\"INCHIKEY\").str.slice(0,14).alias(\"INCHI_14\")\n",
    ").select([\"OASIS_ID\", \"INCHI_14\"])\n",
    "cg_ann = cg_ann.with_columns(\n",
    "    pl.col(\"inchikey\").str.slice(0,14).alias(\"INCHI_14\")\n",
    ")"
   ]
  },
  {
   "cell_type": "code",
   "execution_count": 3,
   "metadata": {},
   "outputs": [],
   "source": [
    "cg_summary = cg_ann.select([\"rel_type\", \"source_id\"]).unique()"
   ]
  },
  {
   "cell_type": "code",
   "execution_count": 5,
   "metadata": {},
   "outputs": [],
   "source": [
    "remove = [\"unknown\", \"vaccine\", \"DRUG_CATALYSIS_GENE\", \"DRUG_ENZYME\", \"enzyme\"]\n",
    "\n",
    "no_dir = [\"DRUG_TARGET\", \"DRUG_REACTION_GENE\", \"modulator\", \n",
    "          \"BINDS_CHbG\", \"DPI\", \"target\", \"IS_ACTIVE_IN_METABOLISM_CHiaimG\",\n",
    "          \"IS_ACTIVE_ON_DNA_OR_RNA_LEVEL_CHiaodorlG\", \"DRUG_CARRIER\", \"carrier\",\n",
    "          \"transporter\", \"ASSOCIATES_CHaG\", \"IS_ACTIVE_ON_CELLULAR_LEVEL_CHiaoclG\",\n",
    "          \"agonist,antagonist\", \"target\", \"DRUG_TRANSPORTER\", \"DRUG_BINDING_GENE\",\n",
    "          \"CbG\", \"allosteric modulator\", \"antibody\", \"blocker,activator\"]\n",
    "\n",
    "down = [\"DOWNREGULATES_CHdG\", \"CdG\", \"inverse agonist\", \"inhibitor\", \"INCREASES_DEGENERATION_CHidG\", \n",
    "        \"DRUG_INHIBITION_GENE\", \"DRUG_BINDINH_GENE\", \"antagonist\", \"blocker\", \"suppressor\", 'blocker,inhibitor',\n",
    "        \"antisense oligonucleotide\", \"inhibitory allosteric modulator\", \"negative modulator\", \"antagonist,allosteric modulator\"]\n",
    "\n",
    "up = [\"DRUG_BINDACT_GENE\", \"CuG\", \"positive modulator\", \"agonist\", \"UPREGULATES_CHuG\",\n",
    "      \"DRUG_ACTIVATION_GENE\", \"DECREASES_DEGENERATION_CHddG\", \"activator\", \"partial agonist\",\n",
    "      'inducer', 'agonist,allosteric modulator']\n",
    "\n",
    "all_cols = remove + no_dir + down + up"
   ]
  },
  {
   "cell_type": "code",
   "execution_count": 6,
   "metadata": {},
   "outputs": [],
   "source": [
    "cg_ann = cg_ann.filter(~pl.col(\"rel_type\").is_in(remove)).with_columns(\n",
    "    pl.when(pl.col(\"rel_type\").is_in(no_dir)).then(pl.lit(\"unknown_direction\"))\n",
    "    .when(pl.col(\"rel_type\").is_in(up)).then(pl.lit(\"increases_activity\"))\n",
    "    .when(pl.col(\"rel_type\").is_in(down)).then(pl.lit(\"decreases_activity\")).alias(\"interaction_type\")\n",
    ")\n",
    "cg_oasis = cg_ann.join(oasis, on=\"INCHI_14\", how=\"inner\")"
   ]
  },
  {
   "cell_type": "code",
   "execution_count": 9,
   "metadata": {},
   "outputs": [],
   "source": [
    "cg_oasis = cg_oasis.unique()\n",
    "cg_oasis.write_parquet(\"/Users/jewald/repos/2024_09_09_Axiom_OASIS/1_snakemake/inputs/annotations/cg_motive.parquet\")"
   ]
  },
  {
   "cell_type": "code",
   "execution_count": 62,
   "metadata": {},
   "outputs": [],
   "source": [
    "cg = cg_ann.select([\"target\", \"inchikey\", \"interaction_type\"]).unique().filter(pl.col(\"inchikey\").is_not_null())\n",
    "cg.select(\"target\").unique().write_csv(\"./results/gene_symbols.csv\")"
   ]
  },
  {
   "cell_type": "markdown",
   "metadata": {},
   "source": [
    "### Run mapping script in R"
   ]
  },
  {
   "cell_type": "code",
   "execution_count": 72,
   "metadata": {},
   "outputs": [],
   "source": [
    "symbol_id = pl.read_csv(\"./results/symbol_ensembl.csv\").rename({\"hgnc_symbol\": \"target\"})\n",
    "cg = cg.join(symbol_id, on=\"target\")"
   ]
  },
  {
   "cell_type": "code",
   "execution_count": 77,
   "metadata": {},
   "outputs": [],
   "source": [
    "cg = cg.group_by([\"inchikey\", \"interaction_type\", \"ensembl_gene_id\"]).agg([\n",
    "    pl.col(\"target\").alias(\"target\").str.concat(delimiter=\",\")\n",
    "])\n",
    "cg = cg.rename({\"target\": \"hgnc_symbol\"})"
   ]
  },
  {
   "cell_type": "code",
   "execution_count": 78,
   "metadata": {},
   "outputs": [],
   "source": [
    "cg_hits_summary = cg.group_by([\"target\", \"interaction_type\"]).agg(pl.count())\n",
    "gene_hits_summary = cg.group_by([\"inchikey\", \"interaction_type\"]).agg(pl.count())"
   ]
  },
  {
   "cell_type": "markdown",
   "metadata": {},
   "source": [
    "## Create sets from MedChemXpress annotations"
   ]
  },
  {
   "cell_type": "code",
   "execution_count": 17,
   "metadata": {},
   "outputs": [],
   "source": [
    "# Create annotation files from Axiom data\n",
    "targets = meta.select([\"Metadata_Compound\", \"Metadata_compound_target\"]).filter(pl.col(\"Metadata_compound_target\").is_not_null())\n",
    "pathways = meta.select([\"Metadata_Compound\", \"Metadata_compound_pathway\"]).filter(pl.col(\"Metadata_compound_pathway\").is_not_null())\n"
   ]
  },
  {
   "cell_type": "code",
   "execution_count": 18,
   "metadata": {},
   "outputs": [],
   "source": [
    "targets = targets.with_columns(\n",
    "    pl.col(\"Metadata_compound_target\").str.split(\"; \").alias(\"Metadata_compound_target\")\n",
    ").explode(\"Metadata_compound_target\").unique()\n",
    "\n",
    "pathways = pathways.with_columns(\n",
    "    pl.col(\"Metadata_compound_pathway\").str.split(\"; \").alias(\"Metadata_compound_pathway\")\n",
    ").explode(\"Metadata_compound_pathway\").unique()"
   ]
  },
  {
   "cell_type": "code",
   "execution_count": 19,
   "metadata": {},
   "outputs": [],
   "source": [
    "target_counts = targets.group_by(\"Metadata_compound_target\").count()\n",
    "pathway_counts = pathways.group_by(\"Metadata_compound_pathway\").count()"
   ]
  },
  {
   "cell_type": "markdown",
   "metadata": {},
   "source": [
    "## Create sets from Srijit's annotations"
   ]
  },
  {
   "cell_type": "markdown",
   "metadata": {},
   "source": [
    "## Get activation concentrations from ToxCast data"
   ]
  },
  {
   "cell_type": "markdown",
   "metadata": {},
   "source": [
    "Get annotations from ToxCast.\n",
    "Download latest version of invitrodb from here: https://clowder.edap-cluster.com/datasets/647f712de4b08a6b394e4281?space=647f710ee4b08a6b394e426b\n",
    "\n",
    "Install mysql on Mac:\n",
    "brew install mysql@8.0\n",
    "brew link mysql@8.0 --force\n",
    "brew services start mysql@8.0\n",
    "brew services list\n",
    "\n",
    "Create empty database to extract SQL dump to:\n",
    "mysql -u root\n",
    "CREATE DATABASE invitrodb_v4_1;\n",
    "EXIT;\n",
    "\n",
    "Unzip the compressed sql dump (expanded size is ~100GB):\n",
    "gunzip invitrodb_v4_1_mysql.gz\n",
    "\n",
    "Import into database we created earlier:\n",
    "mysql -u root invitrodb_v4_1 < invitrodb_v4_1_mysql.sql\n",
    "\n",
    "Log back in and verify data is there:\n",
    "mysql -u root\n",
    "USE prod_internal_invitrodb_v4_1;\n",
    "SHOW TABLES;\n",
    "\n",
    "\n"
   ]
  },
  {
   "cell_type": "code",
   "execution_count": 13,
   "metadata": {},
   "outputs": [],
   "source": [
    "import polars as pl\n",
    "\n",
    "ann = pl.read_parquet(\"/Users/jewald/repos/2024_09_09_Axiom_OASIS/1_snakemake/inputs/annotations/seal_binary.parquet\")"
   ]
  },
  {
   "cell_type": "code",
   "execution_count": 14,
   "metadata": {},
   "outputs": [],
   "source": [
    "ann_cols = [i for i in ann.columns if \"Toxcast\" in i]"
   ]
  },
  {
   "cell_type": "code",
   "execution_count": 15,
   "metadata": {},
   "outputs": [],
   "source": [
    "toxcast = ann.select(ann_cols)"
   ]
  },
  {
   "cell_type": "code",
   "execution_count": 16,
   "metadata": {},
   "outputs": [],
   "source": [
    "not_tc = ann.drop(ann_cols)"
   ]
  },
  {
   "cell_type": "code",
   "execution_count": 17,
   "metadata": {},
   "outputs": [
    {
     "ename": "ComputeError",
     "evalue": "cannot compare utf-8 with numeric data",
     "output_type": "error",
     "traceback": [
      "\u001b[0;31m---------------------------------------------------------------------------\u001b[0m",
      "\u001b[0;31mComputeError\u001b[0m                              Traceback (most recent call last)",
      "Cell \u001b[0;32mIn[17], line 21\u001b[0m\n\u001b[1;32m     18\u001b[0m     \u001b[38;5;28;01mreturn\u001b[39;00m ratios\n\u001b[1;32m     20\u001b[0m \u001b[38;5;66;03m# Example usage with your dataframe 'df'\u001b[39;00m\n\u001b[0;32m---> 21\u001b[0m ratios \u001b[38;5;241m=\u001b[39m \u001b[43mratio_1_to_0\u001b[49m\u001b[43m(\u001b[49m\u001b[43mtoxcast\u001b[49m\u001b[43m)\u001b[49m\n\u001b[1;32m     23\u001b[0m \u001b[38;5;66;03m# Display the results\u001b[39;00m\n\u001b[1;32m     24\u001b[0m \u001b[38;5;28mprint\u001b[39m(ratios)\n",
      "Cell \u001b[0;32mIn[17], line 5\u001b[0m, in \u001b[0;36mratio_1_to_0\u001b[0;34m(df)\u001b[0m\n\u001b[1;32m      2\u001b[0m ratios \u001b[38;5;241m=\u001b[39m []\n\u001b[1;32m      3\u001b[0m \u001b[38;5;28;01mfor\u001b[39;00m col \u001b[38;5;129;01min\u001b[39;00m df\u001b[38;5;241m.\u001b[39mcolumns:\n\u001b[1;32m      4\u001b[0m     \u001b[38;5;66;03m# Count 1s and 0s in the column (ignoring NaNs)\u001b[39;00m\n\u001b[0;32m----> 5\u001b[0m     count_1 \u001b[38;5;241m=\u001b[39m \u001b[43mdf\u001b[49m\u001b[38;5;241;43m.\u001b[39;49m\u001b[43mselect\u001b[49m\u001b[43m(\u001b[49m\u001b[43mcol\u001b[49m\u001b[43m)\u001b[49m\u001b[38;5;241;43m.\u001b[39;49m\u001b[43mdrop_nulls\u001b[49m\u001b[43m(\u001b[49m\u001b[43m)\u001b[49m\u001b[38;5;241;43m.\u001b[39;49m\u001b[43mfilter\u001b[49m\u001b[43m(\u001b[49m\u001b[43mpl\u001b[49m\u001b[38;5;241;43m.\u001b[39;49m\u001b[43mcol\u001b[49m\u001b[43m(\u001b[49m\u001b[43mcol\u001b[49m\u001b[43m)\u001b[49m\u001b[43m \u001b[49m\u001b[38;5;241;43m==\u001b[39;49m\u001b[43m \u001b[49m\u001b[38;5;241;43m1\u001b[39;49m\u001b[43m)\u001b[49m\u001b[38;5;241m.\u001b[39mshape[\u001b[38;5;241m0\u001b[39m]\n\u001b[1;32m      6\u001b[0m     count_0 \u001b[38;5;241m=\u001b[39m df\u001b[38;5;241m.\u001b[39mselect(col)\u001b[38;5;241m.\u001b[39mdrop_nulls()\u001b[38;5;241m.\u001b[39mfilter(pl\u001b[38;5;241m.\u001b[39mcol(col) \u001b[38;5;241m==\u001b[39m \u001b[38;5;241m0\u001b[39m)\u001b[38;5;241m.\u001b[39mshape[\u001b[38;5;241m0\u001b[39m]\n\u001b[1;32m      8\u001b[0m     \u001b[38;5;66;03m# Calculate the ratio and handle division by zero\u001b[39;00m\n",
      "File \u001b[0;32m~/miniforge3/envs/axiom/lib/python3.9/site-packages/polars/dataframe/frame.py:4193\u001b[0m, in \u001b[0;36mDataFrame.filter\u001b[0;34m(self, *predicates, **constraints)\u001b[0m\n\u001b[1;32m   4096\u001b[0m \u001b[38;5;28;01mdef\u001b[39;00m \u001b[38;5;21mfilter\u001b[39m(\n\u001b[1;32m   4097\u001b[0m     \u001b[38;5;28mself\u001b[39m,\n\u001b[1;32m   4098\u001b[0m     \u001b[38;5;241m*\u001b[39mpredicates: (\n\u001b[0;32m   (...)\u001b[0m\n\u001b[1;32m   4105\u001b[0m     \u001b[38;5;241m*\u001b[39m\u001b[38;5;241m*\u001b[39mconstraints: Any,\n\u001b[1;32m   4106\u001b[0m ) \u001b[38;5;241m-\u001b[39m\u001b[38;5;241m>\u001b[39m DataFrame:\n\u001b[1;32m   4107\u001b[0m \u001b[38;5;250m    \u001b[39m\u001b[38;5;124;03m\"\"\"\u001b[39;00m\n\u001b[1;32m   4108\u001b[0m \u001b[38;5;124;03m    Filter the rows in the DataFrame based on a predicate expression.\u001b[39;00m\n\u001b[1;32m   4109\u001b[0m \n\u001b[0;32m   (...)\u001b[0m\n\u001b[1;32m   4191\u001b[0m \n\u001b[1;32m   4192\u001b[0m \u001b[38;5;124;03m    \"\"\"\u001b[39;00m\n\u001b[0;32m-> 4193\u001b[0m     \u001b[38;5;28;01mreturn\u001b[39;00m \u001b[38;5;28;43mself\u001b[39;49m\u001b[38;5;241;43m.\u001b[39;49m\u001b[43mlazy\u001b[49m\u001b[43m(\u001b[49m\u001b[43m)\u001b[49m\u001b[38;5;241;43m.\u001b[39;49m\u001b[43mfilter\u001b[49m\u001b[43m(\u001b[49m\u001b[38;5;241;43m*\u001b[39;49m\u001b[43mpredicates\u001b[49m\u001b[43m,\u001b[49m\u001b[43m \u001b[49m\u001b[38;5;241;43m*\u001b[39;49m\u001b[38;5;241;43m*\u001b[39;49m\u001b[43mconstraints\u001b[49m\u001b[43m)\u001b[49m\u001b[38;5;241;43m.\u001b[39;49m\u001b[43mcollect\u001b[49m\u001b[43m(\u001b[49m\u001b[43m_eager\u001b[49m\u001b[38;5;241;43m=\u001b[39;49m\u001b[38;5;28;43;01mTrue\u001b[39;49;00m\u001b[43m)\u001b[49m\n",
      "File \u001b[0;32m~/miniforge3/envs/axiom/lib/python3.9/site-packages/polars/lazyframe/frame.py:1706\u001b[0m, in \u001b[0;36mLazyFrame.collect\u001b[0;34m(self, type_coercion, predicate_pushdown, projection_pushdown, simplify_expression, slice_pushdown, comm_subplan_elim, comm_subexpr_elim, no_optimization, streaming, _eager)\u001b[0m\n\u001b[1;32m   1693\u001b[0m     comm_subplan_elim \u001b[38;5;241m=\u001b[39m \u001b[38;5;28;01mFalse\u001b[39;00m\n\u001b[1;32m   1695\u001b[0m ldf \u001b[38;5;241m=\u001b[39m \u001b[38;5;28mself\u001b[39m\u001b[38;5;241m.\u001b[39m_ldf\u001b[38;5;241m.\u001b[39moptimization_toggle(\n\u001b[1;32m   1696\u001b[0m     type_coercion,\n\u001b[1;32m   1697\u001b[0m     predicate_pushdown,\n\u001b[0;32m   (...)\u001b[0m\n\u001b[1;32m   1704\u001b[0m     _eager,\n\u001b[1;32m   1705\u001b[0m )\n\u001b[0;32m-> 1706\u001b[0m \u001b[38;5;28;01mreturn\u001b[39;00m wrap_df(\u001b[43mldf\u001b[49m\u001b[38;5;241;43m.\u001b[39;49m\u001b[43mcollect\u001b[49m\u001b[43m(\u001b[49m\u001b[43m)\u001b[49m)\n",
      "\u001b[0;31mComputeError\u001b[0m: cannot compare utf-8 with numeric data"
     ]
    }
   ],
   "source": [
    "def ratio_1_to_0(df: pl.DataFrame) -> pl.DataFrame:\n",
    "    ratios = []\n",
    "    for col in df.columns:\n",
    "        # Count 1s and 0s in the column (ignoring NaNs)\n",
    "        count_1 = df.select(col).drop_nulls().filter(pl.col(col) == 1).shape[0]\n",
    "        count_0 = df.select(col).drop_nulls().filter(pl.col(col) == 0).shape[0]\n",
    "        \n",
    "        # Calculate the ratio and handle division by zero\n",
    "        if count_0 > 0:\n",
    "            ratio = count_1 / count_0\n",
    "        else:\n",
    "            ratio = None  # Or some other value to represent no 0s\n",
    "        \n",
    "        # Store the result\n",
    "        ratios.append(ratio)\n",
    "\n",
    "    # Return as a polars DataFrame\n",
    "    return ratios\n",
    "\n",
    "# Example usage with your dataframe 'df'\n",
    "ratios = ratio_1_to_0(toxcast)\n",
    "\n",
    "# Display the results\n",
    "print(ratios)"
   ]
  },
  {
   "cell_type": "code",
   "execution_count": 11,
   "metadata": {},
   "outputs": [
    {
     "name": "stderr",
     "output_type": "stream",
     "text": [
      "/var/folders/g0/nk06fpgs01z6zmr4x7kvp0g80000gp/T/ipykernel_33356/3213557769.py:20: FutureWarning: Using print(plot) to draw and show the plot figure is deprecated and will be removed in a future version. Use plot.show().\n"
     ]
    },
    {
     "data": {
      "image/png": "[encoded data removed]"
     },
     "metadata": {
      "image/png": {
       "height": 480,
       "width": 640
      }
     },
     "output_type": "display_data"
    },
    {
     "name": "stdout",
     "output_type": "stream",
     "text": [
      "\n"
     ]
    }
   ],
   "source": [
    "import pandas as pd\n",
    "from plotnine import ggplot, aes, geom_histogram, scale_x_log10, labs, theme_bw\n",
    "\n",
    "# Create a pandas DataFrame\n",
    "df = pd.DataFrame({'values': ratios})\n",
    "\n",
    "# Create the histogram using plotnine\n",
    "plot = (\n",
    "    ggplot(df, aes(x='values')) +\n",
    "    geom_histogram(binwidth=0.1, fill='blue', color='black') +\n",
    "    scale_x_log10() +\n",
    "    labs(\n",
    "        x='1 to 0 ratio (log scale)',\n",
    "        y='Frequency'\n",
    "    ) +\n",
    "    theme_bw()\n",
    ")\n",
    "\n",
    "# Display the plot\n",
    "print(plot)"
   ]
  }
 ],
 "metadata": {
  "kernelspec": {
   "display_name": "axiom",
   "language": "python",
   "name": "python3"
  },
  "language_info": {
   "codemirror_mode": {
    "name": "ipython",
    "version": 3
   },
   "file_extension": ".py",
   "mimetype": "text/x-python",
   "name": "python",
   "nbconvert_exporter": "python",
   "pygments_lexer": "ipython3",
   "version": "3.9.19"
  }
 },
 "nbformat": 4,
 "nbformat_minor": 2
}
