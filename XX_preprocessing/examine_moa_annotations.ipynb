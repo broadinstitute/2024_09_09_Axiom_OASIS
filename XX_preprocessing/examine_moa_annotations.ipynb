{
 "cells": [
  {
   "cell_type": "code",
   "execution_count": 1,
   "metadata": {},
   "outputs": [],
   "source": [
    "# Imports\n",
    "\n",
    "import polars as pl"
   ]
  },
  {
   "cell_type": "code",
   "execution_count": 16,
   "metadata": {},
   "outputs": [
    {
     "name": "stdout",
     "output_type": "stream",
     "text": [
      "(809250, 6)\n",
      "(283606, 8)\n"
     ]
    }
   ],
   "source": [
    "cg_ann = pl.read_parquet(\"../1_snakemake/inputs/annotations/compound_gene.parquet\")\n",
    "print(cg_ann.shape)\n",
    "meta = pl.read_parquet(\"../1_snakemake/inputs/metadata/metadata.parquet\")\n",
    "oasis = pl.read_csv(\"/Users/jewald/repos/2024_03_18_OASIS/2024_03_18_OASIS-data/data/2_reannotated_compiled_list/v5_oasis_03Sept2024_simple.csv\")\n",
    "\n",
    "oasis = oasis.with_columns(\n",
    "    pl.col(\"INCHIKEY\").str.slice(0,14).alias(\"INCHI_14\")\n",
    ").select([\"OASIS_ID\", \"INCHI_14\"])\n",
    "cg_ann = cg_ann.with_columns(\n",
    "    pl.col(\"inchikey\").str.slice(0,14).alias(\"INCHI_14\")\n",
    ")\n",
    "\n",
    "cg_ann = cg_ann.join(oasis, on=\"INCHI_14\", how=\"inner\")\n",
    "print(cg_ann.shape)"
   ]
  },
  {
   "cell_type": "code",
   "execution_count": 17,
   "metadata": {},
   "outputs": [],
   "source": [
    "cg_summary = cg_ann.select([\"rel_type\", \"source_id\"]).unique()"
   ]
  },
  {
   "cell_type": "code",
   "execution_count": 17,
   "metadata": {},
   "outputs": [],
   "source": [
    "# Create annotation files from Axiom data\n",
    "targets = meta.select([\"Metadata_Compound\", \"Metadata_compound_target\"]).filter(pl.col(\"Metadata_compound_target\").is_not_null())\n",
    "pathways = meta.select([\"Metadata_Compound\", \"Metadata_compound_pathway\"]).filter(pl.col(\"Metadata_compound_pathway\").is_not_null())\n"
   ]
  },
  {
   "cell_type": "code",
   "execution_count": 18,
   "metadata": {},
   "outputs": [],
   "source": [
    "targets = targets.with_columns(\n",
    "    pl.col(\"Metadata_compound_target\").str.split(\"; \").alias(\"Metadata_compound_target\")\n",
    ").explode(\"Metadata_compound_target\").unique()\n",
    "\n",
    "pathways = pathways.with_columns(\n",
    "    pl.col(\"Metadata_compound_pathway\").str.split(\"; \").alias(\"Metadata_compound_pathway\")\n",
    ").explode(\"Metadata_compound_pathway\").unique()"
   ]
  },
  {
   "cell_type": "code",
   "execution_count": 19,
   "metadata": {},
   "outputs": [],
   "source": [
    "target_counts = targets.group_by(\"Metadata_compound_target\").count()\n",
    "pathway_counts = pathways.group_by(\"Metadata_compound_pathway\").count()"
   ]
  },
  {
   "cell_type": "markdown",
   "metadata": {},
   "source": [
    "Get annotations from ToxCast.\n",
    "Download latest version of invitrodb from here: https://clowder.edap-cluster.com/datasets/647f712de4b08a6b394e4281?space=647f710ee4b08a6b394e426b\n",
    "\n",
    "Install mysql on Mac:\n",
    "brew install mysql@8.0\n",
    "brew link mysql@8.0 --force\n",
    "brew services start mysql@8.0\n",
    "brew services list\n",
    "\n",
    "Create empty database to extract SQL dump to:\n",
    "mysql -u root\n",
    "CREATE DATABASE invitrodb_v4_1;\n",
    "EXIT;\n",
    "\n",
    "Unzip the compressed sql dump (expanded size is ~100GB):\n",
    "gunzip invitrodb_v4_1_mysql.gz\n",
    "\n",
    "Import into database we created earlier:\n",
    "mysql -u root invitrodb_v4_1 < invitrodb_v4_1_mysql.sql\n",
    "\n",
    "Log back in and verify data is there:\n",
    "mysql -u root\n",
    "USE prod_internal_invitrodb_v4_1;\n",
    "SHOW TABLES;\n",
    "\n",
    "\n"
   ]
  }
 ],
 "metadata": {
  "kernelspec": {
   "display_name": "axiom",
   "language": "python",
   "name": "python3"
  },
  "language_info": {
   "codemirror_mode": {
    "name": "ipython",
    "version": 3
   },
   "file_extension": ".py",
   "mimetype": "text/x-python",
   "name": "python",
   "nbconvert_exporter": "python",
   "pygments_lexer": "ipython3",
   "version": "3.9.19"
  }
 },
 "nbformat": 4,
 "nbformat_minor": 2
}
