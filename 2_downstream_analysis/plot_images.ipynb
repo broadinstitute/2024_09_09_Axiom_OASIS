{
 "cells": [
  {
   "cell_type": "markdown",
   "metadata": {},
   "source": [
    "# Plot images\n",
    "\n",
    "Query img files by plate and site, then download TIFF, combine channels, and visualize"
   ]
  },
  {
   "cell_type": "code",
   "execution_count": 1,
   "metadata": {},
   "outputs": [],
   "source": [
    "import polars as pl\n",
    "import numpy as np\n",
    "import matplotlib.pyplot as plt\n",
    "from PIL import Image"
   ]
  },
  {
   "cell_type": "code",
   "execution_count": 5,
   "metadata": {},
   "outputs": [],
   "source": [
    "index_path = \"../1_snakemake/inputs/images/index.parquet\"\n",
    "meta_path = \"../1_snakemake/inputs/metadata/metadata.parquet\"\n",
    "\n",
    "index = pl.read_parquet(index_path)\n",
    "meta = pl.read_parquet(meta_path)"
   ]
  },
  {
   "cell_type": "code",
   "execution_count": 3,
   "metadata": {},
   "outputs": [
    {
     "data": {
      "text/html": [
       "<div><style>\n",
       ".dataframe > thead > tr,\n",
       ".dataframe > tbody > tr {\n",
       "  text-align: right;\n",
       "  white-space: pre-wrap;\n",
       "}\n",
       "</style>\n",
       "<small>shape: (2_021_712, 6)</small><table border=\"1\" class=\"dataframe\"><thead><tr><th>Metadata_Batch</th><th>Metadata_Plate</th><th>Metadata_Well</th><th>Metadata_Site</th><th>Channel</th><th>Filename</th></tr><tr><td>str</td><td>str</td><td>str</td><td>i64</td><td>str</td><td>str</td></tr></thead><tbody><tr><td>&quot;prod_26&quot;</td><td>&quot;plate_41002885…</td><td>&quot;A01&quot;</td><td>1</td><td>&quot;Brightfield&quot;</td><td>&quot;r01c01f01p01-c…</td></tr><tr><td>&quot;prod_26&quot;</td><td>&quot;plate_41002885…</td><td>&quot;A01&quot;</td><td>2</td><td>&quot;Brightfield&quot;</td><td>&quot;r01c01f02p01-c…</td></tr><tr><td>&quot;prod_26&quot;</td><td>&quot;plate_41002885…</td><td>&quot;A01&quot;</td><td>3</td><td>&quot;Brightfield&quot;</td><td>&quot;r01c01f03p01-c…</td></tr><tr><td>&quot;prod_26&quot;</td><td>&quot;plate_41002885…</td><td>&quot;A01&quot;</td><td>4</td><td>&quot;Brightfield&quot;</td><td>&quot;r01c01f04p01-c…</td></tr><tr><td>&quot;prod_26&quot;</td><td>&quot;plate_41002885…</td><td>&quot;A01&quot;</td><td>5</td><td>&quot;Brightfield&quot;</td><td>&quot;r01c01f05p01-c…</td></tr><tr><td>&quot;prod_26&quot;</td><td>&quot;plate_41002885…</td><td>&quot;A01&quot;</td><td>6</td><td>&quot;Brightfield&quot;</td><td>&quot;r01c01f06p01-c…</td></tr><tr><td>&quot;prod_26&quot;</td><td>&quot;plate_41002885…</td><td>&quot;A01&quot;</td><td>7</td><td>&quot;Brightfield&quot;</td><td>&quot;r01c01f07p01-c…</td></tr><tr><td>&quot;prod_26&quot;</td><td>&quot;plate_41002885…</td><td>&quot;A01&quot;</td><td>8</td><td>&quot;Brightfield&quot;</td><td>&quot;r01c01f08p01-c…</td></tr><tr><td>&quot;prod_26&quot;</td><td>&quot;plate_41002885…</td><td>&quot;A01&quot;</td><td>9</td><td>&quot;Brightfield&quot;</td><td>&quot;r01c01f09p01-c…</td></tr><tr><td>&quot;prod_26&quot;</td><td>&quot;plate_41002885…</td><td>&quot;A01&quot;</td><td>10</td><td>&quot;Brightfield&quot;</td><td>&quot;r01c01f10p01-c…</td></tr><tr><td>&quot;prod_26&quot;</td><td>&quot;plate_41002885…</td><td>&quot;A01&quot;</td><td>11</td><td>&quot;Brightfield&quot;</td><td>&quot;r01c01f11p01-c…</td></tr><tr><td>&quot;prod_26&quot;</td><td>&quot;plate_41002885…</td><td>&quot;A01&quot;</td><td>12</td><td>&quot;Brightfield&quot;</td><td>&quot;r01c01f12p01-c…</td></tr><tr><td>&hellip;</td><td>&hellip;</td><td>&hellip;</td><td>&hellip;</td><td>&hellip;</td><td>&hellip;</td></tr><tr><td>&quot;prod_25&quot;</td><td>&quot;plate_41002687…</td><td>&quot;P24&quot;</td><td>4</td><td>&quot;AGP&quot;</td><td>&quot;r16c24f04p01-c…</td></tr><tr><td>&quot;prod_25&quot;</td><td>&quot;plate_41002687…</td><td>&quot;P24&quot;</td><td>5</td><td>&quot;AGP&quot;</td><td>&quot;r16c24f05p01-c…</td></tr><tr><td>&quot;prod_25&quot;</td><td>&quot;plate_41002687…</td><td>&quot;P24&quot;</td><td>6</td><td>&quot;AGP&quot;</td><td>&quot;r16c24f06p01-c…</td></tr><tr><td>&quot;prod_25&quot;</td><td>&quot;plate_41002687…</td><td>&quot;P24&quot;</td><td>7</td><td>&quot;AGP&quot;</td><td>&quot;r16c24f07p01-c…</td></tr><tr><td>&quot;prod_25&quot;</td><td>&quot;plate_41002687…</td><td>&quot;P24&quot;</td><td>8</td><td>&quot;AGP&quot;</td><td>&quot;r16c24f08p01-c…</td></tr><tr><td>&quot;prod_25&quot;</td><td>&quot;plate_41002687…</td><td>&quot;P24&quot;</td><td>9</td><td>&quot;AGP&quot;</td><td>&quot;r16c24f09p01-c…</td></tr><tr><td>&quot;prod_25&quot;</td><td>&quot;plate_41002687…</td><td>&quot;P24&quot;</td><td>10</td><td>&quot;AGP&quot;</td><td>&quot;r16c24f10p01-c…</td></tr><tr><td>&quot;prod_25&quot;</td><td>&quot;plate_41002687…</td><td>&quot;P24&quot;</td><td>11</td><td>&quot;AGP&quot;</td><td>&quot;r16c24f11p01-c…</td></tr><tr><td>&quot;prod_25&quot;</td><td>&quot;plate_41002687…</td><td>&quot;P24&quot;</td><td>12</td><td>&quot;AGP&quot;</td><td>&quot;r16c24f12p01-c…</td></tr><tr><td>&quot;prod_25&quot;</td><td>&quot;plate_41002687…</td><td>&quot;P24&quot;</td><td>13</td><td>&quot;AGP&quot;</td><td>&quot;r16c24f13p01-c…</td></tr><tr><td>&quot;prod_25&quot;</td><td>&quot;plate_41002687…</td><td>&quot;P24&quot;</td><td>14</td><td>&quot;AGP&quot;</td><td>&quot;r16c24f14p01-c…</td></tr><tr><td>&quot;prod_25&quot;</td><td>&quot;plate_41002687…</td><td>&quot;P24&quot;</td><td>15</td><td>&quot;AGP&quot;</td><td>&quot;r16c24f15p01-c…</td></tr></tbody></table></div>"
      ],
      "text/plain": [
       "shape: (2_021_712, 6)\n",
       "┌────────────────┬────────────────┬───────────────┬───────────────┬─────────────┬──────────────────┐\n",
       "│ Metadata_Batch ┆ Metadata_Plate ┆ Metadata_Well ┆ Metadata_Site ┆ Channel     ┆ Filename         │\n",
       "│ ---            ┆ ---            ┆ ---           ┆ ---           ┆ ---         ┆ ---              │\n",
       "│ str            ┆ str            ┆ str           ┆ i64           ┆ str         ┆ str              │\n",
       "╞════════════════╪════════════════╪═══════════════╪═══════════════╪═════════════╪══════════════════╡\n",
       "│ prod_26        ┆ plate_41002885 ┆ A01           ┆ 1             ┆ Brightfield ┆ r01c01f01p01-ch6 │\n",
       "│                ┆                ┆               ┆               ┆             ┆ sk1fk1fl1.tiff   │\n",
       "│ prod_26        ┆ plate_41002885 ┆ A01           ┆ 2             ┆ Brightfield ┆ r01c01f02p01-ch6 │\n",
       "│                ┆                ┆               ┆               ┆             ┆ sk1fk1fl1.tiff   │\n",
       "│ prod_26        ┆ plate_41002885 ┆ A01           ┆ 3             ┆ Brightfield ┆ r01c01f03p01-ch6 │\n",
       "│                ┆                ┆               ┆               ┆             ┆ sk1fk1fl1.tiff   │\n",
       "│ prod_26        ┆ plate_41002885 ┆ A01           ┆ 4             ┆ Brightfield ┆ r01c01f04p01-ch6 │\n",
       "│                ┆                ┆               ┆               ┆             ┆ sk1fk1fl1.tiff   │\n",
       "│ …              ┆ …              ┆ …             ┆ …             ┆ …           ┆ …                │\n",
       "│ prod_25        ┆ plate_41002687 ┆ P24           ┆ 12            ┆ AGP         ┆ r16c24f12p01-ch3 │\n",
       "│                ┆                ┆               ┆               ┆             ┆ sk1fk1fl1.tiff   │\n",
       "│ prod_25        ┆ plate_41002687 ┆ P24           ┆ 13            ┆ AGP         ┆ r16c24f13p01-ch3 │\n",
       "│                ┆                ┆               ┆               ┆             ┆ sk1fk1fl1.tiff   │\n",
       "│ prod_25        ┆ plate_41002687 ┆ P24           ┆ 14            ┆ AGP         ┆ r16c24f14p01-ch3 │\n",
       "│                ┆                ┆               ┆               ┆             ┆ sk1fk1fl1.tiff   │\n",
       "│ prod_25        ┆ plate_41002687 ┆ P24           ┆ 15            ┆ AGP         ┆ r16c24f15p01-ch3 │\n",
       "│                ┆                ┆               ┆               ┆             ┆ sk1fk1fl1.tiff   │\n",
       "└────────────────┴────────────────┴───────────────┴───────────────┴─────────────┴──────────────────┘"
      ]
     },
     "execution_count": 3,
     "metadata": {},
     "output_type": "execute_result"
    }
   ],
   "source": [
    "pl.read_parquet(index_path)"
   ]
  }
 ],
 "metadata": {
  "kernelspec": {
   "display_name": "axiom",
   "language": "python",
   "name": "python3"
  },
  "language_info": {
   "codemirror_mode": {
    "name": "ipython",
    "version": 3
   },
   "file_extension": ".py",
   "mimetype": "text/x-python",
   "name": "python",
   "nbconvert_exporter": "python",
   "pygments_lexer": "ipython3",
   "version": "3.9.19"
  }
 },
 "nbformat": 4,
 "nbformat_minor": 2
}
