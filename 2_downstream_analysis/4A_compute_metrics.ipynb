{
 "cells": [
  {
   "cell_type": "markdown",
   "metadata": {},
   "source": [
    "# Compute metrics and combine across datasets"
   ]
  },
  {
   "cell_type": "code",
   "execution_count": 1,
   "metadata": {},
   "outputs": [],
   "source": [
    "import polars as pl \n",
    "from sklearn.metrics import roc_auc_score, precision_recall_curve, auc\n",
    "\n",
    "output_dir = \"../1_snakemake/outputs\"\n",
    "results_dir = \"./compiled_results\""
   ]
  },
  {
   "cell_type": "markdown",
   "metadata": {},
   "source": [
    "## Shared functions"
   ]
  },
  {
   "cell_type": "code",
   "execution_count": 2,
   "metadata": {},
   "outputs": [],
   "source": [
    "def compute_metrics(y_pred, y_actual, y_prob):\n",
    "    try:\n",
    "        auroc = roc_auc_score(y_actual, y_prob)\n",
    "    except ValueError:\n",
    "        auroc = None\n",
    "\n",
    "    try:\n",
    "        precision, recall, _ = precision_recall_curve(y_actual, y_prob)\n",
    "        prauc = auc(recall, precision)\n",
    "    except ValueError:\n",
    "        prauc = None\n",
    "    \n",
    "    return auroc, prauc\n",
    "\n",
    "\n",
    "def process_metrics(pred: pl.DataFrame):\n",
    "    class_balance = pred.select([\"Metadata_AggType\", \"Metadata_Label\", \"Metadata_Count_0\", \"Metadata_Count_1\"]).unique()\n",
    "\n",
    "    grouped = pred.group_by(['Metadata_AggType', 'Metadata_Label']).agg([\n",
    "        pl.col('y_pred').alias('y_pred_list'),\n",
    "        pl.col('y_actual').alias('y_actual_list'),\n",
    "        pl.col('y_prob').alias('y_prob_list'),\n",
    "    ])\n",
    "\n",
    "    result = grouped.with_columns([\n",
    "        pl.struct(['y_pred_list', 'y_actual_list', 'y_prob_list']).map_elements(\n",
    "            lambda s: compute_metrics(s['y_pred_list'], s['y_actual_list'], s['y_prob_list'])\n",
    "        ).alias('metrics')\n",
    "    ])\n",
    "\n",
    "    result = result.with_columns([\n",
    "        pl.col('metrics').map_elements(lambda s: s[0]).alias('AUROC'),\n",
    "        pl.col('metrics').map_elements(lambda s: s[1]).alias('PRAUC'),\n",
    "    ])\n",
    "\n",
    "    result = result.drop(['y_pred_list', 'y_actual_list', 'y_prob_list', 'metrics'])\n",
    "    return result.join(class_balance, on=['Metadata_AggType', 'Metadata_Label'])"
   ]
  },
  {
   "cell_type": "markdown",
   "metadata": {},
   "source": [
    "## Seal outcomes"
   ]
  },
  {
   "cell_type": "code",
   "execution_count": 9,
   "metadata": {},
   "outputs": [
    {
     "name": "stderr",
     "output_type": "stream",
     "text": [
      "/tmp/ipykernel_44846/31791283.py:25: MapWithoutReturnDtypeWarning: Calling `map_elements` without specifying `return_dtype` can lead to unpredictable results. Specify `return_dtype` to silence this warning.\n",
      "  result = grouped.with_columns([\n",
      "sys:1: MapWithoutReturnDtypeWarning: Calling `map_elements` without specifying `return_dtype` can lead to unpredictable results. Specify `return_dtype` to silence this warning.\n",
      "sys:1: MapWithoutReturnDtypeWarning: Calling `map_elements` without specifying `return_dtype` can lead to unpredictable results. Specify `return_dtype` to silence this warning.\n",
      "/tmp/ipykernel_44846/31791283.py:25: MapWithoutReturnDtypeWarning: Calling `map_elements` without specifying `return_dtype` can lead to unpredictable results. Specify `return_dtype` to silence this warning.\n",
      "  result = grouped.with_columns([\n",
      "sys:1: MapWithoutReturnDtypeWarning: Calling `map_elements` without specifying `return_dtype` can lead to unpredictable results. Specify `return_dtype` to silence this warning.\n",
      "sys:1: MapWithoutReturnDtypeWarning: Calling `map_elements` without specifying `return_dtype` can lead to unpredictable results. Specify `return_dtype` to silence this warning.\n",
      "/tmp/ipykernel_44846/31791283.py:25: MapWithoutReturnDtypeWarning: Calling `map_elements` without specifying `return_dtype` can lead to unpredictable results. Specify `return_dtype` to silence this warning.\n",
      "  result = grouped.with_columns([\n",
      "sys:1: MapWithoutReturnDtypeWarning: Calling `map_elements` without specifying `return_dtype` can lead to unpredictable results. Specify `return_dtype` to silence this warning.\n",
      "sys:1: MapWithoutReturnDtypeWarning: Calling `map_elements` without specifying `return_dtype` can lead to unpredictable results. Specify `return_dtype` to silence this warning.\n",
      "/tmp/ipykernel_44846/31791283.py:25: MapWithoutReturnDtypeWarning: Calling `map_elements` without specifying `return_dtype` can lead to unpredictable results. Specify `return_dtype` to silence this warning.\n",
      "  result = grouped.with_columns([\n",
      "sys:1: MapWithoutReturnDtypeWarning: Calling `map_elements` without specifying `return_dtype` can lead to unpredictable results. Specify `return_dtype` to silence this warning.\n",
      "sys:1: MapWithoutReturnDtypeWarning: Calling `map_elements` without specifying `return_dtype` can lead to unpredictable results. Specify `return_dtype` to silence this warning.\n",
      "/tmp/ipykernel_44846/31791283.py:25: MapWithoutReturnDtypeWarning: Calling `map_elements` without specifying `return_dtype` can lead to unpredictable results. Specify `return_dtype` to silence this warning.\n",
      "  result = grouped.with_columns([\n",
      "sys:1: MapWithoutReturnDtypeWarning: Calling `map_elements` without specifying `return_dtype` can lead to unpredictable results. Specify `return_dtype` to silence this warning.\n",
      "sys:1: MapWithoutReturnDtypeWarning: Calling `map_elements` without specifying `return_dtype` can lead to unpredictable results. Specify `return_dtype` to silence this warning.\n",
      "/tmp/ipykernel_44846/31791283.py:25: MapWithoutReturnDtypeWarning: Calling `map_elements` without specifying `return_dtype` can lead to unpredictable results. Specify `return_dtype` to silence this warning.\n",
      "  result = grouped.with_columns([\n",
      "sys:1: MapWithoutReturnDtypeWarning: Calling `map_elements` without specifying `return_dtype` can lead to unpredictable results. Specify `return_dtype` to silence this warning.\n",
      "sys:1: MapWithoutReturnDtypeWarning: Calling `map_elements` without specifying `return_dtype` can lead to unpredictable results. Specify `return_dtype` to silence this warning.\n"
     ]
    }
   ],
   "source": [
    "pred_suffix = \"mad_featselect/classifier_results/seal_binary_predictions.parquet\"\n",
    "null_suffix = \"mad_featselect/classifier_results/seal_binary_null.parquet\"\n",
    "\n",
    "# Compute metrics\n",
    "cpcnn = process_metrics(pl.read_parquet(f\"{output_dir}/cpcnn/{pred_suffix}\")).with_columns(\n",
    "    pl.lit(\"cpcnn\").alias(\"Feat_type\"),\n",
    "    pl.lit(\"Actual\").alias(\"Model_type\")\n",
    ")\n",
    "dino = process_metrics(pl.read_parquet(f\"{output_dir}/dino/{pred_suffix}\")).with_columns(\n",
    "    pl.lit(\"dino\").alias(\"Feat_type\"),\n",
    "    pl.lit(\"Actual\").alias(\"Model_type\")\n",
    ")\n",
    "cellprofiler = process_metrics(pl.read_parquet(f\"{output_dir}/cellprofiler/{pred_suffix}\")).with_columns(\n",
    "    pl.lit(\"cellprofiler\").alias(\"Feat_type\"),\n",
    "    pl.lit(\"Actual\").alias(\"Model_type\")\n",
    ")\n",
    "\n",
    "cpcnn_null = process_metrics(pl.read_parquet(f\"{output_dir}/cpcnn/{null_suffix}\")).with_columns(\n",
    "    pl.lit(\"cpcnn\").alias(\"Feat_type\"),\n",
    "    pl.lit(\"Random_baseline\").alias(\"Model_type\")\n",
    ")\n",
    "dino_null = process_metrics(pl.read_parquet(f\"{output_dir}/dino/{null_suffix}\")).with_columns(\n",
    "    pl.lit(\"dino\").alias(\"Feat_type\"),\n",
    "    pl.lit(\"Random_baseline\").alias(\"Model_type\")\n",
    ")\n",
    "cellprofiler_null = process_metrics(pl.read_parquet(f\"{output_dir}/cellprofiler/{null_suffix}\")).with_columns(\n",
    "    pl.lit(\"cellprofiler\").alias(\"Feat_type\"),\n",
    "    pl.lit(\"Random_baseline\").alias(\"Model_type\")\n",
    ")\n",
    "\n",
    "# Combine\n",
    "all_results = pl.concat([cpcnn, dino, cellprofiler, cpcnn_null, dino_null, cellprofiler_null], how=\"vertical\")\n",
    "all_results.write_parquet(f\"{results_dir}/compiled_seal_metrics.parquet\")"
   ]
  },
  {
   "cell_type": "markdown",
   "metadata": {},
   "source": [
    "## Motive outcomes"
   ]
  },
  {
   "cell_type": "code",
   "execution_count": 6,
   "metadata": {},
   "outputs": [
    {
     "name": "stderr",
     "output_type": "stream",
     "text": [
      "/tmp/ipykernel_44846/31791283.py:25: MapWithoutReturnDtypeWarning: Calling `map_elements` without specifying `return_dtype` can lead to unpredictable results. Specify `return_dtype` to silence this warning.\n",
      "  result = grouped.with_columns([\n",
      "sys:1: MapWithoutReturnDtypeWarning: Calling `map_elements` without specifying `return_dtype` can lead to unpredictable results. Specify `return_dtype` to silence this warning.\n",
      "sys:1: MapWithoutReturnDtypeWarning: Calling `map_elements` without specifying `return_dtype` can lead to unpredictable results. Specify `return_dtype` to silence this warning.\n",
      "/tmp/ipykernel_44846/31791283.py:25: MapWithoutReturnDtypeWarning: Calling `map_elements` without specifying `return_dtype` can lead to unpredictable results. Specify `return_dtype` to silence this warning.\n",
      "  result = grouped.with_columns([\n",
      "sys:1: MapWithoutReturnDtypeWarning: Calling `map_elements` without specifying `return_dtype` can lead to unpredictable results. Specify `return_dtype` to silence this warning.\n",
      "sys:1: MapWithoutReturnDtypeWarning: Calling `map_elements` without specifying `return_dtype` can lead to unpredictable results. Specify `return_dtype` to silence this warning.\n",
      "/tmp/ipykernel_44846/31791283.py:25: MapWithoutReturnDtypeWarning: Calling `map_elements` without specifying `return_dtype` can lead to unpredictable results. Specify `return_dtype` to silence this warning.\n",
      "  result = grouped.with_columns([\n",
      "sys:1: MapWithoutReturnDtypeWarning: Calling `map_elements` without specifying `return_dtype` can lead to unpredictable results. Specify `return_dtype` to silence this warning.\n",
      "sys:1: MapWithoutReturnDtypeWarning: Calling `map_elements` without specifying `return_dtype` can lead to unpredictable results. Specify `return_dtype` to silence this warning.\n"
     ]
    }
   ],
   "source": [
    "# Compute metrics\n",
    "cpcnn = process_metrics(pl.read_parquet(f\"{output_dir}/cpcnn/mad_featselect/classifier_results/motive_binary_predictions.parquet\"))\n",
    "dino = process_metrics(pl.read_parquet(f\"{output_dir}/dino/mad_featselect/classifier_results/motive_binary_predictions.parquet\"))\n",
    "cellprofiler = process_metrics(pl.read_parquet(f\"{output_dir}/cellprofiler/mad_featselect/classifier_results/motive_binary_predictions.parquet\"))\n",
    "\n",
    "# Combine\n",
    "cpcnn = cpcnn.with_columns(pl.lit(\"cpcnn\").alias(\"Feat_type\"))\n",
    "dino = dino.with_columns(pl.lit(\"dino\").alias(\"Feat_type\"))\n",
    "cellprofiler = cellprofiler.with_columns(pl.lit(\"cellprofiler\").alias(\"Feat_type\"))\n",
    "\n",
    "all_results = pl.concat([cpcnn, dino, cellprofiler], how=\"vertical\")\n",
    "all_results.write_parquet(f\"{results_dir}/compiled_motive_metrics.parquet\")"
   ]
  },
  {
   "cell_type": "markdown",
   "metadata": {},
   "source": [
    "## Binarized Axiom outcomes"
   ]
  },
  {
   "cell_type": "code",
   "execution_count": 3,
   "metadata": {},
   "outputs": [
    {
     "name": "stderr",
     "output_type": "stream",
     "text": [
      "/tmp/ipykernel_1818/31791283.py:25: MapWithoutReturnDtypeWarning: Calling `map_elements` without specifying `return_dtype` can lead to unpredictable results. Specify `return_dtype` to silence this warning.\n",
      "  result = grouped.with_columns([\n",
      "sys:1: MapWithoutReturnDtypeWarning: Calling `map_elements` without specifying `return_dtype` can lead to unpredictable results. Specify `return_dtype` to silence this warning.\n",
      "sys:1: MapWithoutReturnDtypeWarning: Calling `map_elements` without specifying `return_dtype` can lead to unpredictable results. Specify `return_dtype` to silence this warning.\n"
     ]
    },
    {
     "ename": "FileNotFoundError",
     "evalue": "No such file or directory (os error 2): ...nakemake/outputs/dino/mad_featselect/classifier_results/axiom_binary_predictions.parquet",
     "output_type": "error",
     "traceback": [
      "\u001b[0;31m---------------------------------------------------------------------------\u001b[0m",
      "\u001b[0;31mFileNotFoundError\u001b[0m                         Traceback (most recent call last)",
      "Cell \u001b[0;32mIn[3], line 10\u001b[0m\n\u001b[1;32m      5\u001b[0m \u001b[38;5;66;03m# Compute metrics\u001b[39;00m\n\u001b[1;32m      6\u001b[0m cpcnn \u001b[38;5;241m=\u001b[39m process_metrics(pl\u001b[38;5;241m.\u001b[39mread_parquet(\u001b[38;5;124mf\u001b[39m\u001b[38;5;124m\"\u001b[39m\u001b[38;5;132;01m{\u001b[39;00moutput_dir\u001b[38;5;132;01m}\u001b[39;00m\u001b[38;5;124m/cpcnn/\u001b[39m\u001b[38;5;132;01m{\u001b[39;00mpred_suffix\u001b[38;5;132;01m}\u001b[39;00m\u001b[38;5;124m\"\u001b[39m))\u001b[38;5;241m.\u001b[39mwith_columns(\n\u001b[1;32m      7\u001b[0m     pl\u001b[38;5;241m.\u001b[39mlit(\u001b[38;5;124m\"\u001b[39m\u001b[38;5;124mcpcnn\u001b[39m\u001b[38;5;124m\"\u001b[39m)\u001b[38;5;241m.\u001b[39malias(\u001b[38;5;124m\"\u001b[39m\u001b[38;5;124mFeat_type\u001b[39m\u001b[38;5;124m\"\u001b[39m),\n\u001b[1;32m      8\u001b[0m     pl\u001b[38;5;241m.\u001b[39mlit(\u001b[38;5;124m\"\u001b[39m\u001b[38;5;124mActual\u001b[39m\u001b[38;5;124m\"\u001b[39m)\u001b[38;5;241m.\u001b[39malias(\u001b[38;5;124m\"\u001b[39m\u001b[38;5;124mModel_type\u001b[39m\u001b[38;5;124m\"\u001b[39m)\n\u001b[1;32m      9\u001b[0m )\n\u001b[0;32m---> 10\u001b[0m dino \u001b[38;5;241m=\u001b[39m process_metrics(\u001b[43mpl\u001b[49m\u001b[38;5;241;43m.\u001b[39;49m\u001b[43mread_parquet\u001b[49m\u001b[43m(\u001b[49m\u001b[38;5;124;43mf\u001b[39;49m\u001b[38;5;124;43m\"\u001b[39;49m\u001b[38;5;132;43;01m{\u001b[39;49;00m\u001b[43moutput_dir\u001b[49m\u001b[38;5;132;43;01m}\u001b[39;49;00m\u001b[38;5;124;43m/dino/\u001b[39;49m\u001b[38;5;132;43;01m{\u001b[39;49;00m\u001b[43mpred_suffix\u001b[49m\u001b[38;5;132;43;01m}\u001b[39;49;00m\u001b[38;5;124;43m\"\u001b[39;49m\u001b[43m)\u001b[49m)\u001b[38;5;241m.\u001b[39mwith_columns(\n\u001b[1;32m     11\u001b[0m     pl\u001b[38;5;241m.\u001b[39mlit(\u001b[38;5;124m\"\u001b[39m\u001b[38;5;124mdino\u001b[39m\u001b[38;5;124m\"\u001b[39m)\u001b[38;5;241m.\u001b[39malias(\u001b[38;5;124m\"\u001b[39m\u001b[38;5;124mFeat_type\u001b[39m\u001b[38;5;124m\"\u001b[39m),\n\u001b[1;32m     12\u001b[0m     pl\u001b[38;5;241m.\u001b[39mlit(\u001b[38;5;124m\"\u001b[39m\u001b[38;5;124mActual\u001b[39m\u001b[38;5;124m\"\u001b[39m)\u001b[38;5;241m.\u001b[39malias(\u001b[38;5;124m\"\u001b[39m\u001b[38;5;124mModel_type\u001b[39m\u001b[38;5;124m\"\u001b[39m)\n\u001b[1;32m     13\u001b[0m )\n\u001b[1;32m     14\u001b[0m cellprofiler \u001b[38;5;241m=\u001b[39m process_metrics(pl\u001b[38;5;241m.\u001b[39mread_parquet(\u001b[38;5;124mf\u001b[39m\u001b[38;5;124m\"\u001b[39m\u001b[38;5;132;01m{\u001b[39;00moutput_dir\u001b[38;5;132;01m}\u001b[39;00m\u001b[38;5;124m/cellprofiler/\u001b[39m\u001b[38;5;132;01m{\u001b[39;00mpred_suffix\u001b[38;5;132;01m}\u001b[39;00m\u001b[38;5;124m\"\u001b[39m))\u001b[38;5;241m.\u001b[39mwith_columns(\n\u001b[1;32m     15\u001b[0m     pl\u001b[38;5;241m.\u001b[39mlit(\u001b[38;5;124m\"\u001b[39m\u001b[38;5;124mcellprofiler\u001b[39m\u001b[38;5;124m\"\u001b[39m)\u001b[38;5;241m.\u001b[39malias(\u001b[38;5;124m\"\u001b[39m\u001b[38;5;124mFeat_type\u001b[39m\u001b[38;5;124m\"\u001b[39m),\n\u001b[1;32m     16\u001b[0m     pl\u001b[38;5;241m.\u001b[39mlit(\u001b[38;5;124m\"\u001b[39m\u001b[38;5;124mActual\u001b[39m\u001b[38;5;124m\"\u001b[39m)\u001b[38;5;241m.\u001b[39malias(\u001b[38;5;124m\"\u001b[39m\u001b[38;5;124mModel_type\u001b[39m\u001b[38;5;124m\"\u001b[39m)\n\u001b[1;32m     17\u001b[0m )\n\u001b[1;32m     19\u001b[0m cpcnn_null \u001b[38;5;241m=\u001b[39m process_metrics(pl\u001b[38;5;241m.\u001b[39mread_parquet(\u001b[38;5;124mf\u001b[39m\u001b[38;5;124m\"\u001b[39m\u001b[38;5;132;01m{\u001b[39;00moutput_dir\u001b[38;5;132;01m}\u001b[39;00m\u001b[38;5;124m/cpcnn/\u001b[39m\u001b[38;5;132;01m{\u001b[39;00mnull_suffix\u001b[38;5;132;01m}\u001b[39;00m\u001b[38;5;124m\"\u001b[39m))\u001b[38;5;241m.\u001b[39mwith_columns(\n\u001b[1;32m     20\u001b[0m     pl\u001b[38;5;241m.\u001b[39mlit(\u001b[38;5;124m\"\u001b[39m\u001b[38;5;124mcpcnn\u001b[39m\u001b[38;5;124m\"\u001b[39m)\u001b[38;5;241m.\u001b[39malias(\u001b[38;5;124m\"\u001b[39m\u001b[38;5;124mFeat_type\u001b[39m\u001b[38;5;124m\"\u001b[39m),\n\u001b[1;32m     21\u001b[0m     pl\u001b[38;5;241m.\u001b[39mlit(\u001b[38;5;124m\"\u001b[39m\u001b[38;5;124mRandom_baseline\u001b[39m\u001b[38;5;124m\"\u001b[39m)\u001b[38;5;241m.\u001b[39malias(\u001b[38;5;124m\"\u001b[39m\u001b[38;5;124mModel_type\u001b[39m\u001b[38;5;124m\"\u001b[39m)\n\u001b[1;32m     22\u001b[0m )\n",
      "File \u001b[0;32m/dgx1nas1/storage/data/jess/miniforge3/envs/axiom/lib/python3.9/site-packages/polars/_utils/deprecation.py:92\u001b[0m, in \u001b[0;36mdeprecate_renamed_parameter.<locals>.decorate.<locals>.wrapper\u001b[0;34m(*args, **kwargs)\u001b[0m\n\u001b[1;32m     87\u001b[0m \u001b[38;5;129m@wraps\u001b[39m(function)\n\u001b[1;32m     88\u001b[0m \u001b[38;5;28;01mdef\u001b[39;00m \u001b[38;5;21mwrapper\u001b[39m(\u001b[38;5;241m*\u001b[39margs: P\u001b[38;5;241m.\u001b[39margs, \u001b[38;5;241m*\u001b[39m\u001b[38;5;241m*\u001b[39mkwargs: P\u001b[38;5;241m.\u001b[39mkwargs) \u001b[38;5;241m-\u001b[39m\u001b[38;5;241m>\u001b[39m T:\n\u001b[1;32m     89\u001b[0m     _rename_keyword_argument(\n\u001b[1;32m     90\u001b[0m         old_name, new_name, kwargs, function\u001b[38;5;241m.\u001b[39m\u001b[38;5;18m__qualname__\u001b[39m, version\n\u001b[1;32m     91\u001b[0m     )\n\u001b[0;32m---> 92\u001b[0m     \u001b[38;5;28;01mreturn\u001b[39;00m \u001b[43mfunction\u001b[49m\u001b[43m(\u001b[49m\u001b[38;5;241;43m*\u001b[39;49m\u001b[43margs\u001b[49m\u001b[43m,\u001b[49m\u001b[43m \u001b[49m\u001b[38;5;241;43m*\u001b[39;49m\u001b[38;5;241;43m*\u001b[39;49m\u001b[43mkwargs\u001b[49m\u001b[43m)\u001b[49m\n",
      "File \u001b[0;32m/dgx1nas1/storage/data/jess/miniforge3/envs/axiom/lib/python3.9/site-packages/polars/_utils/deprecation.py:92\u001b[0m, in \u001b[0;36mdeprecate_renamed_parameter.<locals>.decorate.<locals>.wrapper\u001b[0;34m(*args, **kwargs)\u001b[0m\n\u001b[1;32m     87\u001b[0m \u001b[38;5;129m@wraps\u001b[39m(function)\n\u001b[1;32m     88\u001b[0m \u001b[38;5;28;01mdef\u001b[39;00m \u001b[38;5;21mwrapper\u001b[39m(\u001b[38;5;241m*\u001b[39margs: P\u001b[38;5;241m.\u001b[39margs, \u001b[38;5;241m*\u001b[39m\u001b[38;5;241m*\u001b[39mkwargs: P\u001b[38;5;241m.\u001b[39mkwargs) \u001b[38;5;241m-\u001b[39m\u001b[38;5;241m>\u001b[39m T:\n\u001b[1;32m     89\u001b[0m     _rename_keyword_argument(\n\u001b[1;32m     90\u001b[0m         old_name, new_name, kwargs, function\u001b[38;5;241m.\u001b[39m\u001b[38;5;18m__qualname__\u001b[39m, version\n\u001b[1;32m     91\u001b[0m     )\n\u001b[0;32m---> 92\u001b[0m     \u001b[38;5;28;01mreturn\u001b[39;00m \u001b[43mfunction\u001b[49m\u001b[43m(\u001b[49m\u001b[38;5;241;43m*\u001b[39;49m\u001b[43margs\u001b[49m\u001b[43m,\u001b[49m\u001b[43m \u001b[49m\u001b[38;5;241;43m*\u001b[39;49m\u001b[38;5;241;43m*\u001b[39;49m\u001b[43mkwargs\u001b[49m\u001b[43m)\u001b[49m\n",
      "File \u001b[0;32m/dgx1nas1/storage/data/jess/miniforge3/envs/axiom/lib/python3.9/site-packages/polars/io/parquet/functions.py:239\u001b[0m, in \u001b[0;36mread_parquet\u001b[0;34m(source, columns, n_rows, row_index_name, row_index_offset, parallel, use_statistics, hive_partitioning, glob, schema, hive_schema, try_parse_hive_dates, rechunk, low_memory, storage_options, retries, use_pyarrow, pyarrow_options, memory_map, include_file_paths, allow_missing_columns)\u001b[0m\n\u001b[1;32m    236\u001b[0m     \u001b[38;5;28;01melse\u001b[39;00m:\n\u001b[1;32m    237\u001b[0m         lf \u001b[38;5;241m=\u001b[39m lf\u001b[38;5;241m.\u001b[39mselect(columns)\n\u001b[0;32m--> 239\u001b[0m \u001b[38;5;28;01mreturn\u001b[39;00m \u001b[43mlf\u001b[49m\u001b[38;5;241;43m.\u001b[39;49m\u001b[43mcollect\u001b[49m\u001b[43m(\u001b[49m\u001b[43m)\u001b[49m\n",
      "File \u001b[0;32m/dgx1nas1/storage/data/jess/miniforge3/envs/axiom/lib/python3.9/site-packages/polars/lazyframe/frame.py:2055\u001b[0m, in \u001b[0;36mLazyFrame.collect\u001b[0;34m(self, type_coercion, predicate_pushdown, projection_pushdown, simplify_expression, slice_pushdown, comm_subplan_elim, comm_subexpr_elim, cluster_with_columns, collapse_joins, no_optimization, streaming, engine, background, _eager, **_kwargs)\u001b[0m\n\u001b[1;32m   2053\u001b[0m \u001b[38;5;66;03m# Only for testing purposes\u001b[39;00m\n\u001b[1;32m   2054\u001b[0m callback \u001b[38;5;241m=\u001b[39m _kwargs\u001b[38;5;241m.\u001b[39mget(\u001b[38;5;124m\"\u001b[39m\u001b[38;5;124mpost_opt_callback\u001b[39m\u001b[38;5;124m\"\u001b[39m, callback)\n\u001b[0;32m-> 2055\u001b[0m \u001b[38;5;28;01mreturn\u001b[39;00m wrap_df(\u001b[43mldf\u001b[49m\u001b[38;5;241;43m.\u001b[39;49m\u001b[43mcollect\u001b[49m\u001b[43m(\u001b[49m\u001b[43mcallback\u001b[49m\u001b[43m)\u001b[49m)\n",
      "\u001b[0;31mFileNotFoundError\u001b[0m: No such file or directory (os error 2): ...nakemake/outputs/dino/mad_featselect/classifier_results/axiom_binary_predictions.parquet"
     ]
    }
   ],
   "source": [
    "pred_suffix = \"mad_featselect/classifier_results/axiom_binary_predictions.parquet\"\n",
    "null_suffix = \"mad_featselect/classifier_results/axiom_binary_null.parquet\"\n",
    "\n",
    "\n",
    "# Compute metrics\n",
    "cpcnn = process_metrics(pl.read_parquet(f\"{output_dir}/cpcnn/{pred_suffix}\")).with_columns(\n",
    "    pl.lit(\"cpcnn\").alias(\"Feat_type\"),\n",
    "    pl.lit(\"Actual\").alias(\"Model_type\")\n",
    ")\n",
    "dino = process_metrics(pl.read_parquet(f\"{output_dir}/dino/{pred_suffix}\")).with_columns(\n",
    "    pl.lit(\"dino\").alias(\"Feat_type\"),\n",
    "    pl.lit(\"Actual\").alias(\"Model_type\")\n",
    ")\n",
    "cellprofiler = process_metrics(pl.read_parquet(f\"{output_dir}/cellprofiler/{pred_suffix}\")).with_columns(\n",
    "    pl.lit(\"cellprofiler\").alias(\"Feat_type\"),\n",
    "    pl.lit(\"Actual\").alias(\"Model_type\")\n",
    ")\n",
    "\n",
    "cpcnn_null = process_metrics(pl.read_parquet(f\"{output_dir}/cpcnn/{null_suffix}\")).with_columns(\n",
    "    pl.lit(\"cpcnn\").alias(\"Feat_type\"),\n",
    "    pl.lit(\"Random_baseline\").alias(\"Model_type\")\n",
    ")\n",
    "dino_null = process_metrics(pl.read_parquet(f\"{output_dir}/dino/{null_suffix}\")).with_columns(\n",
    "    pl.lit(\"dino\").alias(\"Feat_type\"),\n",
    "    pl.lit(\"Random_baseline\").alias(\"Model_type\")\n",
    ")\n",
    "cellprofiler_null = process_metrics(pl.read_parquet(f\"{output_dir}/cellprofiler/{null_suffix}\")).with_columns(\n",
    "    pl.lit(\"cellprofiler\").alias(\"Feat_type\"),\n",
    "    pl.lit(\"Random_baseline\").alias(\"Model_type\")\n",
    ")\n",
    "\n",
    "# Combine\n",
    "all_results = pl.concat([cpcnn, dino, cellprofiler, cpcnn_null, dino_null, cellprofiler_null], how=\"vertical\")\n",
    "all_results.write_parquet(f\"{results_dir}/compiled_axiom_binary_metrics.parquet\")"
   ]
  }
 ],
 "metadata": {
  "kernelspec": {
   "display_name": "axiom",
   "language": "python",
   "name": "python3"
  },
  "language_info": {
   "codemirror_mode": {
    "name": "ipython",
    "version": 3
   },
   "file_extension": ".py",
   "mimetype": "text/x-python",
   "name": "python",
   "nbconvert_exporter": "python",
   "pygments_lexer": "ipython3",
   "version": "undefined.undefined.undefined"
  }
 },
 "nbformat": 4,
 "nbformat_minor": 2
}
