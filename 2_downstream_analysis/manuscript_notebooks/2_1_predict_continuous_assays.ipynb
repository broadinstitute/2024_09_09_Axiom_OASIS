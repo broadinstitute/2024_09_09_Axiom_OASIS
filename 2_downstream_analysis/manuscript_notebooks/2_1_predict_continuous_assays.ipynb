{
 "cells": [
  {
   "cell_type": "markdown",
   "metadata": {},
   "source": [
    "# Analyze continuous assay prediction"
   ]
  },
  {
   "cell_type": "code",
   "execution_count": 1,
   "metadata": {},
   "outputs": [],
   "source": [
    "import polars as pl\n"
   ]
  },
  {
   "cell_type": "code",
   "execution_count": 11,
   "metadata": {},
   "outputs": [],
   "source": [
    "res_dir = \"../../1_snakemake/outputs\"\n",
    "\n",
    "dino_res = f\"{res_dir}/dino/mad_featselect/classifier_results/axiom_assay_predictions.parquet\"\n",
    "cpcnn_res = f\"{res_dir}/cpcnn/mad_featselect/classifier_results/axiom_continuous_predictions.parquet\"\n",
    "cellprofiler_res = f\"{res_dir}/cellprofiler/mad_featselect/classifier_results/axiom_assay_predictions.parquet\"\n",
    "\n",
    "dino_res_null = f\"{res_dir}/dino/mad_featselect/classifier_results/axiom_assay_null.parquet\"\n",
    "cpcnn_res_null = f\"{res_dir}/cpcnn/mad_featselect/classifier_results/axiom_continuous_null.parquet\"\n",
    "cellprofiler_res_null = f\"{res_dir}/cellprofiler/mad_featselect/classifier_results/axiom_assay_null.parquet\""
   ]
  },
  {
   "cell_type": "code",
   "execution_count": 10,
   "metadata": {},
   "outputs": [
    {
     "data": {
      "text/html": [
       "<div><style>\n",
       ".dataframe > thead > tr,\n",
       ".dataframe > tbody > tr {\n",
       "  text-align: right;\n",
       "  white-space: pre-wrap;\n",
       "}\n",
       "</style>\n",
       "<small>shape: (63_910, 7)</small><table border=\"1\" class=\"dataframe\"><thead><tr><th>Metadata_Plate</th><th>Metadata_Well</th><th>Metadata_Compound</th><th>Metadata_Log10Conc</th><th>Observed</th><th>Predicted</th><th>Variable_Name</th></tr><tr><td>str</td><td>str</td><td>str</td><td>f64</td><td>f32</td><td>f32</td><td>str</td></tr></thead><tbody><tr><td>&quot;plate_41002687&quot;</td><td>&quot;J24&quot;</td><td>&quot;DMSO&quot;</td><td>0.0</td><td>0.054173</td><td>0.087573</td><td>&quot;Metadata_ldh_normalized&quot;</td></tr><tr><td>&quot;plate_41002687&quot;</td><td>&quot;B03&quot;</td><td>&quot;DMSO&quot;</td><td>0.0</td><td>0.012341</td><td>-0.014785</td><td>&quot;Metadata_ldh_normalized&quot;</td></tr><tr><td>&quot;plate_41002687&quot;</td><td>&quot;N17&quot;</td><td>&quot;DMSO&quot;</td><td>0.0</td><td>-0.018336</td><td>-0.030356</td><td>&quot;Metadata_ldh_normalized&quot;</td></tr><tr><td>&quot;plate_41002687&quot;</td><td>&quot;L03&quot;</td><td>&quot;DMSO&quot;</td><td>0.0</td><td>0.020707</td><td>-0.021875</td><td>&quot;Metadata_ldh_normalized&quot;</td></tr><tr><td>&quot;plate_41002687&quot;</td><td>&quot;D13&quot;</td><td>&quot;DMSO&quot;</td><td>0.0</td><td>-0.035069</td><td>-0.013877</td><td>&quot;Metadata_ldh_normalized&quot;</td></tr><tr><td>&hellip;</td><td>&hellip;</td><td>&hellip;</td><td>&hellip;</td><td>&hellip;</td><td>&hellip;</td><td>&hellip;</td></tr><tr><td>&quot;plate_41002960&quot;</td><td>&quot;N23&quot;</td><td>&quot;DMSO&quot;</td><td>0.0</td><td>548.0</td><td>590.220398</td><td>&quot;Metadata_Count_Cells&quot;</td></tr><tr><td>&quot;plate_41002960&quot;</td><td>&quot;A11&quot;</td><td>&quot;DMSO&quot;</td><td>0.0</td><td>708.0</td><td>789.383667</td><td>&quot;Metadata_Count_Cells&quot;</td></tr><tr><td>&quot;plate_41002960&quot;</td><td>&quot;B05&quot;</td><td>&quot;DMSO&quot;</td><td>0.0</td><td>770.0</td><td>819.089294</td><td>&quot;Metadata_Count_Cells&quot;</td></tr><tr><td>&quot;plate_41002960&quot;</td><td>&quot;L04&quot;</td><td>&quot;DMSO&quot;</td><td>0.0</td><td>585.0</td><td>721.137634</td><td>&quot;Metadata_Count_Cells&quot;</td></tr><tr><td>&quot;plate_41002960&quot;</td><td>&quot;P11&quot;</td><td>&quot;DMSO&quot;</td><td>0.0</td><td>506.0</td><td>603.862305</td><td>&quot;Metadata_Count_Cells&quot;</td></tr></tbody></table></div>"
      ],
      "text/plain": [
       "shape: (63_910, 7)\n",
       "┌──────────────┬──────────────┬──────────────┬──────────────┬───────────┬────────────┬─────────────┐\n",
       "│ Metadata_Pla ┆ Metadata_Wel ┆ Metadata_Com ┆ Metadata_Log ┆ Observed  ┆ Predicted  ┆ Variable_Na │\n",
       "│ te           ┆ l            ┆ pound        ┆ 10Conc       ┆ ---       ┆ ---        ┆ me          │\n",
       "│ ---          ┆ ---          ┆ ---          ┆ ---          ┆ f32       ┆ f32        ┆ ---         │\n",
       "│ str          ┆ str          ┆ str          ┆ f64          ┆           ┆            ┆ str         │\n",
       "╞══════════════╪══════════════╪══════════════╪══════════════╪═══════════╪════════════╪═════════════╡\n",
       "│ plate_410026 ┆ J24          ┆ DMSO         ┆ 0.0          ┆ 0.054173  ┆ 0.087573   ┆ Metadata_ld │\n",
       "│ 87           ┆              ┆              ┆              ┆           ┆            ┆ h_normalize │\n",
       "│              ┆              ┆              ┆              ┆           ┆            ┆ d           │\n",
       "│ plate_410026 ┆ B03          ┆ DMSO         ┆ 0.0          ┆ 0.012341  ┆ -0.014785  ┆ Metadata_ld │\n",
       "│ 87           ┆              ┆              ┆              ┆           ┆            ┆ h_normalize │\n",
       "│              ┆              ┆              ┆              ┆           ┆            ┆ d           │\n",
       "│ plate_410026 ┆ N17          ┆ DMSO         ┆ 0.0          ┆ -0.018336 ┆ -0.030356  ┆ Metadata_ld │\n",
       "│ 87           ┆              ┆              ┆              ┆           ┆            ┆ h_normalize │\n",
       "│              ┆              ┆              ┆              ┆           ┆            ┆ d           │\n",
       "│ plate_410026 ┆ L03          ┆ DMSO         ┆ 0.0          ┆ 0.020707  ┆ -0.021875  ┆ Metadata_ld │\n",
       "│ 87           ┆              ┆              ┆              ┆           ┆            ┆ h_normalize │\n",
       "│              ┆              ┆              ┆              ┆           ┆            ┆ d           │\n",
       "│ plate_410026 ┆ D13          ┆ DMSO         ┆ 0.0          ┆ -0.035069 ┆ -0.013877  ┆ Metadata_ld │\n",
       "│ 87           ┆              ┆              ┆              ┆           ┆            ┆ h_normalize │\n",
       "│              ┆              ┆              ┆              ┆           ┆            ┆ d           │\n",
       "│ …            ┆ …            ┆ …            ┆ …            ┆ …         ┆ …          ┆ …           │\n",
       "│ plate_410029 ┆ N23          ┆ DMSO         ┆ 0.0          ┆ 548.0     ┆ 590.220398 ┆ Metadata_Co │\n",
       "│ 60           ┆              ┆              ┆              ┆           ┆            ┆ unt_Cells   │\n",
       "│ plate_410029 ┆ A11          ┆ DMSO         ┆ 0.0          ┆ 708.0     ┆ 789.383667 ┆ Metadata_Co │\n",
       "│ 60           ┆              ┆              ┆              ┆           ┆            ┆ unt_Cells   │\n",
       "│ plate_410029 ┆ B05          ┆ DMSO         ┆ 0.0          ┆ 770.0     ┆ 819.089294 ┆ Metadata_Co │\n",
       "│ 60           ┆              ┆              ┆              ┆           ┆            ┆ unt_Cells   │\n",
       "│ plate_410029 ┆ L04          ┆ DMSO         ┆ 0.0          ┆ 585.0     ┆ 721.137634 ┆ Metadata_Co │\n",
       "│ 60           ┆              ┆              ┆              ┆           ┆            ┆ unt_Cells   │\n",
       "│ plate_410029 ┆ P11          ┆ DMSO         ┆ 0.0          ┆ 506.0     ┆ 603.862305 ┆ Metadata_Co │\n",
       "│ 60           ┆              ┆              ┆              ┆           ┆            ┆ unt_Cells   │\n",
       "└──────────────┴──────────────┴──────────────┴──────────────┴───────────┴────────────┴─────────────┘"
      ]
     },
     "execution_count": 10,
     "metadata": {},
     "output_type": "execute_result"
    }
   ],
   "source": [
    "dino"
   ]
  },
  {
   "cell_type": "code",
   "execution_count": 21,
   "metadata": {},
   "outputs": [],
   "source": [
    "dino = pl.read_parquet(dino_res).with_columns(\n",
    "    pl.lit(\"Actual\").alias(\"Model_type\"),\n",
    "    pl.lit(\"DINO\").alias(\"Representation\"),\n",
    ")\n",
    "cpcnn = pl.read_parquet(cpcnn_res).with_columns(\n",
    "    pl.lit(\"Actual\").alias(\"Model_type\"),\n",
    "    pl.lit(\"CP-CNN\").alias(\"Representation\"),\n",
    ")\n",
    "cellprofiler = pl.read_parquet(cellprofiler_res).with_columns(\n",
    "    pl.lit(\"Actual\").alias(\"Model_type\"),\n",
    "    pl.lit(\"CellProfiler\").alias(\"Representation\"),\n",
    ")\n",
    "\n",
    "dino_null = pl.read_parquet(dino_res_null).with_columns(\n",
    "    pl.lit(\"Random\").alias(\"Model_type\"),\n",
    "    pl.lit(\"DINO\").alias(\"Representation\"),\n",
    ")\n",
    "cpcnn_null = pl.read_parquet(cpcnn_res_null).with_columns(\n",
    "    pl.lit(\"Random\").alias(\"Model_type\"),\n",
    "    pl.lit(\"CP-CNN\").alias(\"Representation\"),\n",
    ")\n",
    "cellprofiler_null = pl.read_parquet(cellprofiler_res_null).with_columns(\n",
    "    pl.lit(\"Random\").alias(\"Model_type\"),\n",
    "    pl.lit(\"CellProfiler\").alias(\"Representation\"),\n",
    ")\n",
    "\n",
    "res = pl.concat([\n",
    "    dino, cpcnn, cellprofiler,\n",
    "    dino_null, cpcnn_null, cellprofiler_null,\n",
    "], how=\"vertical\")"
   ]
  },
  {
   "cell_type": "code",
   "execution_count": 22,
   "metadata": {},
   "outputs": [],
   "source": [
    "# Append cell count\n",
    "cc = pl.read_parquet(f\"{res_dir}/dino/mad_featselect/profiles/mad_featselect.parquet\").select(\n",
    "    [\"Metadata_Plate\", \"Metadata_Well\", \"Metadata_Count_Cells\"]\n",
    ")\n",
    "\n",
    "res = res.join(cc, on=[\"Metadata_Plate\", \"Metadata_Well\"])"
   ]
  },
  {
   "cell_type": "code",
   "execution_count": 15,
   "metadata": {},
   "outputs": [],
   "source": [
    "from scipy.stats import linregress\n",
    "\n",
    "def compute_r2_pvalue(x, y):\n",
    "    slope, intercept, r_value, p_value, std_err = linregress(x, y)\n",
    "    r_squared = r_value ** 2\n",
    "    return r_squared, p_value"
   ]
  },
  {
   "cell_type": "code",
   "execution_count": 25,
   "metadata": {},
   "outputs": [
    {
     "data": {
      "text/html": [
       "<div><style>\n",
       ".dataframe > thead > tr,\n",
       ".dataframe > tbody > tr {\n",
       "  text-align: right;\n",
       "  white-space: pre-wrap;\n",
       "}\n",
       "</style>\n",
       "<small>shape: (18, 7)</small><table border=\"1\" class=\"dataframe\"><thead><tr><th>Variable_Name</th><th>Model_type</th><th>Representation</th><th>R2_Observed_vs_Predicted</th><th>pval_Observed_vs_Predicted</th><th>R2_CountCells_vs_Observed</th><th>pval_CountCells_vs_Observed</th></tr><tr><td>str</td><td>str</td><td>str</td><td>f64</td><td>f64</td><td>f64</td><td>f64</td></tr></thead><tbody><tr><td>&quot;Metadata_Count_Cells&quot;</td><td>&quot;Actual&quot;</td><td>&quot;CP-CNN&quot;</td><td>0.886887</td><td>0.0</td><td>1.0</td><td>0.0</td></tr><tr><td>&quot;Metadata_Count_Cells&quot;</td><td>&quot;Actual&quot;</td><td>&quot;CellProfiler&quot;</td><td>0.927043</td><td>0.0</td><td>1.0</td><td>0.0</td></tr><tr><td>&quot;Metadata_Count_Cells&quot;</td><td>&quot;Actual&quot;</td><td>&quot;DINO&quot;</td><td>0.925722</td><td>0.0</td><td>1.0</td><td>0.0</td></tr><tr><td>&quot;Metadata_Count_Cells&quot;</td><td>&quot;Random&quot;</td><td>&quot;CP-CNN&quot;</td><td>0.000161</td><td>0.06321</td><td>0.000002</td><td>0.823299</td></tr><tr><td>&quot;Metadata_Count_Cells&quot;</td><td>&quot;Random&quot;</td><td>&quot;CellProfiler&quot;</td><td>0.000145</td><td>0.078262</td><td>0.000023</td><td>0.481131</td></tr><tr><td>&hellip;</td><td>&hellip;</td><td>&hellip;</td><td>&hellip;</td><td>&hellip;</td><td>&hellip;</td><td>&hellip;</td></tr><tr><td>&quot;Metadata_mtt_normalized&quot;</td><td>&quot;Actual&quot;</td><td>&quot;CellProfiler&quot;</td><td>0.736985</td><td>0.0</td><td>0.374796</td><td>0.0</td></tr><tr><td>&quot;Metadata_mtt_normalized&quot;</td><td>&quot;Actual&quot;</td><td>&quot;DINO&quot;</td><td>0.729268</td><td>0.0</td><td>0.375802</td><td>0.0</td></tr><tr><td>&quot;Metadata_mtt_normalized&quot;</td><td>&quot;Random&quot;</td><td>&quot;CP-CNN&quot;</td><td>0.000012</td><td>0.615625</td><td>4.9091e-9</td><td>0.991812</td></tr><tr><td>&quot;Metadata_mtt_normalized&quot;</td><td>&quot;Random&quot;</td><td>&quot;CellProfiler&quot;</td><td>7.8692e-7</td><td>0.896623</td><td>2.0139e-9</td><td>0.994756</td></tr><tr><td>&quot;Metadata_mtt_normalized&quot;</td><td>&quot;Random&quot;</td><td>&quot;DINO&quot;</td><td>0.000361</td><td>0.005536</td><td>0.000106</td><td>0.132604</td></tr></tbody></table></div>"
      ],
      "text/plain": [
       "shape: (18, 7)\n",
       "┌──────────────┬────────────┬──────────────┬─────────────┬─────────────┬─────────────┬─────────────┐\n",
       "│ Variable_Nam ┆ Model_type ┆ Representati ┆ R2_Observed ┆ pval_Observ ┆ R2_CountCel ┆ pval_CountC │\n",
       "│ e            ┆ ---        ┆ on           ┆ _vs_Predict ┆ ed_vs_Predi ┆ ls_vs_Obser ┆ ells_vs_Obs │\n",
       "│ ---          ┆ str        ┆ ---          ┆ ed          ┆ cted        ┆ ved         ┆ erved       │\n",
       "│ str          ┆            ┆ str          ┆ ---         ┆ ---         ┆ ---         ┆ ---         │\n",
       "│              ┆            ┆              ┆ f64         ┆ f64         ┆ f64         ┆ f64         │\n",
       "╞══════════════╪════════════╪══════════════╪═════════════╪═════════════╪═════════════╪═════════════╡\n",
       "│ Metadata_Cou ┆ Actual     ┆ CP-CNN       ┆ 0.886887    ┆ 0.0         ┆ 1.0         ┆ 0.0         │\n",
       "│ nt_Cells     ┆            ┆              ┆             ┆             ┆             ┆             │\n",
       "│ Metadata_Cou ┆ Actual     ┆ CellProfiler ┆ 0.927043    ┆ 0.0         ┆ 1.0         ┆ 0.0         │\n",
       "│ nt_Cells     ┆            ┆              ┆             ┆             ┆             ┆             │\n",
       "│ Metadata_Cou ┆ Actual     ┆ DINO         ┆ 0.925722    ┆ 0.0         ┆ 1.0         ┆ 0.0         │\n",
       "│ nt_Cells     ┆            ┆              ┆             ┆             ┆             ┆             │\n",
       "│ Metadata_Cou ┆ Random     ┆ CP-CNN       ┆ 0.000161    ┆ 0.06321     ┆ 0.000002    ┆ 0.823299    │\n",
       "│ nt_Cells     ┆            ┆              ┆             ┆             ┆             ┆             │\n",
       "│ Metadata_Cou ┆ Random     ┆ CellProfiler ┆ 0.000145    ┆ 0.078262    ┆ 0.000023    ┆ 0.481131    │\n",
       "│ nt_Cells     ┆            ┆              ┆             ┆             ┆             ┆             │\n",
       "│ …            ┆ …          ┆ …            ┆ …           ┆ …           ┆ …           ┆ …           │\n",
       "│ Metadata_mtt ┆ Actual     ┆ CellProfiler ┆ 0.736985    ┆ 0.0         ┆ 0.374796    ┆ 0.0         │\n",
       "│ _normalized  ┆            ┆              ┆             ┆             ┆             ┆             │\n",
       "│ Metadata_mtt ┆ Actual     ┆ DINO         ┆ 0.729268    ┆ 0.0         ┆ 0.375802    ┆ 0.0         │\n",
       "│ _normalized  ┆            ┆              ┆             ┆             ┆             ┆             │\n",
       "│ Metadata_mtt ┆ Random     ┆ CP-CNN       ┆ 0.000012    ┆ 0.615625    ┆ 4.9091e-9   ┆ 0.991812    │\n",
       "│ _normalized  ┆            ┆              ┆             ┆             ┆             ┆             │\n",
       "│ Metadata_mtt ┆ Random     ┆ CellProfiler ┆ 7.8692e-7   ┆ 0.896623    ┆ 2.0139e-9   ┆ 0.994756    │\n",
       "│ _normalized  ┆            ┆              ┆             ┆             ┆             ┆             │\n",
       "│ Metadata_mtt ┆ Random     ┆ DINO         ┆ 0.000361    ┆ 0.005536    ┆ 0.000106    ┆ 0.132604    │\n",
       "│ _normalized  ┆            ┆              ┆             ┆             ┆             ┆             │\n",
       "└──────────────┴────────────┴──────────────┴─────────────┴─────────────┴─────────────┴─────────────┘"
      ]
     },
     "execution_count": 25,
     "metadata": {},
     "output_type": "execute_result"
    }
   ],
   "source": [
    "results = []\n",
    "for name, group in res.group_by([\"Variable_Name\", \"Model_type\", \"Representation\"]):\n",
    "    var_name, model_type, representation = name\n",
    "    \n",
    "    # Step 1: R² and p-value between Observed and Predicted\n",
    "    r2_obs_pred, pval_obs_pred = compute_r2_pvalue(group[\"Observed\"].to_list(), group[\"Predicted\"].to_list())\n",
    "    \n",
    "    # Step 2: R² and p-value between Metadata_Count_Cells and Predicted\n",
    "    r2_count_pred, pval_count_pred = compute_r2_pvalue(group[\"Metadata_Count_Cells\"].to_list(), group[\"Observed\"].to_list())\n",
    "    \n",
    "    # Store results\n",
    "    results.append({\n",
    "        \"Variable_Name\": var_name,\n",
    "        \"Model_type\": model_type,\n",
    "        \"Representation\": representation,\n",
    "        \"R2_Observed_vs_Predicted\": r2_obs_pred,\n",
    "        \"pval_Observed_vs_Predicted\": pval_obs_pred,\n",
    "        \"R2_CountCells_vs_Observed\": r2_count_pred,\n",
    "        \"pval_CountCells_vs_Observed\": pval_count_pred\n",
    "    })\n",
    "\n",
    "# Convert results to a Polars DataFrame for easy viewing\n",
    "results_df = pl.DataFrame(results).sort([\"Variable_Name\", \"Model_type\", \"Representation\"])\n",
    "results_df"
   ]
  }
 ],
 "metadata": {
  "kernelspec": {
   "display_name": "axiom",
   "language": "python",
   "name": "python3"
  },
  "language_info": {
   "codemirror_mode": {
    "name": "ipython",
    "version": 3
   },
   "file_extension": ".py",
   "mimetype": "text/x-python",
   "name": "python",
   "nbconvert_exporter": "python",
   "pygments_lexer": "ipython3",
   "version": "3.9.19"
  }
 },
 "nbformat": 4,
 "nbformat_minor": 2
}
