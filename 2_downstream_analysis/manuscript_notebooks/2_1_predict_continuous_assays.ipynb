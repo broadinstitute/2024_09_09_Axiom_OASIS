{
 "cells": [
  {
   "cell_type": "markdown",
   "metadata": {},
   "source": [
    "# Analyze continuous assay prediction"
   ]
  },
  {
   "cell_type": "code",
   "execution_count": 1,
   "metadata": {},
   "outputs": [],
   "source": [
    "import polars as pl\n",
    "\n",
    "dat = pl.read_parquet(\"/dgx1nas1/storage/data/jess/repos/2024_09_09_Axiom_OASIS/1_snakemake/outputs/dino/mad_featselect/profiles/mad_featselect.parquet\")\n",
    "\n"
   ]
  },
  {
   "cell_type": "code",
   "execution_count": 3,
   "metadata": {},
   "outputs": [
    {
     "name": "stdout",
     "output_type": "stream",
     "text": [
      "shape: (21_306,)\n",
      "Series: 'AGP_001' [f32]\n",
      "[\n",
      "\t-0.136288\n",
      "\t-0.950066\n",
      "\t2.804061\n",
      "\t0.381711\n",
      "\t0.453453\n",
      "\t…\n",
      "\t-0.659368\n",
      "\t-1.41742\n",
      "\t0.426141\n",
      "\t-1.896852\n",
      "\t-2.037013\n",
      "]\n"
     ]
    }
   ],
   "source": [
    "y = dat[\"AGP_001\"]\n",
    "print(y)"
   ]
  },
  {
   "cell_type": "code",
   "execution_count": 7,
   "metadata": {},
   "outputs": [
    {
     "name": "stdout",
     "output_type": "stream",
     "text": [
      "[[-3.839153  ]\n",
      " [-0.42382163]\n",
      " [-1.1970892 ]\n",
      " ...\n",
      " [-0.81689477]\n",
      " [ 1.3726512 ]\n",
      " [ 2.4770849 ]]\n"
     ]
    }
   ],
   "source": [
    "y = dat.select(pl.col('AGP_001').shuffle(seed=42)).to_numpy()\n",
    "print(y)"
   ]
  }
 ],
 "metadata": {
  "kernelspec": {
   "display_name": "axiom",
   "language": "python",
   "name": "python3"
  },
  "language_info": {
   "codemirror_mode": {
    "name": "ipython",
    "version": 3
   },
   "file_extension": ".py",
   "mimetype": "text/x-python",
   "name": "python",
   "nbconvert_exporter": "python",
   "pygments_lexer": "ipython3",
   "version": "3.9.19"
  }
 },
 "nbformat": 4,
 "nbformat_minor": 2
}
