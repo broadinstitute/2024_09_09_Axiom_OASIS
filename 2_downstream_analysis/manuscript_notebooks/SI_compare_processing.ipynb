{
 "cells": [
  {
   "cell_type": "code",
   "execution_count": 1,
   "metadata": {},
   "outputs": [],
   "source": [
    "import polars as pl \n",
    "import numpy as np"
   ]
  },
  {
   "cell_type": "code",
   "execution_count": 5,
   "metadata": {},
   "outputs": [],
   "source": [
    "output_path = \"../../1_snakemake/outputs\""
   ]
  },
  {
   "cell_type": "code",
   "execution_count": 3,
   "metadata": {},
   "outputs": [],
   "source": [
    "def common_elements_in_lists(*lists):\n",
    "    if not lists:\n",
    "        return []\n",
    "    \n",
    "    intersection_set = set(lists[0])\n",
    "    for lst in lists[1:]:\n",
    "        intersection_set.intersection_update(lst)\n",
    "    return list(intersection_set)\n",
    "\n",
    "def print_pod_stats(feat_type: str):\n",
    "    pods = pl.read_parquet(f\"{output_path}/{feat_type}/mad_featselect/curves/pods.parquet\").select(\n",
    "    [\"Metadata_Compound\", \"bmd\"]\n",
    "    )\n",
    "    pods_int = pl.read_parquet(f\"{output_path}/{feat_type}/mad_int_featselect/curves/pods.parquet\").select(\n",
    "        [\"Metadata_Compound\", \"bmd\"]\n",
    "    ).rename({\"bmd\": \"bmd_int\"})\n",
    "    pods_log10 = pl.read_parquet(f\"{output_path}/{feat_type}/mad_featselect_log10/curves/pods.parquet\").select(\n",
    "        [\"Metadata_Compound\", \"bmd\"]\n",
    "    ).rename({\"bmd\": \"bmd_log10\"})\n",
    "    pods_ap = pl.read_parquet(f\"{output_path}/{feat_type}/mad_featselect_ap/curves/pods.parquet\").select(\n",
    "        [\"Metadata_Compound\", \"bmd\"]\n",
    "    ).rename({\"bmd\": \"bmd_ap\"})\n",
    "\n",
    "    cmpds = pods.select(\"Metadata_Compound\").to_series().to_list()\n",
    "    cmpds_int = pods_int.select(\"Metadata_Compound\").to_series().to_list()\n",
    "    cmpds_log10 = pods_log10.select(\"Metadata_Compound\").to_series().to_list()\n",
    "    cmpds_ap = pods_ap.select(\"Metadata_Compound\").to_series().to_list()\n",
    "\n",
    "    common_cmpds = common_elements_in_lists(cmpds, cmpds_int, cmpds_log10, cmpds_ap)\n",
    "    print(len(common_cmpds))\n",
    "\n",
    "    print(f\"{feat_type} num PODs: {pods.shape[0]}\")\n",
    "    print(f\"{feat_type}_int num PODs: {pods_int.shape[0]}\")\n",
    "    print(f\"{feat_type}_log10 num PODs: {pods_log10.shape[0]}\")\n",
    "    print(f\"{feat_type}_ap num PODs: {pods_ap.shape[0]}\")\n",
    "\n",
    "    print(f\"{feat_type} median POD: {np.round(pods.filter(pl.col('Metadata_Compound').is_in(common_cmpds)).select('bmd').median().item(), 2)}\")\n",
    "    print(f\"{feat_type}_int median POD: {np.round(pods_int.filter(pl.col('Metadata_Compound').is_in(common_cmpds)).select('bmd_int').median().item(), 2)}\")\n",
    "    print(f\"{feat_type}_log10 median POD: {np.round(pods_log10.filter(pl.col('Metadata_Compound').is_in(common_cmpds)).select('bmd_log10').median().item(), 2)}\")\n",
    "    print(f\"{feat_type}_ap median POD: {np.round(pods_ap.filter(pl.col('Metadata_Compound').is_in(common_cmpds)).select('bmd_ap').median().item(), 2)}\")"
   ]
  },
  {
   "cell_type": "code",
   "execution_count": 6,
   "metadata": {},
   "outputs": [
    {
     "name": "stdout",
     "output_type": "stream",
     "text": [
      "187\n",
      "cellprofiler num PODs: 564\n",
      "cellprofiler_int num PODs: 606\n",
      "cellprofiler_log10 num PODs: 564\n",
      "cellprofiler_ap num PODs: 432\n",
      "cellprofiler median POD: 2.82\n",
      "cellprofiler_int median POD: 2.69\n",
      "cellprofiler_log10 median POD: 2.84\n",
      "cellprofiler_ap median POD: 2.76\n"
     ]
    }
   ],
   "source": [
    "print_pod_stats(\"cellprofiler\")"
   ]
  },
  {
   "cell_type": "code",
   "execution_count": 7,
   "metadata": {},
   "outputs": [
    {
     "name": "stdout",
     "output_type": "stream",
     "text": [
      "431\n",
      "dino num PODs: 642\n",
      "dino_int num PODs: 644\n",
      "dino_log10 num PODs: 614\n",
      "dino_ap num PODs: 480\n",
      "dino median POD: 2.89\n",
      "dino_int median POD: 2.89\n",
      "dino_log10 median POD: 2.59\n",
      "dino_ap median POD: 2.89\n"
     ]
    }
   ],
   "source": [
    "print_pod_stats(\"dino\")"
   ]
  }
 ],
 "metadata": {
  "kernelspec": {
   "display_name": "axiom",
   "language": "python",
   "name": "python3"
  },
  "language_info": {
   "codemirror_mode": {
    "name": "ipython",
    "version": 3
   },
   "file_extension": ".py",
   "mimetype": "text/x-python",
   "name": "python",
   "nbconvert_exporter": "python",
   "pygments_lexer": "ipython3",
   "version": "3.9.19"
  }
 },
 "nbformat": 4,
 "nbformat_minor": 2
}
