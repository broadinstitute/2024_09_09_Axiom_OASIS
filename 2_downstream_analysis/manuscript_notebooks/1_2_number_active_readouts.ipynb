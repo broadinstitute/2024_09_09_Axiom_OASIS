{
 "cells": [
  {
   "cell_type": "markdown",
   "metadata": {},
   "source": [
    "# Number of active readouts\n",
    "\n",
    "Compute the number of active compounds for morphology (broken down by distance type and representation), cell count, MTT, and LDH. "
   ]
  },
  {
   "cell_type": "code",
   "execution_count": null,
   "metadata": {},
   "outputs": [],
   "source": [
    "import polars as pl\n",
    "\n",
    "\n",
    "output_dir = \"../../1_snakemake/outputs\"\n",
    "input_dir = \"../../1_snakemake/inputs\"\n",
    "\n",
    "cellprofiler_dir = f\"{output_dir}/cellprofiler/mad_featselect/curves\"\n",
    "cpcnn_dir = f\"{output_dir}/cpcnn/mad_featselect/curves\"\n",
    "dino_dir = f\"{output_dir}/dino/mad_featselect/curves\""
   ]
  },
  {
   "cell_type": "code",
   "execution_count": 2,
   "metadata": {},
   "outputs": [
    {
     "data": {
      "text/plain": [
       "1085"
      ]
     },
     "execution_count": 2,
     "metadata": {},
     "output_type": "execute_result"
    }
   ],
   "source": [
    "# Get total cmpd number\n",
    "len(pl.read_parquet(f\"{dino_dir}/ccpods.parquet\").select(\"Metadata_Compound\").to_series().unique().to_list())"
   ]
  },
  {
   "cell_type": "code",
   "execution_count": 14,
   "metadata": {},
   "outputs": [],
   "source": [
    "# Get info to convert PODs\n",
    "conc_conv = pl.read_parquet(f\"{input_dir}/metadata/metadata.parquet\")\n",
    "conc_conv = conc_conv.filter(pl.col(\"Metadata_Compound\") != \"DMSO\").select(\n",
    "    [\"Metadata_Compound\", \"Metadata_Concentration\"]\n",
    ").group_by(\"Metadata_Compound\").agg([\n",
    "    pl.col(\"Metadata_Concentration\").min().alias(\"Metadata_Min_Conc\")\n",
    "])\n",
    "\n",
    "conc_conv = conc_conv.with_columns(\n",
    "    (pl.col(\"Metadata_Min_Conc\")/3).log10().abs().alias(\"Metadata_Conc_Shift\")\n",
    ")"
   ]
  },
  {
   "cell_type": "code",
   "execution_count": 30,
   "metadata": {},
   "outputs": [],
   "source": [
    "def conv_POD_um(pod_df, conv_df, pod_col, conv_pod_nm):\n",
    "    pod_df = pod_df.join(conv_df, on=\"Metadata_Compound\")\n",
    "\n",
    "    pod_df = pod_df.with_columns(\n",
    "        (10 ** (pl.col(pod_col) - pl.col(\"Metadata_Conc_Shift\"))).alias(conv_pod_nm)\n",
    "    )\n",
    "\n",
    "    return pod_df\n",
    "    "
   ]
  },
  {
   "cell_type": "markdown",
   "metadata": {},
   "source": [
    "## Cell count and biochemical assays"
   ]
  },
  {
   "cell_type": "code",
   "execution_count": 33,
   "metadata": {},
   "outputs": [],
   "source": [
    "# Compile cell count and biochemical assay readouts\n",
    "cc = pl.read_parquet(f\"{dino_dir}/ccpods.parquet\").filter(pl.col(\"all.pass\") == True).select([\"Metadata_Compound\", \"bmd\", \"adv.incr\"]).rename({\"bmd\": \"Metadata_cc_POD\"})\n",
    "cc = conv_POD_um(cc, conc_conv, \"Metadata_cc_POD\", \"Metadata_cc_POD_um\")\n",
    "\n",
    "ldh = pl.read_parquet(f\"{dino_dir}/ldhpods.parquet\").filter(pl.col(\"all.pass\") == True).select([\"Metadata_Compound\", \"bmd\", \"adv.incr\"]).rename({\"bmd\": \"Metadata_ldh_POD\"})\n",
    "ldh = conv_POD_um(ldh, conc_conv, \"Metadata_ldh_POD\", \"Metadata_ldh_POD_um\")\n",
    "\n",
    "mtt = pl.read_parquet(f\"{dino_dir}/mttpods.parquet\").filter(pl.col(\"all.pass\") == True).select([\"Metadata_Compound\", \"bmd\", \"adv.incr\"]).rename({\"bmd\": \"Metadata_mtt_POD\"})\n",
    "mtt = conv_POD_um(mtt, conc_conv, \"Metadata_mtt_POD\", \"Metadata_mtt_POD_um\")"
   ]
  },
  {
   "cell_type": "code",
   "execution_count": 27,
   "metadata": {},
   "outputs": [
    {
     "name": "stdout",
     "output_type": "stream",
     "text": [
      "cell count: 221 total\n",
      "cell count: 3 increase\n",
      "shape: (3, 1)\n",
      "┌───────────────────────────┐\n",
      "│ Metadata_Compound         │\n",
      "│ ---                       │\n",
      "│ str                       │\n",
      "╞═══════════════════════════╡\n",
      "│ Alectinib (Hydrochloride) │\n",
      "│ Baloxavir marboxil        │\n",
      "│ Oritavancin (diphosphate) │\n",
      "└───────────────────────────┘\n",
      "cell count: 218 decrease\n",
      "LDH: 144 total\n",
      "LDH: 143 increase\n",
      "LDH: 1 decrease\n",
      "MTT: 430 total\n",
      "MTT: 10 increase\n",
      "shape: (10, 1)\n",
      "┌─────────────────────────────────┐\n",
      "│ Metadata_Compound               │\n",
      "│ ---                             │\n",
      "│ str                             │\n",
      "╞═════════════════════════════════╡\n",
      "│ Compound_211c050e               │\n",
      "│ Tiratricol                      │\n",
      "│ Tiaprofenic acid                │\n",
      "│ Benzarone                       │\n",
      "│ Estradiol                       │\n",
      "│ Tolcapone                       │\n",
      "│ 6-Mercaptopurine                │\n",
      "│ 2-Ethyl-2-(hydroxymethyl)propa… │\n",
      "│ 2-Ethylanthracene-9,10-dione    │\n",
      "│ Atazanavir                      │\n",
      "└─────────────────────────────────┘\n",
      "MTT: 420 decrease\n"
     ]
    }
   ],
   "source": [
    "\n",
    "print(f\"cell count: {cc.shape[0]} total\")\n",
    "print(f\"cell count: {cc.filter(pl.col('adv.incr') == 'true').shape[0]} increase\")\n",
    "print(cc.filter(pl.col('adv.incr') == 'true').select(\"Metadata_Compound\"))\n",
    "print(f\"cell count: {cc.filter(pl.col('adv.incr') == 'false').shape[0]} decrease\")\n",
    "\n",
    "print(f\"LDH: {ldh.shape[0]} total\")\n",
    "print(f\"LDH: {ldh.filter(pl.col('adv.incr') == 'true').shape[0]} increase\")\n",
    "print(f\"LDH: {ldh.filter(pl.col('adv.incr') == 'false').shape[0]} decrease\")\n",
    "\n",
    "print(f\"MTT: {mtt.shape[0]} total\")\n",
    "print(f\"MTT: {mtt.filter(pl.col('adv.incr') == 'true').shape[0]} increase\")\n",
    "print(mtt.filter(pl.col('adv.incr') == 'true').select(\"Metadata_Compound\"))\n",
    "print(f\"MTT: {mtt.filter(pl.col('adv.incr') == 'false').shape[0]} decrease\")"
   ]
  },
  {
   "cell_type": "code",
   "execution_count": 28,
   "metadata": {},
   "outputs": [
    {
     "name": "stdout",
     "output_type": "stream",
     "text": [
      "Cytotox cmpds: 429\n"
     ]
    }
   ],
   "source": [
    "cc_cmpds = cc.filter(pl.col('adv.incr') == 'false').select(pl.col(\"Metadata_Compound\")).to_series().to_list()\n",
    "ldh_cmpds = ldh.filter(pl.col('adv.incr') == 'true').select(pl.col(\"Metadata_Compound\")).to_series().to_list()\n",
    "mtt_cmpds = mtt.filter(pl.col('adv.incr') == 'false').select(pl.col(\"Metadata_Compound\")).to_series().to_list()\n",
    "\n",
    "cytotox_cmpds = list(set(cc_cmpds + ldh_cmpds + mtt_cmpds))\n",
    "\n",
    "print(f\"Cytotox cmpds: {len(cytotox_cmpds)}\")"
   ]
  },
  {
   "cell_type": "code",
   "execution_count": 29,
   "metadata": {},
   "outputs": [
    {
     "name": "stdout",
     "output_type": "stream",
     "text": [
      "Active cmpds: 438\n"
     ]
    }
   ],
   "source": [
    "cc_cmpds = cc.select(pl.col(\"Metadata_Compound\")).to_series().to_list()\n",
    "ldh_cmpds = ldh.select(pl.col(\"Metadata_Compound\")).to_series().to_list()\n",
    "mtt_cmpds = mtt.select(pl.col(\"Metadata_Compound\")).to_series().to_list()\n",
    "\n",
    "active_cmpds = list(set(cc_cmpds + ldh_cmpds + mtt_cmpds))\n",
    "\n",
    "print(f\"Active cmpds: {len(active_cmpds)}\")"
   ]
  },
  {
   "cell_type": "markdown",
   "metadata": {},
   "source": [
    "## Morphology"
   ]
  },
  {
   "cell_type": "code",
   "execution_count": 46,
   "metadata": {},
   "outputs": [
    {
     "name": "stdout",
     "output_type": "stream",
     "text": [
      "cellprofiler gmd #: (172,)\n",
      "cellprofiler log-scale gmd median: 3.5222091934258897\n",
      "cellprofiler um gmd median: 50.6408064359295\n",
      "cellprofiler cmd #: (598,)\n",
      "cellprofiler log-scale cmd median: 2.951186789189215\n",
      "cellprofiler um cmd median: 12.856598464772283\n",
      "cellprofiler gmd & cmd #: 607\n",
      "cellprofiler um gen bioac median: 13.050927719515423\n"
     ]
    }
   ],
   "source": [
    "# cellprofiler\n",
    "cellprofiler_bmds = pl.read_parquet(f\"{cellprofiler_dir}/bmds.parquet\").with_columns(\n",
    "    (3*pl.col(\"SDctrl\")).alias(\"SDres_thresh\")\n",
    ")\n",
    "cellprofiler_bmds = conv_POD_um(cellprofiler_bmds, conc_conv, \"bmd\", \"bmd_um\")\n",
    "\n",
    "# gmd\n",
    "cellprofiler_gmd = cellprofiler_bmds.filter(\n",
    "    (pl.col(\"gene.id\") == \"gmd\") & (pl.col(\"all.pass\") == \"true\") & (pl.col(\"SDres\") < pl.col(\"SDres_thresh\"))\n",
    ")\n",
    "cellprofiler_gmd_num = cellprofiler_gmd.select(\"Metadata_Compound\").to_series().unique().shape\n",
    "print(f\"cellprofiler gmd #: {cellprofiler_gmd_num}\")\n",
    "print(f\"cellprofiler log-scale gmd median: {cellprofiler_gmd.select(pl.col('bmd').median()).item()}\")\n",
    "print(f\"cellprofiler um gmd median: {cellprofiler_gmd.select(pl.col('bmd_um').median()).item()}\")\n",
    "\n",
    "# cmd\n",
    "cellprofiler_cmd = cellprofiler_bmds.filter(\n",
    "    (pl.col(\"gene.id\") != \"gmd\") & (pl.col(\"all.pass\") == \"true\") & (pl.col(\"SDres\") < pl.col(\"SDres_thresh\"))\n",
    ").group_by(\"Metadata_Compound\").agg(\n",
    "    pl.col(\"bmd\").min().alias(\"bmd\"),\n",
    "    pl.col(\"bmd_um\").min().alias(\"bmd_um\")\n",
    ")\n",
    "cellprofiler_cmd_num = cellprofiler_cmd.select(\"Metadata_Compound\").to_series().unique().shape\n",
    "print(f\"cellprofiler cmd #: {cellprofiler_cmd_num}\")\n",
    "print(f\"cellprofiler log-scale cmd median: {cellprofiler_cmd.select(pl.col('bmd').median()).item()}\")\n",
    "print(f\"cellprofiler um cmd median: {cellprofiler_cmd.select(pl.col('bmd_um').median()).item()}\")\n",
    "\n",
    "# cmd & gmd\n",
    "cellprofiler_all = pl.read_parquet(f\"{cellprofiler_dir}/pods.parquet\")\n",
    "cellprofiler_all = conv_POD_um(cellprofiler_all, conc_conv, \"bmd\", \"bmd_um\")\n",
    "print(f\"cellprofiler gmd & cmd #: {len(cellprofiler_all.select('Metadata_Compound').to_series().unique().to_list())}\")\n",
    "print(f\"cellprofiler um gen bioac median: {cellprofiler_all.select(pl.col('bmd_um').median()).item()}\")"
   ]
  },
  {
   "cell_type": "code",
   "execution_count": 44,
   "metadata": {},
   "outputs": [
    {
     "name": "stdout",
     "output_type": "stream",
     "text": [
      "cpcnn gmd #: (538,)\n",
      "cpcnn log-scale gmd median: 3.239297233623755\n",
      "cpcnn um gmd median: 26.319270777215756\n"
     ]
    }
   ],
   "source": [
    "# CPCNN\n",
    "cpcnn_bmds = pl.read_parquet(f\"{cpcnn_dir}/bmds.parquet\").with_columns(\n",
    "    (3*pl.col(\"SDctrl\")).alias(\"SDres_thresh\")\n",
    ")\n",
    "cpcnn_bmds = conv_POD_um(cpcnn_bmds, conc_conv, \"bmd\", \"bmd_um\")\n",
    "\n",
    "cpcnn_gmd = cpcnn_bmds.filter(\n",
    "    (pl.col(\"gene.id\") == \"gmd\") & (pl.col(\"all.pass\") == \"true\") & (pl.col(\"SDres\") < pl.col(\"SDres_thresh\"))\n",
    ")\n",
    "cpcnn_gmd_num = cpcnn_gmd.select(\"Metadata_Compound\").to_series().unique().shape\n",
    "\n",
    "print(f\"cpcnn gmd #: {cpcnn_gmd_num}\")\n",
    "print(f\"cpcnn log-scale gmd median: {cpcnn_gmd.select(pl.col('bmd').median()).item()}\")\n",
    "print(f\"cpcnn um gmd median: {cpcnn_gmd.select(pl.col('bmd_um').median()).item()}\")"
   ]
  },
  {
   "cell_type": "code",
   "execution_count": 47,
   "metadata": {},
   "outputs": [
    {
     "name": "stdout",
     "output_type": "stream",
     "text": [
      "dino gmd #: (546,)\n",
      "dino log-scale gmd median: 3.00183062346817\n",
      "dino um gmd median: 15.10327685892894\n",
      "dino cmd #: (624,)\n",
      "dino log-scale cmd median: 3.162274437178345\n",
      "dino um cmd median: 21.811475458278654\n",
      "Dino gmd & cmd #: 642\n",
      "Dino um gen bioac median: 17.22436693027669\n"
     ]
    }
   ],
   "source": [
    "# DINO\n",
    "dino_bmds = pl.read_parquet(f\"{dino_dir}/bmds.parquet\").with_columns(\n",
    "    (3*pl.col(\"SDctrl\")).alias(\"SDres_thresh\")\n",
    ")\n",
    "dino_bmds = conv_POD_um(dino_bmds, conc_conv, \"bmd\", \"bmd_um\")\n",
    "\n",
    "# gmd\n",
    "dino_gmd = dino_bmds.filter(\n",
    "    (pl.col(\"gene.id\") == \"gmd\") & (pl.col(\"all.pass\") == \"true\") & (pl.col(\"SDres\") < pl.col(\"SDres_thresh\"))\n",
    ")\n",
    "dino_gmd_num = dino_gmd.select(\"Metadata_Compound\").to_series().unique().shape\n",
    "print(f\"dino gmd #: {dino_gmd_num}\")\n",
    "print(f\"dino log-scale gmd median: {dino_gmd.select(pl.col('bmd').median()).item()}\")\n",
    "print(f\"dino um gmd median: {dino_gmd.select(pl.col('bmd_um').median()).item()}\")\n",
    "\n",
    "# cmd\n",
    "dino_cmd = dino_bmds.filter(\n",
    "    (pl.col(\"gene.id\") != \"gmd\") & (pl.col(\"all.pass\") == \"true\") & (pl.col(\"SDres\") < pl.col(\"SDres_thresh\"))\n",
    ").group_by(\"Metadata_Compound\").agg(\n",
    "    pl.col(\"bmd\").min().alias(\"bmd\"),\n",
    "    pl.col(\"bmd_um\").min().alias(\"bmd_um\")\n",
    ")\n",
    "dino_cmd_num = dino_cmd.select(\"Metadata_Compound\").to_series().unique().shape\n",
    "print(f\"dino cmd #: {dino_cmd_num}\")\n",
    "print(f\"dino log-scale cmd median: {dino_cmd.select(pl.col('bmd').median()).item()}\")\n",
    "print(f\"dino um cmd median: {dino_cmd.select(pl.col('bmd_um').median()).item()}\")\n",
    "\n",
    "# cmd & gmd\n",
    "dino_all = pl.read_parquet(f\"{dino_dir}/pods.parquet\")\n",
    "dino_all = conv_POD_um(dino_all, conc_conv, \"bmd\", \"bmd_um\")\n",
    "print(f\"Dino gmd & cmd #: {len(dino_all.select('Metadata_Compound').to_series().unique().to_list())}\")\n",
    "print(f\"Dino um gen bioac median: {dino_all.select(pl.col('bmd_um').median()).item()}\")"
   ]
  }
 ],
 "metadata": {
  "kernelspec": {
   "display_name": "axiom",
   "language": "python",
   "name": "python3"
  },
  "language_info": {
   "codemirror_mode": {
    "name": "ipython",
    "version": 3
   },
   "file_extension": ".py",
   "mimetype": "text/x-python",
   "name": "python",
   "nbconvert_exporter": "python",
   "pygments_lexer": "ipython3",
   "version": "3.9.19"
  }
 },
 "nbformat": 4,
 "nbformat_minor": 2
}
