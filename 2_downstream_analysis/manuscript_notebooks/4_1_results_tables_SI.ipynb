{
 "cells": [
  {
   "cell_type": "markdown",
   "metadata": {},
   "source": [
    "# Format tables as CSV for SI\n",
    "\n",
    "Most results produced by Snakemake are in parquet format. We want nicely formatted CSVs to include in the Supplementary Information.\n",
    "\n",
    "- PODs for LDH, MT, and cell counts\n",
    "- PODs for each representation (one csv with all passing QA/QC with labels for category, another csv with the lowest POD across all)\n",
    "- AUROC for DINO and \"all\" profiles\n"
   ]
  },
  {
   "cell_type": "code",
   "execution_count": 1,
   "metadata": {},
   "outputs": [],
   "source": [
    "import polars as pl\n",
    "\n",
    "input_dir = \"../../1_snakemake/inputs\""
   ]
  },
  {
   "cell_type": "code",
   "execution_count": 9,
   "metadata": {},
   "outputs": [],
   "source": [
    "# Get info to convert PODs\n",
    "conc_conv = pl.read_parquet(f\"{input_dir}/metadata/metadata.parquet\")\n",
    "conc_conv = conc_conv.filter(pl.col(\"Metadata_Compound\") != \"DMSO\").select(\n",
    "    [\"Metadata_Compound\", \"Metadata_Concentration\"]\n",
    ").group_by(\"Metadata_Compound\").agg([\n",
    "    pl.col(\"Metadata_Concentration\").min().alias(\"Metadata_Min_Conc\")\n",
    "])\n",
    "\n",
    "conc_conv = conc_conv.with_columns(\n",
    "    (pl.col(\"Metadata_Min_Conc\")/3).log10().abs().alias(\"Metadata_Conc_Shift\")\n",
    ")\n",
    "\n",
    "def conv_POD_um(pod_df, conv_df, pod_col, conv_pod_nm):\n",
    "    pod_df = pod_df.join(conv_df, on=\"Metadata_Compound\")\n",
    "\n",
    "    pod_df = pod_df.with_columns(\n",
    "        (10 ** (pl.col(pod_col) - pl.col(\"Metadata_Conc_Shift\"))).alias(conv_pod_nm)\n",
    "    ).drop([\"Metadata_Min_Conc\", \"Metadata_Conc_Shift\"])\n",
    "\n",
    "    return pod_df\n",
    "\n",
    "def conv_whole_df(pod_df, conv_df):\n",
    "    pod_df = conv_POD_um(pod_df, conv_df, \"bmd\", \"POD_um\")\n",
    "    pod_df = conv_POD_um(pod_df, conv_df, \"bmdl\", \"POD_um_l\")\n",
    "    pod_df = conv_POD_um(pod_df, conv_df, \"bmdu\", \"POD_um_u\")\n",
    "\n",
    "    pod_df = pod_df.select([\"Metadata_OASIS_ID\", \"Metadata_Compound\", \"gene.id\", \"POD_um\", \"POD_um_l\", \"POD_um_u\"]).rename({\n",
    "        \"Metadata_OASIS_ID\": \"OASIS_ID\",\n",
    "        \"Metadata_Compound\": \"Compound_name\",\n",
    "        \"gene.id\": \"Assay_Endpoint\"\n",
    "        })\n",
    "\n",
    "    return pod_df"
   ]
  },
  {
   "cell_type": "code",
   "execution_count": 40,
   "metadata": {},
   "outputs": [],
   "source": [
    "oasis_id = pl.read_parquet(\"../../1_snakemake/outputs/dino/mad_featselect/profiles/mad_featselect.parquet\").select(\n",
    "    [\"Metadata_OASIS_ID\", \"Metadata_Compound\"]\n",
    ").unique()"
   ]
  },
  {
   "cell_type": "code",
   "execution_count": 41,
   "metadata": {},
   "outputs": [],
   "source": [
    "# Cytotox assays\n",
    "cc = pl.read_parquet(\"../../1_snakemake/outputs/cellprofiler/mad_featselect/curves/ccpods.parquet\").filter(pl.col(\"all.pass\") == \"true\").join(\n",
    "    oasis_id, on=\"Metadata_Compound\", how=\"left\"\n",
    "    )\n",
    "\n",
    "ldh = pl.read_parquet(\"../../1_snakemake/outputs/cellprofiler/mad_featselect/curves/ldhpods.parquet\").filter(pl.col(\"all.pass\") == \"true\").join(\n",
    "    oasis_id, on=\"Metadata_Compound\", how=\"left\"\n",
    "    )\n",
    "\n",
    "mt = pl.read_parquet(\"../../1_snakemake/outputs/cellprofiler/mad_featselect/curves/mttpods.parquet\").filter(pl.col(\"all.pass\") == \"true\").join(\n",
    "    oasis_id, on=\"Metadata_Compound\", how=\"left\"\n",
    "    )\n",
    "\n",
    "# Convert concentration to um\n",
    "cc = conv_whole_df(cc, conc_conv)\n",
    "ldh = conv_whole_df(ldh, conc_conv)\n",
    "mt = conv_whole_df(mt, conc_conv)"
   ]
  },
  {
   "cell_type": "code",
   "execution_count": 42,
   "metadata": {},
   "outputs": [],
   "source": [
    "# Cell Painting assays\n",
    "\n",
    "# cellprofiler\n",
    "cellprofiler_all = pl.read_parquet(\"../../1_snakemake/outputs/cellprofiler/mad_featselect/curves/bmds.parquet\").filter(\n",
    "    (pl.col(\"all.pass\") == True) &\n",
    "    (pl.col(\"SDres\") < 3*pl.col(\"SDctrl\"))\n",
    ").join(oasis_id, on=\"Metadata_Compound\", how=\"left\")\n",
    "\n",
    "cellprofiler_all = conv_whole_df(cellprofiler_all, conc_conv)\n",
    "\n",
    "cellprofiler_all = cellprofiler_all.with_columns(\n",
    "    (pl.col(\"POD_um\") == pl.col(\"POD_um\").min().over(\"Compound_name\")).alias(\"Bioactivity_POD\")\n",
    ")\n",
    "\n",
    "# cp-cnn\n",
    "cpcnn_all = pl.read_parquet(\"../../1_snakemake/outputs/cpcnn/mad_featselect/curves/bmds.parquet\").filter(\n",
    "    (pl.col(\"all.pass\") == True) &\n",
    "    (pl.col(\"SDres\") < 3*pl.col(\"SDctrl\"))\n",
    ").join(oasis_id, on=\"Metadata_Compound\", how=\"left\")\n",
    "\n",
    "cpcnn_all = conv_whole_df(cpcnn_all, conc_conv)\n",
    "\n",
    "cpcnn_all = cpcnn_all.with_columns(\n",
    "    (pl.col(\"POD_um\") == pl.col(\"POD_um\").min().over(\"Compound_name\")).alias(\"Bioactivity_POD\")\n",
    ")\n",
    "\n",
    "# dino\n",
    "dino_all = pl.read_parquet(\"../../1_snakemake/outputs/dino/mad_featselect/curves/bmds.parquet\").filter(\n",
    "    (pl.col(\"all.pass\") == True) &\n",
    "    (pl.col(\"SDres\") < 3*pl.col(\"SDctrl\"))\n",
    ").join(oasis_id, on=\"Metadata_Compound\", how=\"left\")\n",
    "\n",
    "dino_all = conv_whole_df(dino_all, conc_conv)\n",
    "\n",
    "dino_all = dino_all.with_columns(\n",
    "    (pl.col(\"POD_um\") == pl.col(\"POD_um\").min().over(\"Compound_name\")).alias(\"Bioactivity_POD\")\n",
    ")"
   ]
  },
  {
   "cell_type": "code",
   "execution_count": 18,
   "metadata": {},
   "outputs": [],
   "source": [
    "# write out results\n",
    "cc.write_csv(\"../compiled_results/SI_tables/cellcount_pods.csv\")\n",
    "mt.write_csv(\"../compiled_results/SI_tables/mt_pods.csv\")\n",
    "ldh.write_csv(\"../compiled_results/SI_tables/ldh_pods.csv\")\n",
    "\n",
    "cellprofiler_all.write_csv(\"../compiled_results/SI_tables/cellpainting_cellprofiler_pods.csv\")\n",
    "cpcnn_all.write_csv(\"../compiled_results/SI_tables/cellpainting_cpcnn_pods.csv\")\n",
    "dino_all.write_csv(\"../compiled_results/SI_tables/cellpainting_dino_pods.csv\")"
   ]
  },
  {
   "cell_type": "code",
   "execution_count": 47,
   "metadata": {},
   "outputs": [],
   "source": [
    "# Table of conventionally toxic compounds\n",
    "cc_cmpds = cc.select([\"Compound_name\", \"OASIS_ID\"]).with_columns(\n",
    "    pl.lit(\"Yes\").alias(\"Cell_count_hit\")\n",
    ")\n",
    "mt_cmpds = mt.select([\"Compound_name\", \"OASIS_ID\"]).with_columns(\n",
    "    pl.lit(\"Yes\").alias(\"MT_hit\")\n",
    ")\n",
    "ldh_cmpds = ldh.select([\"Compound_name\", \"OASIS_ID\"]).with_columns(\n",
    "    pl.lit(\"Yes\").alias(\"LDH_hit\")\n",
    ")\n",
    "morph_cmpds = dino_all.select([\"Compound_name\", \"OASIS_ID\"]).unique().with_columns(\n",
    "    pl.lit(\"Yes\").alias(\"Cell_Painting_hit\")\n",
    ")\n",
    "\n",
    "oasis_map = oasis_id.rename({\n",
    "    \"Metadata_OASIS_ID\": \"OASIS_ID\",\n",
    "    \"Metadata_Compound\": \"Compound_name\"\n",
    "})\n",
    "\n",
    "hit_summary = oasis_map.join(cc_cmpds, on=[\"Compound_name\", \"OASIS_ID\"], how=\"left\").with_columns(\n",
    "    pl.when(pl.col(\"Cell_count_hit\") == \"Yes\").then(pl.lit(\"Yes\")).otherwise(pl.lit(\"No\")).alias(\"Cell_count_hit\")\n",
    ").join(mt_cmpds, on=[\"Compound_name\", \"OASIS_ID\"], how=\"left\").with_columns(\n",
    "    pl.when(pl.col(\"MT_hit\") == \"Yes\").then(pl.lit(\"Yes\")).otherwise(pl.lit(\"No\")).alias(\"MT_hit\")\n",
    ").join(ldh_cmpds, on=[\"Compound_name\", \"OASIS_ID\"], how=\"left\").with_columns(\n",
    "    pl.when(pl.col(\"LDH_hit\") == \"Yes\").then(pl.lit(\"Yes\")).otherwise(pl.lit(\"No\")).alias(\"LDH_hit\")\n",
    ").join(morph_cmpds, on=[\"Compound_name\", \"OASIS_ID\"], how=\"left\").with_columns(\n",
    "    pl.when(pl.col(\"Cell_Painting_hit\") == \"Yes\").then(pl.lit(\"Yes\")).otherwise(pl.lit(\"No\")).alias(\"Cell_Painting_hit\")\n",
    ").with_columns(\n",
    "    pl.when(\n",
    "        (pl.col(\"Cell_count_hit\") == \"Yes\") &\n",
    "        (pl.col(\"MT_hit\") == \"Yes\") &\n",
    "        (pl.col(\"LDH_hit\") == \"Yes\") &\n",
    "        (pl.col(\"Cell_Painting_hit\") == \"Yes\")\n",
    "        ).then(pl.lit(\"Yes\")).otherwise(pl.lit(\"No\")).alias(\"Hit_in_all_assays\")\n",
    ")"
   ]
  },
  {
   "cell_type": "code",
   "execution_count": 49,
   "metadata": {},
   "outputs": [],
   "source": [
    "# write out results\n",
    "cc.write_csv(\"../compiled_results/SI_tables/cellcount_pods.csv\")\n",
    "mt.write_csv(\"../compiled_results/SI_tables/mt_pods.csv\")\n",
    "ldh.write_csv(\"../compiled_results/SI_tables/ldh_pods.csv\")\n",
    "\n",
    "cellprofiler_all.write_csv(\"../compiled_results/SI_tables/cellpainting_cellprofiler_pods.csv\")\n",
    "cpcnn_all.write_csv(\"../compiled_results/SI_tables/cellpainting_cpcnn_pods.csv\")\n",
    "dino_all.write_csv(\"../compiled_results/SI_tables/cellpainting_dino_pods.csv\")\n",
    "\n",
    "hit_summary.write_csv(\"../compiled_results/SI_tables/hit_summary.csv\")"
   ]
  }
 ],
 "metadata": {
  "kernelspec": {
   "display_name": "axiom",
   "language": "python",
   "name": "python3"
  },
  "language_info": {
   "codemirror_mode": {
    "name": "ipython",
    "version": 3
   },
   "file_extension": ".py",
   "mimetype": "text/x-python",
   "name": "python",
   "nbconvert_exporter": "python",
   "pygments_lexer": "ipython3",
   "version": "3.9.19"
  }
 },
 "nbformat": 4,
 "nbformat_minor": 2
}
