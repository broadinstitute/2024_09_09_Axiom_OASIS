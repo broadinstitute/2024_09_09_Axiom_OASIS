{
 "cells": [
  {
   "cell_type": "markdown",
   "metadata": {},
   "source": [
    "# Format tables as CSV for SI\n",
    "\n",
    "Most results produced by Snakemake are in parquet format. We want nicely formatted CSVs to include in the Supplementary Information.\n",
    "\n",
    "- PODs for LDH, MT, and cell counts\n",
    "- PODs for each representation (one csv with all passing QA/QC with labels for category, another csv with the lowest POD across all)\n",
    "- AUROC for DINO and \"all\" profiles\n"
   ]
  },
  {
   "cell_type": "code",
   "execution_count": 1,
   "metadata": {},
   "outputs": [],
   "source": [
    "import polars as pl\n",
    "\n",
    "input_dir = \"../../1_snakemake/inputs\""
   ]
  },
  {
   "cell_type": "code",
   "execution_count": 2,
   "metadata": {},
   "outputs": [],
   "source": [
    "# Get info to convert PODs\n",
    "conc_conv = pl.read_parquet(f\"{input_dir}/metadata/metadata.parquet\")\n",
    "conc_conv = conc_conv.filter(pl.col(\"Metadata_Compound\") != \"DMSO\").select(\n",
    "    [\"Metadata_Compound\", \"Metadata_Concentration\"]\n",
    ").group_by(\"Metadata_Compound\").agg([\n",
    "    pl.col(\"Metadata_Concentration\").min().alias(\"Metadata_Min_Conc\")\n",
    "])\n",
    "\n",
    "conc_conv = conc_conv.with_columns(\n",
    "    (pl.col(\"Metadata_Min_Conc\")/3).log10().abs().alias(\"Metadata_Conc_Shift\")\n",
    ")\n",
    "\n",
    "def conv_POD_um(pod_df, conv_df, pod_col, conv_pod_nm):\n",
    "    pod_df = pod_df.join(conv_df, on=\"Metadata_Compound\")\n",
    "\n",
    "    pod_df = pod_df.with_columns(\n",
    "        (10 ** (pl.col(pod_col) - pl.col(\"Metadata_Conc_Shift\"))).alias(conv_pod_nm)\n",
    "    ).drop([\"Metadata_Min_Conc\", \"Metadata_Conc_Shift\"])\n",
    "\n",
    "    return pod_df\n",
    "\n",
    "def conv_whole_df(pod_df, conv_df):\n",
    "    pod_df = conv_POD_um(pod_df, conv_df, \"bmd\", \"POD_um\")\n",
    "    pod_df = conv_POD_um(pod_df, conv_df, \"bmdl\", \"POD_um_l\")\n",
    "    pod_df = conv_POD_um(pod_df, conv_df, \"bmdu\", \"POD_um_u\")\n",
    "\n",
    "    pod_df = pod_df.select([\"Metadata_OASIS_ID\", \"Metadata_Compound\", \"gene.id\", \"POD_um\", \"POD_um_l\", \"POD_um_u\"]).rename({\n",
    "        \"Metadata_OASIS_ID\": \"OASIS_ID\",\n",
    "        \"Metadata_Compound\": \"Compound_name\",\n",
    "        \"gene.id\": \"Assay_Endpoint\"\n",
    "        })\n",
    "\n",
    "    return pod_df"
   ]
  },
  {
   "cell_type": "code",
   "execution_count": 17,
   "metadata": {},
   "outputs": [],
   "source": [
    "# Cytotox assays\n",
    "\n",
    "cc = pl.read_parquet(\"../../1_snakemake/outputs/cellprofiler/mad_featselect/curves/ccpods.parquet\").filter(pl.col(\"all.pass\") == \"true\")\n",
    "ldh = pl.read_parquet(\"../../1_snakemake/outputs/cellprofiler/mad_featselect/curves/ldhpods.parquet\").filter(pl.col(\"all.pass\") == \"true\")\n",
    "mt = pl.read_parquet(\"../../1_snakemake/outputs/cellprofiler/mad_featselect/curves/mttpods.parquet\").filter(pl.col(\"all.pass\") == \"true\")\n",
    "\n",
    "# Convert concentration to um\n",
    "cc = conv_whole_df(cc, conc_conv)\n",
    "ldh = conv_whole_df(ldh, conc_conv)\n",
    "mt = conv_whole_df(mt, conc_conv)"
   ]
  },
  {
   "cell_type": "code",
   "execution_count": 3,
   "metadata": {},
   "outputs": [],
   "source": [
    "oasis_id = pl.read_csv(\"../../1_snakemake/inputs/annotations/seal_input/v5_oasis_03Sept2024_simple.csv\").select(\n",
    "    [\"OASIS_ID\", \"PREFERRED_NAME\"]\n",
    ").rename({\n",
    "    \"OASIS_ID\": \"Metadata_OASIS_ID\",\n",
    "    \"PREFERRED_NAME\": \"Metadata_Compound\"\n",
    "})"
   ]
  },
  {
   "cell_type": "code",
   "execution_count": 8,
   "metadata": {},
   "outputs": [],
   "source": [
    "# Cell Painting assays\n",
    "\n",
    "# cellprofiler\n",
    "cellprofiler_all = pl.read_parquet(\"../../1_snakemake/outputs/cellprofiler/mad_featselect/curves/bmds.parquet\").filter(\n",
    "    (pl.col(\"all.pass\") == True) &\n",
    "    (pl.col(\"SDres\") < 3*pl.col(\"SDctrl\"))\n",
    ").join(oasis_id, on=\"Metadata_Compound\")\n",
    "\n",
    "cellprofiler_all = conv_whole_df(cellprofiler_all, conc_conv)\n",
    "\n",
    "cellprofiler_all = cellprofiler_all.with_columns(\n",
    "    (pl.col(\"POD_um\") == pl.col(\"POD_um\").min().over(\"Compound_name\")).alias(\"Bioactivity_POD\")\n",
    ")\n",
    "\n",
    "# cp-cnn\n",
    "cpcnn_all = pl.read_parquet(\"../../1_snakemake/outputs/cpcnn/mad_featselect/curves/bmds.parquet\").filter(\n",
    "    (pl.col(\"all.pass\") == True) &\n",
    "    (pl.col(\"SDres\") < 3*pl.col(\"SDctrl\"))\n",
    ").join(oasis_id, on=\"Metadata_Compound\")\n",
    "\n",
    "cpcnn_all = conv_whole_df(cpcnn_all, conc_conv)\n",
    "\n",
    "cpcnn_all = cpcnn_all.with_columns(\n",
    "    (pl.col(\"POD_um\") == pl.col(\"POD_um\").min().over(\"Compound_name\")).alias(\"Bioactivity_POD\")\n",
    ")\n",
    "\n",
    "# dino\n",
    "dino_all = pl.read_parquet(\"../../1_snakemake/outputs/dino/mad_featselect/curves/bmds.parquet\").filter(\n",
    "    (pl.col(\"all.pass\") == True) &\n",
    "    (pl.col(\"SDres\") < 3*pl.col(\"SDctrl\"))\n",
    ").join(oasis_id, on=\"Metadata_Compound\")\n",
    "\n",
    "dino_all = conv_whole_df(dino_all, conc_conv)\n",
    "\n",
    "dino_all = dino_all.with_columns(\n",
    "    (pl.col(\"POD_um\") == pl.col(\"POD_um\").min().over(\"Compound_name\")).alias(\"Bioactivity_POD\")\n",
    ")"
   ]
  },
  {
   "cell_type": "code",
   "execution_count": 18,
   "metadata": {},
   "outputs": [],
   "source": [
    "# write out results\n",
    "cc.write_csv(\"../compiled_results/SI_tables/cellcount_pods.csv\")\n",
    "mt.write_csv(\"../compiled_results/SI_tables/mt_pods.csv\")\n",
    "ldh.write_csv(\"../compiled_results/SI_tables/ldh_pods.csv\")\n",
    "\n",
    "cellprofiler_all.write_csv(\"../compiled_results/SI_tables/cellpainting_cellprofiler_pods.csv\")\n",
    "cpcnn_all.write_csv(\"../compiled_results/SI_tables/cellpainting_cpcnn_pods.csv\")\n",
    "dino_all.write_csv(\"../compiled_results/SI_tables/cellpainting_dino_pods.csv\")"
   ]
  },
  {
   "cell_type": "code",
   "execution_count": null,
   "metadata": {},
   "outputs": [],
   "source": [
    "# AUROC scores\n",
    "metrics = pl.read_parquet(\"/dgx1nas1/storage/data/jess/repos/2024_09_09_Axiom_OASIS/2_downstream_analysis/compiled_results/compiled_toxcast_cellbased_metrics.parquet\")"
   ]
  },
  {
   "cell_type": "code",
   "execution_count": 15,
   "metadata": {},
   "outputs": [
    {
     "data": {
      "text/html": [
       "<div><style>\n",
       ".dataframe > thead > tr,\n",
       ".dataframe > tbody > tr {\n",
       "  text-align: right;\n",
       "  white-space: pre-wrap;\n",
       "}\n",
       "</style>\n",
       "<small>shape: (267, 8)</small><table border=\"1\" class=\"dataframe\"><thead><tr><th>Metadata_AggType</th><th>Metadata_Label</th><th>Model_type</th><th>AUROC</th><th>PRAUC</th><th>Metadata_Count_0</th><th>Metadata_Count_1</th><th>Feat_type</th></tr><tr><td>str</td><td>str</td><td>str</td><td>f64</td><td>f64</td><td>i32</td><td>i32</td><td>str</td></tr></thead><tbody><tr><td>&quot;all&quot;</td><td>&quot;APR_HepG2_p53Act_24hr&quot;</td><td>&quot;Actual&quot;</td><td>0.458861</td><td>0.030466</td><td>158</td><td>6</td><td>&quot;dino&quot;</td></tr><tr><td>&quot;all&quot;</td><td>&quot;LTEA_HepaRG_CCND1&quot;</td><td>&quot;Actual&quot;</td><td>0.566667</td><td>0.036393</td><td>162</td><td>5</td><td>&quot;dino&quot;</td></tr><tr><td>&quot;all&quot;</td><td>&quot;ATG_EGR_CIS&quot;</td><td>&quot;Actual&quot;</td><td>0.668553</td><td>0.129464</td><td>279</td><td>19</td><td>&quot;dino&quot;</td></tr><tr><td>&quot;all&quot;</td><td>&quot;OT_ER_ERaERa_1440&quot;</td><td>&quot;Actual&quot;</td><td>0.297477</td><td>0.036006</td><td>191</td><td>11</td><td>&quot;dino&quot;</td></tr><tr><td>&quot;all&quot;</td><td>&quot;ATG_PPRE_CIS&quot;</td><td>&quot;Actual&quot;</td><td>0.517504</td><td>0.158391</td><td>251</td><td>47</td><td>&quot;dino&quot;</td></tr><tr><td>&hellip;</td><td>&hellip;</td><td>&hellip;</td><td>&hellip;</td><td>&hellip;</td><td>&hellip;</td><td>&hellip;</td><td>&hellip;</td></tr><tr><td>&quot;all&quot;</td><td>&quot;TOX21_MMP_ratio&quot;</td><td>&quot;Actual&quot;</td><td>0.584151</td><td>0.162444</td><td>568</td><td>84</td><td>&quot;dino&quot;</td></tr><tr><td>&quot;all&quot;</td><td>&quot;OT_ER_ERaERb_0480&quot;</td><td>&quot;Actual&quot;</td><td>0.447415</td><td>0.06068</td><td>187</td><td>15</td><td>&quot;dino&quot;</td></tr><tr><td>&quot;all&quot;</td><td>&quot;ATG_Pax6_CIS&quot;</td><td>&quot;Actual&quot;</td><td>0.715426</td><td>0.156119</td><td>282</td><td>16</td><td>&quot;dino&quot;</td></tr><tr><td>&quot;all&quot;</td><td>&quot;LTEA_HepaRG_GADD45A&quot;</td><td>&quot;Actual&quot;</td><td>0.553763</td><td>0.082525</td><td>155</td><td>12</td><td>&quot;dino&quot;</td></tr><tr><td>&quot;all&quot;</td><td>&quot;ATG_DR4_LXR_CIS&quot;</td><td>&quot;Actual&quot;</td><td>0.662613</td><td>0.144737</td><td>272</td><td>26</td><td>&quot;dino&quot;</td></tr></tbody></table></div>"
      ],
      "text/plain": [
       "shape: (267, 8)\n",
       "┌────────────┬────────────┬────────────┬──────────┬──────────┬────────────┬────────────┬───────────┐\n",
       "│ Metadata_A ┆ Metadata_L ┆ Model_type ┆ AUROC    ┆ PRAUC    ┆ Metadata_C ┆ Metadata_C ┆ Feat_type │\n",
       "│ ggType     ┆ abel       ┆ ---        ┆ ---      ┆ ---      ┆ ount_0     ┆ ount_1     ┆ ---       │\n",
       "│ ---        ┆ ---        ┆ str        ┆ f64      ┆ f64      ┆ ---        ┆ ---        ┆ str       │\n",
       "│ str        ┆ str        ┆            ┆          ┆          ┆ i32        ┆ i32        ┆           │\n",
       "╞════════════╪════════════╪════════════╪══════════╪══════════╪════════════╪════════════╪═══════════╡\n",
       "│ all        ┆ APR_HepG2_ ┆ Actual     ┆ 0.458861 ┆ 0.030466 ┆ 158        ┆ 6          ┆ dino      │\n",
       "│            ┆ p53Act_24h ┆            ┆          ┆          ┆            ┆            ┆           │\n",
       "│            ┆ r          ┆            ┆          ┆          ┆            ┆            ┆           │\n",
       "│ all        ┆ LTEA_HepaR ┆ Actual     ┆ 0.566667 ┆ 0.036393 ┆ 162        ┆ 5          ┆ dino      │\n",
       "│            ┆ G_CCND1    ┆            ┆          ┆          ┆            ┆            ┆           │\n",
       "│ all        ┆ ATG_EGR_CI ┆ Actual     ┆ 0.668553 ┆ 0.129464 ┆ 279        ┆ 19         ┆ dino      │\n",
       "│            ┆ S          ┆            ┆          ┆          ┆            ┆            ┆           │\n",
       "│ all        ┆ OT_ER_ERaE ┆ Actual     ┆ 0.297477 ┆ 0.036006 ┆ 191        ┆ 11         ┆ dino      │\n",
       "│            ┆ Ra_1440    ┆            ┆          ┆          ┆            ┆            ┆           │\n",
       "│ all        ┆ ATG_PPRE_C ┆ Actual     ┆ 0.517504 ┆ 0.158391 ┆ 251        ┆ 47         ┆ dino      │\n",
       "│            ┆ IS         ┆            ┆          ┆          ┆            ┆            ┆           │\n",
       "│ …          ┆ …          ┆ …          ┆ …        ┆ …        ┆ …          ┆ …          ┆ …         │\n",
       "│ all        ┆ TOX21_MMP_ ┆ Actual     ┆ 0.584151 ┆ 0.162444 ┆ 568        ┆ 84         ┆ dino      │\n",
       "│            ┆ ratio      ┆            ┆          ┆          ┆            ┆            ┆           │\n",
       "│ all        ┆ OT_ER_ERaE ┆ Actual     ┆ 0.447415 ┆ 0.06068  ┆ 187        ┆ 15         ┆ dino      │\n",
       "│            ┆ Rb_0480    ┆            ┆          ┆          ┆            ┆            ┆           │\n",
       "│ all        ┆ ATG_Pax6_C ┆ Actual     ┆ 0.715426 ┆ 0.156119 ┆ 282        ┆ 16         ┆ dino      │\n",
       "│            ┆ IS         ┆            ┆          ┆          ┆            ┆            ┆           │\n",
       "│ all        ┆ LTEA_HepaR ┆ Actual     ┆ 0.553763 ┆ 0.082525 ┆ 155        ┆ 12         ┆ dino      │\n",
       "│            ┆ G_GADD45A  ┆            ┆          ┆          ┆            ┆            ┆           │\n",
       "│ all        ┆ ATG_DR4_LX ┆ Actual     ┆ 0.662613 ┆ 0.144737 ┆ 272        ┆ 26         ┆ dino      │\n",
       "│            ┆ R_CIS      ┆            ┆          ┆          ┆            ┆            ┆           │\n",
       "└────────────┴────────────┴────────────┴──────────┴──────────┴────────────┴────────────┴───────────┘"
      ]
     },
     "execution_count": 15,
     "metadata": {},
     "output_type": "execute_result"
    }
   ],
   "source": [
    "metrics.filter(pl.col(\"Metadata_AggType\") == \"all\").filter(pl.col(\"Model_type\") == \"Actual\").filter(pl.col(\"Feat_type\") == \"dino\")"
   ]
  }
 ],
 "metadata": {
  "kernelspec": {
   "display_name": "axiom",
   "language": "python",
   "name": "python3"
  },
  "language_info": {
   "codemirror_mode": {
    "name": "ipython",
    "version": 3
   },
   "file_extension": ".py",
   "mimetype": "text/x-python",
   "name": "python",
   "nbconvert_exporter": "python",
   "pygments_lexer": "ipython3",
   "version": "3.9.19"
  }
 },
 "nbformat": 4,
 "nbformat_minor": 2
}
