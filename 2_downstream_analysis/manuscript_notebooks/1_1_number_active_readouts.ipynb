{
 "cells": [
  {
   "cell_type": "markdown",
   "metadata": {},
   "source": [
    "# Number of active readouts\n",
    "\n",
    "Compute the number of active compounds for morphology (broken down by distance type and representation), cell count, MTT, and LDH. "
   ]
  },
  {
   "cell_type": "code",
   "execution_count": 2,
   "metadata": {},
   "outputs": [],
   "source": [
    "import polars as pl\n",
    "\n",
    "\n",
    "output_dir = \"../../1_snakemake/outputs\"\n",
    "\n",
    "cellprofiler_dir = f\"{output_dir}/cellprofiler/mad_featselect/curves\"\n",
    "cpcnn_dir = f\"{output_dir}/cpcnn/mad_featselect/curves\"\n",
    "dino_dir = f\"{output_dir}/dino/mad_featselect/curves\""
   ]
  },
  {
   "cell_type": "code",
   "execution_count": 5,
   "metadata": {},
   "outputs": [
    {
     "data": {
      "text/plain": [
       "1085"
      ]
     },
     "execution_count": 5,
     "metadata": {},
     "output_type": "execute_result"
    }
   ],
   "source": [
    "# Get total cmpd number\n",
    "len(pl.read_parquet(f\"{cellprofiler_dir}/ccpods.parquet\").select(\"Metadata_Compound\").to_series().unique().to_list())"
   ]
  },
  {
   "cell_type": "markdown",
   "metadata": {},
   "source": [
    "## Cell count and biochemical assays"
   ]
  },
  {
   "cell_type": "code",
   "execution_count": 7,
   "metadata": {},
   "outputs": [],
   "source": [
    "# Compile cell count and biochemical assay readouts\n",
    "cc = pl.read_parquet(f\"{cellprofiler_dir}/ccpods.parquet\").filter(pl.col(\"all.pass\") == True).select([\"Metadata_Compound\", \"bmd\", \"adv.incr\"]).rename({\"bmd\": \"Metadata_cc_POD\"})\n",
    "ldh = pl.read_parquet(f\"{cellprofiler_dir}/ldhpods.parquet\").filter(pl.col(\"all.pass\") == True).select([\"Metadata_Compound\", \"bmd\", \"adv.incr\"]).rename({\"bmd\": \"Metadata_ldh_POD\"})\n",
    "mtt = pl.read_parquet(f\"{cellprofiler_dir}/mttpods.parquet\").filter(pl.col(\"all.pass\") == True).select([\"Metadata_Compound\", \"bmd\", \"adv.incr\"]).rename({\"bmd\": \"Metadata_mtt_POD\"})"
   ]
  },
  {
   "cell_type": "code",
   "execution_count": 11,
   "metadata": {},
   "outputs": [
    {
     "name": "stdout",
     "output_type": "stream",
     "text": [
      "cell count: 220 total\n",
      "cell count: 3 increase\n",
      "cell count: 217 decrease\n",
      "LDH: 147 total\n",
      "LDH: 146 increase\n",
      "LDH: 1 decrease\n",
      "MTT: 431 total\n",
      "MTT: 13 increase\n",
      "MTT: 418 decrease\n"
     ]
    }
   ],
   "source": [
    "\n",
    "print(f\"cell count: {cc.shape[0]} total\")\n",
    "print(f\"cell count: {cc.filter(pl.col('adv.incr') == 'true').shape[0]} increase\")\n",
    "print(f\"cell count: {cc.filter(pl.col('adv.incr') == 'false').shape[0]} decrease\")\n",
    "\n",
    "print(f\"LDH: {ldh.shape[0]} total\")\n",
    "print(f\"LDH: {ldh.filter(pl.col('adv.incr') == 'true').shape[0]} increase\")\n",
    "print(f\"LDH: {ldh.filter(pl.col('adv.incr') == 'false').shape[0]} decrease\")\n",
    "\n",
    "print(f\"MTT: {mtt.shape[0]} total\")\n",
    "print(f\"MTT: {mtt.filter(pl.col('adv.incr') == 'true').shape[0]} increase\")\n",
    "print(f\"MTT: {mtt.filter(pl.col('adv.incr') == 'false').shape[0]} decrease\")"
   ]
  },
  {
   "cell_type": "markdown",
   "metadata": {},
   "source": [
    "## Morphology"
   ]
  },
  {
   "cell_type": "code",
   "execution_count": 22,
   "metadata": {},
   "outputs": [
    {
     "name": "stdout",
     "output_type": "stream",
     "text": [
      "cellprofiler gmd: (172,)\n",
      "cellprofiler gmd & cmd: 607\n"
     ]
    }
   ],
   "source": [
    "# CellProfiler\n",
    "cellprofiler_bmds = pl.read_parquet(f\"{cellprofiler_dir}/bmds.parquet\").with_columns(\n",
    "    (3*pl.col(\"SDctrl\")).alias(\"SDres_thresh\")\n",
    ")\n",
    "cellprofiler_gmd_num = cellprofiler_bmds.filter(\n",
    "    (pl.col(\"gene.id\") == \"gmd\") & (pl.col(\"all.pass\") == \"true\") & (pl.col(\"SDres\") < pl.col(\"SDres_thresh\"))\n",
    ").select(\"Metadata_Compound\").to_series().unique().shape\n",
    "\n",
    "print(f\"cellprofiler gmd: {cellprofiler_gmd_num}\")\n",
    "\n",
    "# cmd & gmd\n",
    "cellprofiler_all = pl.read_parquet(f\"{cellprofiler_dir}/pods.parquet\")\n",
    "print(f\"cellprofiler gmd & cmd: {len(cellprofiler_all.select('Metadata_Compound').to_series().unique().to_list())}\")"
   ]
  },
  {
   "cell_type": "code",
   "execution_count": 18,
   "metadata": {},
   "outputs": [
    {
     "name": "stdout",
     "output_type": "stream",
     "text": [
      "cpcnn gmd: (535,)\n"
     ]
    }
   ],
   "source": [
    "# CPCNN\n",
    "cpcnn_bmds = pl.read_parquet(f\"{cpcnn_dir}/bmds.parquet\").with_columns(\n",
    "    (3*pl.col(\"SDctrl\")).alias(\"SDres_thresh\")\n",
    ")\n",
    "cpcnn_gmd_num = cpcnn_bmds.filter(\n",
    "    (pl.col(\"gene.id\") == \"gmd\") & (pl.col(\"all.pass\") == \"true\") & (pl.col(\"SDres\") < pl.col(\"SDres_thresh\"))\n",
    ").select(\"Metadata_Compound\").to_series().unique().shape\n",
    "\n",
    "print(f\"cpcnn gmd: {cpcnn_gmd_num}\")"
   ]
  },
  {
   "cell_type": "code",
   "execution_count": 21,
   "metadata": {},
   "outputs": [
    {
     "name": "stdout",
     "output_type": "stream",
     "text": [
      "Dino gmd: (545,)\n",
      "Dino gmd & cmd: 646\n"
     ]
    }
   ],
   "source": [
    "# DINO gmd\n",
    "dino_bmds = pl.read_parquet(f\"{dino_dir}/bmds.parquet\").with_columns(\n",
    "    (3*pl.col(\"SDctrl\")).alias(\"SDres_thresh\")\n",
    ")\n",
    "dino_gmd_num = dino_bmds.filter(\n",
    "    (pl.col(\"gene.id\") == \"gmd\") & (pl.col(\"all.pass\") == \"true\") & (pl.col(\"SDres\") < pl.col(\"SDres_thresh\"))\n",
    ").select(\"Metadata_Compound\").to_series().unique().shape\n",
    "\n",
    "print(f\"Dino gmd: {dino_gmd_num}\")\n",
    "\n",
    "# cmd & gmd\n",
    "dino_all = pl.read_parquet(f\"{dino_dir}/pods.parquet\")\n",
    "print(f\"Dino gmd & cmd: {len(dino_all.select('Metadata_Compound').to_series().unique().to_list())}\")"
   ]
  }
 ],
 "metadata": {
  "kernelspec": {
   "display_name": "axiom",
   "language": "python",
   "name": "python3"
  },
  "language_info": {
   "codemirror_mode": {
    "name": "ipython",
    "version": 3
   },
   "file_extension": ".py",
   "mimetype": "text/x-python",
   "name": "python",
   "nbconvert_exporter": "python",
   "pygments_lexer": "ipython3",
   "version": "3.9.19"
  }
 },
 "nbformat": 4,
 "nbformat_minor": 2
}
